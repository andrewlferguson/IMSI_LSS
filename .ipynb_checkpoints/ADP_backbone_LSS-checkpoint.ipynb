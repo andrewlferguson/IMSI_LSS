{
 "cells": [
  {
   "cell_type": "markdown",
   "metadata": {
    "id": "f31EiiwRKbrt"
   },
   "source": [
    "# LSS applied to backbone generation of Alanine dipeptide (ADP)"
   ]
  },
  {
   "cell_type": "markdown",
   "metadata": {
    "id": "9BFdLInmqqHC"
   },
   "source": [
    "GitHub:\n",
    "https://github.com/andrewlferguson/IMSI_LSS\n",
    "https://github.com/Ferg-Lab/LSS\n",
    "\n",
    "Paper:\n",
    "@article{sidky2020molecular,\n",
    "  title={Molecular latent space simulators},\n",
    "  author={Sidky, Hythem and Chen, Wei and Ferguson, Andrew L},\n",
    "  journal={Chemical Science},\n",
    "  volume={11},\n",
    "  number={35},\n",
    "  pages={9459--9467},\n",
    "  year={2020},\n",
    "  publisher={Royal Society of Chemistry}\n",
    "}\n",
    "\n",
    "Tutorial:\n",
    "@article{jones2024tutorial,\n",
    "  title={Tutorial on Molecular Latent Space Simulators (LSSs): Spatially and temporally continuous data-driven surrogate dynamical models of molecular systems},\n",
    "  author={Jones, Michael S and Shmilovich, Kirill and Ferguson, Andrew L},\n",
    "  journal={Journal of Physical Chemistry A},\n",
    "  volume={128},\n",
    "  pages={10299--10317},\n",
    "  year={2024},\n",
    "  publisher={American Chemical Society},\n",
    "  doi={https://doi.org/10.1021/acs.jpca.4c05389}\n",
    "}"
   ]
  },
  {
   "cell_type": "markdown",
   "metadata": {
    "id": "Rsz_KDmgRz4n"
   },
   "source": [
    "## Allocating GPU accelerator (~1 min)"
   ]
  },
  {
   "cell_type": "code",
   "execution_count": 1,
   "metadata": {
    "id": "JG6DnjwMmqAC"
   },
   "outputs": [],
   "source": [
    "import torch"
   ]
  },
  {
   "cell_type": "code",
   "execution_count": 2,
   "metadata": {
    "colab": {
     "base_uri": "https://localhost:8080/",
     "height": 0
    },
    "id": "Xuza1E4qRcWM",
    "outputId": "f38a9804-0666-4a79-bca3-b60768a11b4d"
   },
   "outputs": [
    {
     "name": "stdout",
     "output_type": "stream",
     "text": [
      "GPU available\n"
     ]
    }
   ],
   "source": [
    "if torch.cuda.is_available():\n",
    "  print('GPU available')\n",
    "else:\n",
    "  print('Please set GPU via Edit -> Notebook Settings.')"
   ]
  },
  {
   "cell_type": "code",
   "execution_count": 3,
   "metadata": {
    "colab": {
     "base_uri": "https://localhost:8080/",
     "height": 36
    },
    "id": "1svAqZXrKbr0",
    "outputId": "b00c4f19-87e4-4244-aa8d-62e24b15ab44"
   },
   "outputs": [
    {
     "data": {
      "application/vnd.google.colaboratory.intrinsic+json": {
       "type": "string"
      },
      "text/plain": [
       "'cuda'"
      ]
     },
     "execution_count": 3,
     "metadata": {},
     "output_type": "execute_result"
    }
   ],
   "source": [
    "device= 'cuda' if torch.cuda.is_available() else 'cpu'\n",
    "device"
   ]
  },
  {
   "cell_type": "markdown",
   "metadata": {
    "id": "Ccqa7l2yPTRA"
   },
   "source": [
    "# Uploading files (~3 mins)\n",
    "### (i) alanine-dipeptide-0-250ns-nowater.xtc\n",
    "### (ii) alanine-dipeptide-nowater.pdb\n",
    "#### N.B. If file upload fails, try using alternate upload means by clicking on file icon in left menu and directly uploading to colab session storage or by uploading to and mounting Google Drive"
   ]
  },
  {
   "cell_type": "code",
   "execution_count": 5,
   "metadata": {
    "colab": {
     "base_uri": "https://localhost:8080/",
     "height": 76
    },
    "id": "WLP1kalcPYH6",
    "outputId": "76c381a9-555f-4e5a-b6ef-1e4aab02c2b5"
   },
   "outputs": [
    {
     "data": {
      "text/html": [
       "\n",
       "     <input type=\"file\" id=\"files-d20936df-422e-4c09-846e-9f02d315f654\" name=\"files[]\" multiple disabled\n",
       "        style=\"border:none\" />\n",
       "     <output id=\"result-d20936df-422e-4c09-846e-9f02d315f654\">\n",
       "      Upload widget is only available when the cell has been executed in the\n",
       "      current browser session. Please rerun this cell to enable.\n",
       "      </output>\n",
       "      <script>// Copyright 2017 Google LLC\n",
       "//\n",
       "// Licensed under the Apache License, Version 2.0 (the \"License\");\n",
       "// you may not use this file except in compliance with the License.\n",
       "// You may obtain a copy of the License at\n",
       "//\n",
       "//      http://www.apache.org/licenses/LICENSE-2.0\n",
       "//\n",
       "// Unless required by applicable law or agreed to in writing, software\n",
       "// distributed under the License is distributed on an \"AS IS\" BASIS,\n",
       "// WITHOUT WARRANTIES OR CONDITIONS OF ANY KIND, either express or implied.\n",
       "// See the License for the specific language governing permissions and\n",
       "// limitations under the License.\n",
       "\n",
       "/**\n",
       " * @fileoverview Helpers for google.colab Python module.\n",
       " */\n",
       "(function(scope) {\n",
       "function span(text, styleAttributes = {}) {\n",
       "  const element = document.createElement('span');\n",
       "  element.textContent = text;\n",
       "  for (const key of Object.keys(styleAttributes)) {\n",
       "    element.style[key] = styleAttributes[key];\n",
       "  }\n",
       "  return element;\n",
       "}\n",
       "\n",
       "// Max number of bytes which will be uploaded at a time.\n",
       "const MAX_PAYLOAD_SIZE = 100 * 1024;\n",
       "\n",
       "function _uploadFiles(inputId, outputId) {\n",
       "  const steps = uploadFilesStep(inputId, outputId);\n",
       "  const outputElement = document.getElementById(outputId);\n",
       "  // Cache steps on the outputElement to make it available for the next call\n",
       "  // to uploadFilesContinue from Python.\n",
       "  outputElement.steps = steps;\n",
       "\n",
       "  return _uploadFilesContinue(outputId);\n",
       "}\n",
       "\n",
       "// This is roughly an async generator (not supported in the browser yet),\n",
       "// where there are multiple asynchronous steps and the Python side is going\n",
       "// to poll for completion of each step.\n",
       "// This uses a Promise to block the python side on completion of each step,\n",
       "// then passes the result of the previous step as the input to the next step.\n",
       "function _uploadFilesContinue(outputId) {\n",
       "  const outputElement = document.getElementById(outputId);\n",
       "  const steps = outputElement.steps;\n",
       "\n",
       "  const next = steps.next(outputElement.lastPromiseValue);\n",
       "  return Promise.resolve(next.value.promise).then((value) => {\n",
       "    // Cache the last promise value to make it available to the next\n",
       "    // step of the generator.\n",
       "    outputElement.lastPromiseValue = value;\n",
       "    return next.value.response;\n",
       "  });\n",
       "}\n",
       "\n",
       "/**\n",
       " * Generator function which is called between each async step of the upload\n",
       " * process.\n",
       " * @param {string} inputId Element ID of the input file picker element.\n",
       " * @param {string} outputId Element ID of the output display.\n",
       " * @return {!Iterable<!Object>} Iterable of next steps.\n",
       " */\n",
       "function* uploadFilesStep(inputId, outputId) {\n",
       "  const inputElement = document.getElementById(inputId);\n",
       "  inputElement.disabled = false;\n",
       "\n",
       "  const outputElement = document.getElementById(outputId);\n",
       "  outputElement.innerHTML = '';\n",
       "\n",
       "  const pickedPromise = new Promise((resolve) => {\n",
       "    inputElement.addEventListener('change', (e) => {\n",
       "      resolve(e.target.files);\n",
       "    });\n",
       "  });\n",
       "\n",
       "  const cancel = document.createElement('button');\n",
       "  inputElement.parentElement.appendChild(cancel);\n",
       "  cancel.textContent = 'Cancel upload';\n",
       "  const cancelPromise = new Promise((resolve) => {\n",
       "    cancel.onclick = () => {\n",
       "      resolve(null);\n",
       "    };\n",
       "  });\n",
       "\n",
       "  // Wait for the user to pick the files.\n",
       "  const files = yield {\n",
       "    promise: Promise.race([pickedPromise, cancelPromise]),\n",
       "    response: {\n",
       "      action: 'starting',\n",
       "    }\n",
       "  };\n",
       "\n",
       "  cancel.remove();\n",
       "\n",
       "  // Disable the input element since further picks are not allowed.\n",
       "  inputElement.disabled = true;\n",
       "\n",
       "  if (!files) {\n",
       "    return {\n",
       "      response: {\n",
       "        action: 'complete',\n",
       "      }\n",
       "    };\n",
       "  }\n",
       "\n",
       "  for (const file of files) {\n",
       "    const li = document.createElement('li');\n",
       "    li.append(span(file.name, {fontWeight: 'bold'}));\n",
       "    li.append(span(\n",
       "        `(${file.type || 'n/a'}) - ${file.size} bytes, ` +\n",
       "        `last modified: ${\n",
       "            file.lastModifiedDate ? file.lastModifiedDate.toLocaleDateString() :\n",
       "                                    'n/a'} - `));\n",
       "    const percent = span('0% done');\n",
       "    li.appendChild(percent);\n",
       "\n",
       "    outputElement.appendChild(li);\n",
       "\n",
       "    const fileDataPromise = new Promise((resolve) => {\n",
       "      const reader = new FileReader();\n",
       "      reader.onload = (e) => {\n",
       "        resolve(e.target.result);\n",
       "      };\n",
       "      reader.readAsArrayBuffer(file);\n",
       "    });\n",
       "    // Wait for the data to be ready.\n",
       "    let fileData = yield {\n",
       "      promise: fileDataPromise,\n",
       "      response: {\n",
       "        action: 'continue',\n",
       "      }\n",
       "    };\n",
       "\n",
       "    // Use a chunked sending to avoid message size limits. See b/62115660.\n",
       "    let position = 0;\n",
       "    do {\n",
       "      const length = Math.min(fileData.byteLength - position, MAX_PAYLOAD_SIZE);\n",
       "      const chunk = new Uint8Array(fileData, position, length);\n",
       "      position += length;\n",
       "\n",
       "      const base64 = btoa(String.fromCharCode.apply(null, chunk));\n",
       "      yield {\n",
       "        response: {\n",
       "          action: 'append',\n",
       "          file: file.name,\n",
       "          data: base64,\n",
       "        },\n",
       "      };\n",
       "\n",
       "      let percentDone = fileData.byteLength === 0 ?\n",
       "          100 :\n",
       "          Math.round((position / fileData.byteLength) * 100);\n",
       "      percent.textContent = `${percentDone}% done`;\n",
       "\n",
       "    } while (position < fileData.byteLength);\n",
       "  }\n",
       "\n",
       "  // All done.\n",
       "  yield {\n",
       "    response: {\n",
       "      action: 'complete',\n",
       "    }\n",
       "  };\n",
       "}\n",
       "\n",
       "scope.google = scope.google || {};\n",
       "scope.google.colab = scope.google.colab || {};\n",
       "scope.google.colab._files = {\n",
       "  _uploadFiles,\n",
       "  _uploadFilesContinue,\n",
       "};\n",
       "})(self);\n",
       "</script> "
      ],
      "text/plain": [
       "<IPython.core.display.HTML object>"
      ]
     },
     "metadata": {},
     "output_type": "display_data"
    },
    {
     "name": "stdout",
     "output_type": "stream",
     "text": [
      "Saving alanine-dipeptide-0-250ns-nowater.xtc to alanine-dipeptide-0-250ns-nowater.xtc\n"
     ]
    }
   ],
   "source": [
    "from google.colab import files\n",
    "files.upload()"
   ]
  },
  {
   "cell_type": "markdown",
   "metadata": {
    "id": "Z8jFqqLaO7y5"
   },
   "source": [
    "## Install necessary packages (~10 mins)"
   ]
  },
  {
   "cell_type": "code",
   "execution_count": 4,
   "metadata": {
    "colab": {
     "base_uri": "https://localhost:8080/",
     "height": 0
    },
    "id": "9Zi6dRJzK4K2",
    "outputId": "a90c088d-6fed-4961-b999-d0ebd91ab130"
   },
   "outputs": [
    {
     "name": "stdout",
     "output_type": "stream",
     "text": [
      "Requirement already satisfied: numpy in /usr/local/lib/python3.10/dist-packages (1.25.2)\n",
      "Requirement already satisfied: scipy in /usr/local/lib/python3.10/dist-packages (1.11.4)\n",
      "Requirement already satisfied: pandas in /usr/local/lib/python3.10/dist-packages (2.0.3)\n",
      "Requirement already satisfied: scikit-learn in /usr/local/lib/python3.10/dist-packages (1.2.2)\n",
      "Collecting jupyter\n",
      "  Downloading jupyter-1.0.0-py2.py3-none-any.whl (2.7 kB)\n",
      "Collecting ipywidgets==7.7.2\n",
      "  Downloading ipywidgets-7.7.2-py2.py3-none-any.whl (123 kB)\n",
      "\u001b[2K     \u001b[90m━━━━━━━━━━━━━━━━━━━━━━━━━━━━━━━━━━━━━━━━\u001b[0m \u001b[32m123.4/123.4 kB\u001b[0m \u001b[31m3.7 MB/s\u001b[0m eta \u001b[36m0:00:00\u001b[0m\n",
      "\u001b[?25hRequirement already satisfied: widgetsnbextension in /usr/local/lib/python3.10/dist-packages (3.6.6)\n",
      "Collecting jupyter_contrib_nbextensions\n",
      "  Downloading jupyter_contrib_nbextensions-0.7.0.tar.gz (23.5 MB)\n",
      "\u001b[2K     \u001b[90m━━━━━━━━━━━━━━━━━━━━━━━━━━━━━━━━━━━━━━━━\u001b[0m \u001b[32m23.5/23.5 MB\u001b[0m \u001b[31m51.6 MB/s\u001b[0m eta \u001b[36m0:00:00\u001b[0m\n",
      "\u001b[?25h  Preparing metadata (setup.py) ... \u001b[?25l\u001b[?25hdone\n",
      "Requirement already satisfied: matplotlib in /usr/local/lib/python3.10/dist-packages (3.7.1)\n",
      "Collecting MDTraj\n",
      "  Downloading mdtraj-1.9.9.tar.gz (2.2 MB)\n",
      "\u001b[2K     \u001b[90m━━━━━━━━━━━━━━━━━━━━━━━━━━━━━━━━━━━━━━━━\u001b[0m \u001b[32m2.2/2.2 MB\u001b[0m \u001b[31m88.7 MB/s\u001b[0m eta \u001b[36m0:00:00\u001b[0m\n",
      "\u001b[?25h  Installing build dependencies ... \u001b[?25l\u001b[?25hdone\n",
      "  Getting requirements to build wheel ... \u001b[?25l\u001b[?25hdone\n",
      "  Preparing metadata (pyproject.toml) ... \u001b[?25l\u001b[?25hdone\n",
      "Requirement already satisfied: tqdm in /usr/local/lib/python3.10/dist-packages (4.66.2)\n",
      "Requirement already satisfied: pytest in /usr/local/lib/python3.10/dist-packages (7.4.4)\n",
      "Collecting pyemma\n",
      "  Downloading pyEMMA-2.5.12.tar.gz (1.3 MB)\n",
      "\u001b[2K     \u001b[90m━━━━━━━━━━━━━━━━━━━━━━━━━━━━━━━━━━━━━━━━\u001b[0m \u001b[32m1.3/1.3 MB\u001b[0m \u001b[31m84.4 MB/s\u001b[0m eta \u001b[36m0:00:00\u001b[0m\n",
      "\u001b[?25h  Installing build dependencies ... \u001b[?25l\u001b[?25hdone\n",
      "  Getting requirements to build wheel ... \u001b[?25l\u001b[?25hdone\n",
      "  Preparing metadata (pyproject.toml) ... \u001b[?25l\u001b[?25hdone\n",
      "Collecting deeptime\n",
      "  Using cached deeptime-0.4.4-cp310-cp310-manylinux_2_17_x86_64.manylinux2014_x86_64.whl (2.1 MB)\n",
      "Collecting einops\n",
      "  Downloading einops-0.8.0-py3-none-any.whl (43 kB)\n",
      "\u001b[2K     \u001b[90m━━━━━━━━━━━━━━━━━━━━━━━━━━━━━━━━━━━━━━━━\u001b[0m \u001b[32m43.2/43.2 kB\u001b[0m \u001b[31m6.2 MB/s\u001b[0m eta \u001b[36m0:00:00\u001b[0m\n",
      "\u001b[?25hRequirement already satisfied: torch in /usr/local/lib/python3.10/dist-packages (2.2.1+cu121)\n",
      "Requirement already satisfied: torchvision in /usr/local/lib/python3.10/dist-packages (0.17.1+cu121)\n",
      "Collecting pytorch-lightning\n",
      "  Downloading pytorch_lightning-2.2.3-py3-none-any.whl (802 kB)\n",
      "\u001b[2K     \u001b[90m━━━━━━━━━━━━━━━━━━━━━━━━━━━━━━━━━━━━━━━━\u001b[0m \u001b[32m802.2/802.2 kB\u001b[0m \u001b[31m70.4 MB/s\u001b[0m eta \u001b[36m0:00:00\u001b[0m\n",
      "\u001b[?25hCollecting nglview\n",
      "  Downloading nglview-3.1.2.tar.gz (5.5 MB)\n",
      "\u001b[2K     \u001b[90m━━━━━━━━━━━━━━━━━━━━━━━━━━━━━━━━━━━━━━━━\u001b[0m \u001b[32m5.5/5.5 MB\u001b[0m \u001b[31m91.4 MB/s\u001b[0m eta \u001b[36m0:00:00\u001b[0m\n",
      "\u001b[?25h  Installing build dependencies ... \u001b[?25l\u001b[?25hdone\n",
      "  Getting requirements to build wheel ... \u001b[?25l\u001b[?25hdone\n",
      "  Preparing metadata (pyproject.toml) ... \u001b[?25l\u001b[?25hdone\n",
      "Requirement already satisfied: ipykernel>=4.5.1 in /usr/local/lib/python3.10/dist-packages (from ipywidgets==7.7.2) (5.5.6)\n",
      "Requirement already satisfied: ipython-genutils~=0.2.0 in /usr/local/lib/python3.10/dist-packages (from ipywidgets==7.7.2) (0.2.0)\n",
      "Requirement already satisfied: traitlets>=4.3.1 in /usr/local/lib/python3.10/dist-packages (from ipywidgets==7.7.2) (5.7.1)\n",
      "Requirement already satisfied: ipython>=4.0.0 in /usr/local/lib/python3.10/dist-packages (from ipywidgets==7.7.2) (7.34.0)\n",
      "Collecting jupyterlab-widgets<3,>=1.0.0 (from ipywidgets==7.7.2)\n",
      "  Downloading jupyterlab_widgets-1.1.7-py3-none-any.whl (295 kB)\n",
      "\u001b[2K     \u001b[90m━━━━━━━━━━━━━━━━━━━━━━━━━━━━━━━━━━━━━━━━\u001b[0m \u001b[32m295.4/295.4 kB\u001b[0m \u001b[31m25.0 MB/s\u001b[0m eta \u001b[36m0:00:00\u001b[0m\n",
      "\u001b[?25hRequirement already satisfied: python-dateutil>=2.8.2 in /usr/local/lib/python3.10/dist-packages (from pandas) (2.8.2)\n",
      "Requirement already satisfied: pytz>=2020.1 in /usr/local/lib/python3.10/dist-packages (from pandas) (2023.4)\n",
      "Requirement already satisfied: tzdata>=2022.1 in /usr/local/lib/python3.10/dist-packages (from pandas) (2024.1)\n",
      "Requirement already satisfied: joblib>=1.1.1 in /usr/local/lib/python3.10/dist-packages (from scikit-learn) (1.4.0)\n",
      "Requirement already satisfied: threadpoolctl>=2.0.0 in /usr/local/lib/python3.10/dist-packages (from scikit-learn) (3.4.0)\n",
      "Requirement already satisfied: notebook in /usr/local/lib/python3.10/dist-packages (from jupyter) (6.5.5)\n",
      "Collecting qtconsole (from jupyter)\n",
      "  Downloading qtconsole-5.5.1-py3-none-any.whl (123 kB)\n",
      "\u001b[2K     \u001b[90m━━━━━━━━━━━━━━━━━━━━━━━━━━━━━━━━━━━━━━━━\u001b[0m \u001b[32m123.4/123.4 kB\u001b[0m \u001b[31m18.8 MB/s\u001b[0m eta \u001b[36m0:00:00\u001b[0m\n",
      "\u001b[?25hRequirement already satisfied: jupyter-console in /usr/local/lib/python3.10/dist-packages (from jupyter) (6.1.0)\n",
      "Requirement already satisfied: nbconvert in /usr/local/lib/python3.10/dist-packages (from jupyter) (6.5.4)\n",
      "Collecting jupyter_contrib_core>=0.3.3 (from jupyter_contrib_nbextensions)\n",
      "  Downloading jupyter_contrib_core-0.4.2.tar.gz (17 kB)\n",
      "  Preparing metadata (setup.py) ... \u001b[?25l\u001b[?25hdone\n",
      "Requirement already satisfied: jupyter_core in /usr/local/lib/python3.10/dist-packages (from jupyter_contrib_nbextensions) (5.7.2)\n",
      "Collecting jupyter_highlight_selected_word>=0.1.1 (from jupyter_contrib_nbextensions)\n",
      "  Downloading jupyter_highlight_selected_word-0.2.0-py2.py3-none-any.whl (11 kB)\n",
      "Collecting jupyter_nbextensions_configurator>=0.4.0 (from jupyter_contrib_nbextensions)\n",
      "  Downloading jupyter_nbextensions_configurator-0.6.3-py2.py3-none-any.whl (466 kB)\n",
      "\u001b[2K     \u001b[90m━━━━━━━━━━━━━━━━━━━━━━━━━━━━━━━━━━━━━━━━\u001b[0m \u001b[32m466.9/466.9 kB\u001b[0m \u001b[31m47.9 MB/s\u001b[0m eta \u001b[36m0:00:00\u001b[0m\n",
      "\u001b[?25hRequirement already satisfied: tornado in /usr/local/lib/python3.10/dist-packages (from jupyter_contrib_nbextensions) (6.3.3)\n",
      "Requirement already satisfied: lxml in /usr/local/lib/python3.10/dist-packages (from jupyter_contrib_nbextensions) (4.9.4)\n",
      "Requirement already satisfied: contourpy>=1.0.1 in /usr/local/lib/python3.10/dist-packages (from matplotlib) (1.2.1)\n",
      "Requirement already satisfied: cycler>=0.10 in /usr/local/lib/python3.10/dist-packages (from matplotlib) (0.12.1)\n",
      "Requirement already satisfied: fonttools>=4.22.0 in /usr/local/lib/python3.10/dist-packages (from matplotlib) (4.51.0)\n",
      "Requirement already satisfied: kiwisolver>=1.0.1 in /usr/local/lib/python3.10/dist-packages (from matplotlib) (1.4.5)\n",
      "Requirement already satisfied: packaging>=20.0 in /usr/local/lib/python3.10/dist-packages (from matplotlib) (24.0)\n",
      "Requirement already satisfied: pillow>=6.2.0 in /usr/local/lib/python3.10/dist-packages (from matplotlib) (9.4.0)\n",
      "Requirement already satisfied: pyparsing>=2.3.1 in /usr/local/lib/python3.10/dist-packages (from matplotlib) (3.1.2)\n",
      "Requirement already satisfied: astunparse in /usr/local/lib/python3.10/dist-packages (from MDTraj) (1.6.3)\n",
      "Requirement already satisfied: iniconfig in /usr/local/lib/python3.10/dist-packages (from pytest) (2.0.0)\n",
      "Requirement already satisfied: pluggy<2.0,>=0.12 in /usr/local/lib/python3.10/dist-packages (from pytest) (1.5.0)\n",
      "Requirement already satisfied: exceptiongroup>=1.0.0rc8 in /usr/local/lib/python3.10/dist-packages (from pytest) (1.2.1)\n",
      "Requirement already satisfied: tomli>=1.0.0 in /usr/local/lib/python3.10/dist-packages (from pytest) (2.0.1)\n",
      "Requirement already satisfied: decorator>=4.0.0 in /usr/local/lib/python3.10/dist-packages (from pyemma) (4.4.2)\n",
      "Requirement already satisfied: h5py>=2.7.1 in /usr/local/lib/python3.10/dist-packages (from pyemma) (3.9.0)\n",
      "Collecting pathos (from pyemma)\n",
      "  Downloading pathos-0.3.2-py3-none-any.whl (82 kB)\n",
      "\u001b[2K     \u001b[90m━━━━━━━━━━━━━━━━━━━━━━━━━━━━━━━━━━━━━━━━\u001b[0m \u001b[32m82.1/82.1 kB\u001b[0m \u001b[31m12.5 MB/s\u001b[0m eta \u001b[36m0:00:00\u001b[0m\n",
      "\u001b[?25hRequirement already satisfied: psutil>=3.1.1 in /usr/local/lib/python3.10/dist-packages (from pyemma) (5.9.5)\n",
      "Requirement already satisfied: pyyaml in /usr/local/lib/python3.10/dist-packages (from pyemma) (6.0.1)\n",
      "Requirement already satisfied: filelock in /usr/local/lib/python3.10/dist-packages (from torch) (3.13.4)\n",
      "Requirement already satisfied: typing-extensions>=4.8.0 in /usr/local/lib/python3.10/dist-packages (from torch) (4.11.0)\n",
      "Requirement already satisfied: sympy in /usr/local/lib/python3.10/dist-packages (from torch) (1.12)\n",
      "Requirement already satisfied: networkx in /usr/local/lib/python3.10/dist-packages (from torch) (3.3)\n",
      "Requirement already satisfied: jinja2 in /usr/local/lib/python3.10/dist-packages (from torch) (3.1.3)\n",
      "Requirement already satisfied: fsspec in /usr/local/lib/python3.10/dist-packages (from torch) (2023.6.0)\n",
      "Collecting nvidia-cuda-nvrtc-cu12==12.1.105 (from torch)\n",
      "  Using cached nvidia_cuda_nvrtc_cu12-12.1.105-py3-none-manylinux1_x86_64.whl (23.7 MB)\n",
      "Collecting nvidia-cuda-runtime-cu12==12.1.105 (from torch)\n",
      "  Using cached nvidia_cuda_runtime_cu12-12.1.105-py3-none-manylinux1_x86_64.whl (823 kB)\n",
      "Collecting nvidia-cuda-cupti-cu12==12.1.105 (from torch)\n",
      "  Using cached nvidia_cuda_cupti_cu12-12.1.105-py3-none-manylinux1_x86_64.whl (14.1 MB)\n",
      "Collecting nvidia-cudnn-cu12==8.9.2.26 (from torch)\n",
      "  Using cached nvidia_cudnn_cu12-8.9.2.26-py3-none-manylinux1_x86_64.whl (731.7 MB)\n",
      "Collecting nvidia-cublas-cu12==12.1.3.1 (from torch)\n",
      "  Using cached nvidia_cublas_cu12-12.1.3.1-py3-none-manylinux1_x86_64.whl (410.6 MB)\n",
      "Collecting nvidia-cufft-cu12==11.0.2.54 (from torch)\n",
      "  Using cached nvidia_cufft_cu12-11.0.2.54-py3-none-manylinux1_x86_64.whl (121.6 MB)\n",
      "Collecting nvidia-curand-cu12==10.3.2.106 (from torch)\n",
      "  Using cached nvidia_curand_cu12-10.3.2.106-py3-none-manylinux1_x86_64.whl (56.5 MB)\n",
      "Collecting nvidia-cusolver-cu12==11.4.5.107 (from torch)\n",
      "  Using cached nvidia_cusolver_cu12-11.4.5.107-py3-none-manylinux1_x86_64.whl (124.2 MB)\n",
      "Collecting nvidia-cusparse-cu12==12.1.0.106 (from torch)\n",
      "  Using cached nvidia_cusparse_cu12-12.1.0.106-py3-none-manylinux1_x86_64.whl (196.0 MB)\n",
      "Collecting nvidia-nccl-cu12==2.19.3 (from torch)\n",
      "  Using cached nvidia_nccl_cu12-2.19.3-py3-none-manylinux1_x86_64.whl (166.0 MB)\n",
      "Collecting nvidia-nvtx-cu12==12.1.105 (from torch)\n",
      "  Using cached nvidia_nvtx_cu12-12.1.105-py3-none-manylinux1_x86_64.whl (99 kB)\n",
      "Requirement already satisfied: triton==2.2.0 in /usr/local/lib/python3.10/dist-packages (from torch) (2.2.0)\n",
      "Collecting nvidia-nvjitlink-cu12 (from nvidia-cusolver-cu12==11.4.5.107->torch)\n",
      "  Using cached nvidia_nvjitlink_cu12-12.4.127-py3-none-manylinux2014_x86_64.whl (21.1 MB)\n",
      "Collecting torchmetrics>=0.7.0 (from pytorch-lightning)\n",
      "  Downloading torchmetrics-1.3.2-py3-none-any.whl (841 kB)\n",
      "\u001b[2K     \u001b[90m━━━━━━━━━━━━━━━━━━━━━━━━━━━━━━━━━━━━━━━━\u001b[0m \u001b[32m841.5/841.5 kB\u001b[0m \u001b[31m62.1 MB/s\u001b[0m eta \u001b[36m0:00:00\u001b[0m\n",
      "\u001b[?25hCollecting lightning-utilities>=0.8.0 (from pytorch-lightning)\n",
      "  Downloading lightning_utilities-0.11.2-py3-none-any.whl (26 kB)\n",
      "INFO: pip is looking at multiple versions of nglview to determine which version is compatible with other requirements. This could take a while.\n",
      "Collecting nglview\n",
      "  Downloading nglview-3.1.1.tar.gz (5.5 MB)\n",
      "\u001b[2K     \u001b[90m━━━━━━━━━━━━━━━━━━━━━━━━━━━━━━━━━━━━━━━━\u001b[0m \u001b[32m5.5/5.5 MB\u001b[0m \u001b[31m105.0 MB/s\u001b[0m eta \u001b[36m0:00:00\u001b[0m\n",
      "\u001b[?25h  Installing build dependencies ... \u001b[?25l\u001b[?25hdone\n",
      "  Getting requirements to build wheel ... \u001b[?25l\u001b[?25hdone\n",
      "  Preparing metadata (pyproject.toml) ... \u001b[?25l\u001b[?25hdone\n",
      "  Downloading nglview-3.1.0.tar.gz (5.5 MB)\n",
      "\u001b[2K     \u001b[90m━━━━━━━━━━━━━━━━━━━━━━━━━━━━━━━━━━━━━━━━\u001b[0m \u001b[32m5.5/5.5 MB\u001b[0m \u001b[31m106.2 MB/s\u001b[0m eta \u001b[36m0:00:00\u001b[0m\n",
      "\u001b[?25h  Installing build dependencies ... \u001b[?25l\u001b[?25hdone\n",
      "  Getting requirements to build wheel ... \u001b[?25l\u001b[?25hdone\n",
      "  Preparing metadata (pyproject.toml) ... \u001b[?25l\u001b[?25hdone\n",
      "  Downloading nglview-3.0.8.tar.gz (6.8 MB)\n",
      "\u001b[2K     \u001b[90m━━━━━━━━━━━━━━━━━━━━━━━━━━━━━━━━━━━━━━━━\u001b[0m \u001b[32m6.8/6.8 MB\u001b[0m \u001b[31m110.7 MB/s\u001b[0m eta \u001b[36m0:00:00\u001b[0m\n",
      "\u001b[?25h  Installing build dependencies ... \u001b[?25l\u001b[?25hdone\n",
      "  Getting requirements to build wheel ... \u001b[?25l\u001b[?25hdone\n",
      "  Preparing metadata (pyproject.toml) ... \u001b[?25l\u001b[?25hdone\n",
      "Requirement already satisfied: requests in /usr/local/lib/python3.10/dist-packages (from fsspec->torch) (2.31.0)\n",
      "Requirement already satisfied: aiohttp!=4.0.0a0,!=4.0.0a1 in /usr/local/lib/python3.10/dist-packages (from fsspec->torch) (3.9.5)\n",
      "Requirement already satisfied: jupyter-client in /usr/local/lib/python3.10/dist-packages (from ipykernel>=4.5.1->ipywidgets==7.7.2) (6.1.12)\n",
      "Requirement already satisfied: setuptools>=18.5 in /usr/local/lib/python3.10/dist-packages (from ipython>=4.0.0->ipywidgets==7.7.2) (67.7.2)\n",
      "Collecting jedi>=0.16 (from ipython>=4.0.0->ipywidgets==7.7.2)\n",
      "  Downloading jedi-0.19.1-py2.py3-none-any.whl (1.6 MB)\n",
      "\u001b[2K     \u001b[90m━━━━━━━━━━━━━━━━━━━━━━━━━━━━━━━━━━━━━━━━\u001b[0m \u001b[32m1.6/1.6 MB\u001b[0m \u001b[31m71.0 MB/s\u001b[0m eta \u001b[36m0:00:00\u001b[0m\n",
      "\u001b[?25hRequirement already satisfied: pickleshare in /usr/local/lib/python3.10/dist-packages (from ipython>=4.0.0->ipywidgets==7.7.2) (0.7.5)\n",
      "Requirement already satisfied: prompt-toolkit!=3.0.0,!=3.0.1,<3.1.0,>=2.0.0 in /usr/local/lib/python3.10/dist-packages (from ipython>=4.0.0->ipywidgets==7.7.2) (3.0.43)\n",
      "Requirement already satisfied: pygments in /usr/local/lib/python3.10/dist-packages (from ipython>=4.0.0->ipywidgets==7.7.2) (2.16.1)\n",
      "Requirement already satisfied: backcall in /usr/local/lib/python3.10/dist-packages (from ipython>=4.0.0->ipywidgets==7.7.2) (0.2.0)\n",
      "Requirement already satisfied: matplotlib-inline in /usr/local/lib/python3.10/dist-packages (from ipython>=4.0.0->ipywidgets==7.7.2) (0.1.7)\n",
      "Requirement already satisfied: pexpect>4.3 in /usr/local/lib/python3.10/dist-packages (from ipython>=4.0.0->ipywidgets==7.7.2) (4.9.0)\n",
      "Requirement already satisfied: beautifulsoup4 in /usr/local/lib/python3.10/dist-packages (from nbconvert->jupyter) (4.12.3)\n",
      "Requirement already satisfied: bleach in /usr/local/lib/python3.10/dist-packages (from nbconvert->jupyter) (6.1.0)\n",
      "Requirement already satisfied: defusedxml in /usr/local/lib/python3.10/dist-packages (from nbconvert->jupyter) (0.7.1)\n",
      "Requirement already satisfied: entrypoints>=0.2.2 in /usr/local/lib/python3.10/dist-packages (from nbconvert->jupyter) (0.4)\n",
      "Requirement already satisfied: jupyterlab-pygments in /usr/local/lib/python3.10/dist-packages (from nbconvert->jupyter) (0.3.0)\n",
      "Requirement already satisfied: MarkupSafe>=2.0 in /usr/local/lib/python3.10/dist-packages (from nbconvert->jupyter) (2.1.5)\n",
      "Requirement already satisfied: mistune<2,>=0.8.1 in /usr/local/lib/python3.10/dist-packages (from nbconvert->jupyter) (0.8.4)\n",
      "Requirement already satisfied: nbclient>=0.5.0 in /usr/local/lib/python3.10/dist-packages (from nbconvert->jupyter) (0.10.0)\n",
      "Requirement already satisfied: nbformat>=5.1 in /usr/local/lib/python3.10/dist-packages (from nbconvert->jupyter) (5.10.4)\n",
      "Requirement already satisfied: pandocfilters>=1.4.1 in /usr/local/lib/python3.10/dist-packages (from nbconvert->jupyter) (1.5.1)\n",
      "Requirement already satisfied: tinycss2 in /usr/local/lib/python3.10/dist-packages (from nbconvert->jupyter) (1.2.1)\n",
      "Requirement already satisfied: platformdirs>=2.5 in /usr/local/lib/python3.10/dist-packages (from jupyter_core->jupyter_contrib_nbextensions) (4.2.0)\n",
      "Requirement already satisfied: pyzmq<25,>=17 in /usr/local/lib/python3.10/dist-packages (from notebook->jupyter) (23.2.1)\n",
      "Requirement already satisfied: argon2-cffi in /usr/local/lib/python3.10/dist-packages (from notebook->jupyter) (23.1.0)\n",
      "Requirement already satisfied: nest-asyncio>=1.5 in /usr/local/lib/python3.10/dist-packages (from notebook->jupyter) (1.6.0)\n",
      "Requirement already satisfied: Send2Trash>=1.8.0 in /usr/local/lib/python3.10/dist-packages (from notebook->jupyter) (1.8.3)\n",
      "Requirement already satisfied: terminado>=0.8.3 in /usr/local/lib/python3.10/dist-packages (from notebook->jupyter) (0.18.1)\n",
      "Requirement already satisfied: prometheus-client in /usr/local/lib/python3.10/dist-packages (from notebook->jupyter) (0.20.0)\n",
      "Requirement already satisfied: nbclassic>=0.4.7 in /usr/local/lib/python3.10/dist-packages (from notebook->jupyter) (1.0.0)\n",
      "Requirement already satisfied: six>=1.5 in /usr/local/lib/python3.10/dist-packages (from python-dateutil>=2.8.2->pandas) (1.16.0)\n",
      "Requirement already satisfied: wheel<1.0,>=0.23.0 in /usr/local/lib/python3.10/dist-packages (from astunparse->MDTraj) (0.43.0)\n",
      "Collecting ppft>=1.7.6.8 (from pathos->pyemma)\n",
      "  Downloading ppft-1.7.6.8-py3-none-any.whl (56 kB)\n",
      "\u001b[2K     \u001b[90m━━━━━━━━━━━━━━━━━━━━━━━━━━━━━━━━━━━━━━━━\u001b[0m \u001b[32m56.8/56.8 kB\u001b[0m \u001b[31m8.8 MB/s\u001b[0m eta \u001b[36m0:00:00\u001b[0m\n",
      "\u001b[?25hCollecting dill>=0.3.8 (from pathos->pyemma)\n",
      "  Downloading dill-0.3.8-py3-none-any.whl (116 kB)\n",
      "\u001b[2K     \u001b[90m━━━━━━━━━━━━━━━━━━━━━━━━━━━━━━━━━━━━━━━━\u001b[0m \u001b[32m116.3/116.3 kB\u001b[0m \u001b[31m19.3 MB/s\u001b[0m eta \u001b[36m0:00:00\u001b[0m\n",
      "\u001b[?25hCollecting pox>=0.3.4 (from pathos->pyemma)\n",
      "  Downloading pox-0.3.4-py3-none-any.whl (29 kB)\n",
      "Collecting multiprocess>=0.70.16 (from pathos->pyemma)\n",
      "  Downloading multiprocess-0.70.16-py310-none-any.whl (134 kB)\n",
      "\u001b[2K     \u001b[90m━━━━━━━━━━━━━━━━━━━━━━━━━━━━━━━━━━━━━━━━\u001b[0m \u001b[32m134.8/134.8 kB\u001b[0m \u001b[31m20.1 MB/s\u001b[0m eta \u001b[36m0:00:00\u001b[0m\n",
      "\u001b[?25hCollecting qtpy>=2.4.0 (from qtconsole->jupyter)\n",
      "  Downloading QtPy-2.4.1-py3-none-any.whl (93 kB)\n",
      "\u001b[2K     \u001b[90m━━━━━━━━━━━━━━━━━━━━━━━━━━━━━━━━━━━━━━━━\u001b[0m \u001b[32m93.5/93.5 kB\u001b[0m \u001b[31m13.9 MB/s\u001b[0m eta \u001b[36m0:00:00\u001b[0m\n",
      "\u001b[?25hRequirement already satisfied: mpmath>=0.19 in /usr/local/lib/python3.10/dist-packages (from sympy->torch) (1.3.0)\n",
      "Requirement already satisfied: aiosignal>=1.1.2 in /usr/local/lib/python3.10/dist-packages (from aiohttp!=4.0.0a0,!=4.0.0a1->fsspec->torch) (1.3.1)\n",
      "Requirement already satisfied: attrs>=17.3.0 in /usr/local/lib/python3.10/dist-packages (from aiohttp!=4.0.0a0,!=4.0.0a1->fsspec->torch) (23.2.0)\n",
      "Requirement already satisfied: frozenlist>=1.1.1 in /usr/local/lib/python3.10/dist-packages (from aiohttp!=4.0.0a0,!=4.0.0a1->fsspec->torch) (1.4.1)\n",
      "Requirement already satisfied: multidict<7.0,>=4.5 in /usr/local/lib/python3.10/dist-packages (from aiohttp!=4.0.0a0,!=4.0.0a1->fsspec->torch) (6.0.5)\n",
      "Requirement already satisfied: yarl<2.0,>=1.0 in /usr/local/lib/python3.10/dist-packages (from aiohttp!=4.0.0a0,!=4.0.0a1->fsspec->torch) (1.9.4)\n",
      "Requirement already satisfied: async-timeout<5.0,>=4.0 in /usr/local/lib/python3.10/dist-packages (from aiohttp!=4.0.0a0,!=4.0.0a1->fsspec->torch) (4.0.3)\n",
      "Requirement already satisfied: parso<0.9.0,>=0.8.3 in /usr/local/lib/python3.10/dist-packages (from jedi>=0.16->ipython>=4.0.0->ipywidgets==7.7.2) (0.8.4)\n",
      "Requirement already satisfied: jupyter-server>=1.8 in /usr/local/lib/python3.10/dist-packages (from nbclassic>=0.4.7->notebook->jupyter) (1.24.0)\n",
      "Requirement already satisfied: notebook-shim>=0.2.3 in /usr/local/lib/python3.10/dist-packages (from nbclassic>=0.4.7->notebook->jupyter) (0.2.4)\n",
      "Requirement already satisfied: fastjsonschema>=2.15 in /usr/local/lib/python3.10/dist-packages (from nbformat>=5.1->nbconvert->jupyter) (2.19.1)\n",
      "Requirement already satisfied: jsonschema>=2.6 in /usr/local/lib/python3.10/dist-packages (from nbformat>=5.1->nbconvert->jupyter) (4.19.2)\n",
      "Requirement already satisfied: ptyprocess>=0.5 in /usr/local/lib/python3.10/dist-packages (from pexpect>4.3->ipython>=4.0.0->ipywidgets==7.7.2) (0.7.0)\n",
      "Requirement already satisfied: wcwidth in /usr/local/lib/python3.10/dist-packages (from prompt-toolkit!=3.0.0,!=3.0.1,<3.1.0,>=2.0.0->ipython>=4.0.0->ipywidgets==7.7.2) (0.2.13)\n",
      "Requirement already satisfied: argon2-cffi-bindings in /usr/local/lib/python3.10/dist-packages (from argon2-cffi->notebook->jupyter) (21.2.0)\n",
      "Requirement already satisfied: soupsieve>1.2 in /usr/local/lib/python3.10/dist-packages (from beautifulsoup4->nbconvert->jupyter) (2.5)\n",
      "Requirement already satisfied: webencodings in /usr/local/lib/python3.10/dist-packages (from bleach->nbconvert->jupyter) (0.5.1)\n",
      "Requirement already satisfied: charset-normalizer<4,>=2 in /usr/local/lib/python3.10/dist-packages (from requests->fsspec->torch) (3.3.2)\n",
      "Requirement already satisfied: idna<4,>=2.5 in /usr/local/lib/python3.10/dist-packages (from requests->fsspec->torch) (3.7)\n",
      "Requirement already satisfied: urllib3<3,>=1.21.1 in /usr/local/lib/python3.10/dist-packages (from requests->fsspec->torch) (2.0.7)\n",
      "Requirement already satisfied: certifi>=2017.4.17 in /usr/local/lib/python3.10/dist-packages (from requests->fsspec->torch) (2024.2.2)\n",
      "Requirement already satisfied: jsonschema-specifications>=2023.03.6 in /usr/local/lib/python3.10/dist-packages (from jsonschema>=2.6->nbformat>=5.1->nbconvert->jupyter) (2023.12.1)\n",
      "Requirement already satisfied: referencing>=0.28.4 in /usr/local/lib/python3.10/dist-packages (from jsonschema>=2.6->nbformat>=5.1->nbconvert->jupyter) (0.34.0)\n",
      "Requirement already satisfied: rpds-py>=0.7.1 in /usr/local/lib/python3.10/dist-packages (from jsonschema>=2.6->nbformat>=5.1->nbconvert->jupyter) (0.18.0)\n",
      "Requirement already satisfied: anyio<4,>=3.1.0 in /usr/local/lib/python3.10/dist-packages (from jupyter-server>=1.8->nbclassic>=0.4.7->notebook->jupyter) (3.7.1)\n",
      "Requirement already satisfied: websocket-client in /usr/local/lib/python3.10/dist-packages (from jupyter-server>=1.8->nbclassic>=0.4.7->notebook->jupyter) (1.7.0)\n",
      "Requirement already satisfied: cffi>=1.0.1 in /usr/local/lib/python3.10/dist-packages (from argon2-cffi-bindings->argon2-cffi->notebook->jupyter) (1.16.0)\n",
      "Requirement already satisfied: sniffio>=1.1 in /usr/local/lib/python3.10/dist-packages (from anyio<4,>=3.1.0->jupyter-server>=1.8->nbclassic>=0.4.7->notebook->jupyter) (1.3.1)\n",
      "Requirement already satisfied: pycparser in /usr/local/lib/python3.10/dist-packages (from cffi>=1.0.1->argon2-cffi-bindings->argon2-cffi->notebook->jupyter) (2.22)\n",
      "Building wheels for collected packages: jupyter_contrib_nbextensions, MDTraj, pyemma, nglview, jupyter_contrib_core\n",
      "  Building wheel for jupyter_contrib_nbextensions (setup.py) ... \u001b[?25l\u001b[?25hdone\n",
      "  Created wheel for jupyter_contrib_nbextensions: filename=jupyter_contrib_nbextensions-0.7.0-py2.py3-none-any.whl size=23428780 sha256=54c5bd7f3580944a65ca0e10aaa94eb282d00aa1b742f1e7d11cf44cf7ee970e\n",
      "  Stored in directory: /root/.cache/pip/wheels/ea/cc/7d/99ef154f984726b1201c0f72cfe9c9d7c5132c1a2ae4d8677f\n",
      "  Building wheel for MDTraj (pyproject.toml) ... \u001b[?25l\u001b[?25hdone\n",
      "  Created wheel for MDTraj: filename=mdtraj-1.9.9-cp310-cp310-linux_x86_64.whl size=7547268 sha256=32e1bb5de92bfa09a7e15562b9bdc207c5e9806ed44e24b16c443424f6a12535\n",
      "  Stored in directory: /root/.cache/pip/wheels/4b/4e/d5/22b44e04aca0780281ffb43717ebb3404bc1a77cf8f345fa73\n",
      "  Building wheel for pyemma (pyproject.toml) ... \u001b[?25l\u001b[?25hdone\n",
      "  Created wheel for pyemma: filename=pyEMMA-2.5.12-cp310-cp310-linux_x86_64.whl size=2712144 sha256=77d1627e2b6239996c731a801f7e0115fec28a95d27f50ca5677443a47be668c\n",
      "  Stored in directory: /root/.cache/pip/wheels/26/e7/52/8fcd9a27e834967fc71dedff33de9038999783184ec26af7a6\n",
      "  Building wheel for nglview (pyproject.toml) ... \u001b[?25l\u001b[?25hdone\n",
      "  Created wheel for nglview: filename=nglview-3.0.8-py3-none-any.whl size=10216160 sha256=4961aae9cdfc33205c4ada655e58fdcb02fece4057ca67febf30b5cf7e8b4975\n",
      "  Stored in directory: /root/.cache/pip/wheels/2e/6c/59/32bf4aa0134f9c4cdca054f5192839fb4285241e2f17f7d358\n",
      "  Building wheel for jupyter_contrib_core (setup.py) ... \u001b[?25l\u001b[?25hdone\n",
      "  Created wheel for jupyter_contrib_core: filename=jupyter_contrib_core-0.4.2-py2.py3-none-any.whl size=17482 sha256=957d5f23214f03657886c7320d61c13149dadbe9420b613d36cc71066e37d46b\n",
      "  Stored in directory: /root/.cache/pip/wheels/a9/52/88/e0643cdfd68f0562087918c37dd583378648dbc3df68b907f7\n",
      "Successfully built jupyter_contrib_nbextensions MDTraj pyemma nglview jupyter_contrib_core\n",
      "Installing collected packages: jupyter_highlight_selected_word, qtpy, ppft, pox, nvidia-nvtx-cu12, nvidia-nvjitlink-cu12, nvidia-nccl-cu12, nvidia-curand-cu12, nvidia-cufft-cu12, nvidia-cuda-runtime-cu12, nvidia-cuda-nvrtc-cu12, nvidia-cuda-cupti-cu12, nvidia-cublas-cu12, lightning-utilities, jupyterlab-widgets, jedi, einops, dill, nvidia-cusparse-cu12, nvidia-cudnn-cu12, multiprocess, MDTraj, pathos, nvidia-cusolver-cu12, deeptime, qtconsole, pyemma, torchmetrics, pytorch-lightning, jupyter_contrib_core, jupyter_nbextensions_configurator, ipywidgets, nglview, jupyter_contrib_nbextensions, jupyter\n",
      "  Attempting uninstall: jupyterlab-widgets\n",
      "    Found existing installation: jupyterlab_widgets 3.0.10\n",
      "    Uninstalling jupyterlab_widgets-3.0.10:\n",
      "      Successfully uninstalled jupyterlab_widgets-3.0.10\n",
      "  Attempting uninstall: ipywidgets\n",
      "    Found existing installation: ipywidgets 7.7.1\n",
      "    Uninstalling ipywidgets-7.7.1:\n",
      "      Successfully uninstalled ipywidgets-7.7.1\n",
      "Successfully installed MDTraj-1.9.9 deeptime-0.4.4 dill-0.3.8 einops-0.8.0 ipywidgets-7.7.2 jedi-0.19.1 jupyter-1.0.0 jupyter_contrib_core-0.4.2 jupyter_contrib_nbextensions-0.7.0 jupyter_highlight_selected_word-0.2.0 jupyter_nbextensions_configurator-0.6.3 jupyterlab-widgets-1.1.7 lightning-utilities-0.11.2 multiprocess-0.70.16 nglview-3.0.8 nvidia-cublas-cu12-12.1.3.1 nvidia-cuda-cupti-cu12-12.1.105 nvidia-cuda-nvrtc-cu12-12.1.105 nvidia-cuda-runtime-cu12-12.1.105 nvidia-cudnn-cu12-8.9.2.26 nvidia-cufft-cu12-11.0.2.54 nvidia-curand-cu12-10.3.2.106 nvidia-cusolver-cu12-11.4.5.107 nvidia-cusparse-cu12-12.1.0.106 nvidia-nccl-cu12-2.19.3 nvidia-nvjitlink-cu12-12.4.127 nvidia-nvtx-cu12-12.1.105 pathos-0.3.2 pox-0.3.4 ppft-1.7.6.8 pyemma-2.5.12 pytorch-lightning-2.2.3 qtconsole-5.5.1 qtpy-2.4.1 torchmetrics-1.3.2\n"
     ]
    }
   ],
   "source": [
    "%pip install numpy scipy pandas scikit-learn jupyter ipywidgets==7.7.2 widgetsnbextension jupyter_contrib_nbextensions matplotlib MDTraj tqdm pytest pyemma deeptime einops torch torchvision pytorch-lightning nglview"
   ]
  },
  {
   "cell_type": "code",
   "execution_count": 6,
   "metadata": {
    "colab": {
     "base_uri": "https://localhost:8080/",
     "height": 0
    },
    "id": "xeG8h6E2OAbK",
    "outputId": "f40914c2-df9e-4a51-c168-4b233cfe6ec3"
   },
   "outputs": [
    {
     "name": "stdout",
     "output_type": "stream",
     "text": [
      "Enabling notebook extension jupyter-js-widgets/extension...\n",
      "Paths used for configuration of notebook: \n",
      "    \t/usr/etc/jupyter/nbconfig/notebook.json\n",
      "Paths used for configuration of notebook: \n",
      "    \t\n",
      "      - Validating: \u001b[32mOK\u001b[0m\n",
      "Paths used for configuration of notebook: \n",
      "    \t/usr/etc/jupyter/nbconfig/notebook.json\n"
     ]
    }
   ],
   "source": [
    "!jupyter nbextension enable --py --sys-prefix widgetsnbextension"
   ]
  },
  {
   "cell_type": "code",
   "execution_count": 7,
   "metadata": {
    "colab": {
     "base_uri": "https://localhost:8080/",
     "height": 0
    },
    "id": "px3EEauZOIZa",
    "outputId": "15b8b221-1bfd-4cec-ade9-e5a369c611ab"
   },
   "outputs": [
    {
     "name": "stdout",
     "output_type": "stream",
     "text": [
      "Enabling notebook extension nglview-js-widgets/extension...\n",
      "Paths used for configuration of notebook: \n",
      "    \t/usr/etc/jupyter/nbconfig/notebook.json\n",
      "Paths used for configuration of notebook: \n",
      "    \t\n",
      "      - Validating: \u001b[32mOK\u001b[0m\n",
      "Paths used for configuration of notebook: \n",
      "    \t/usr/etc/jupyter/nbconfig/notebook.json\n"
     ]
    }
   ],
   "source": [
    "!jupyter nbextension enable nglview --py --sys-prefix"
   ]
  },
  {
   "cell_type": "code",
   "execution_count": 8,
   "metadata": {
    "colab": {
     "base_uri": "https://localhost:8080/",
     "height": 0
    },
    "id": "FxYp_tZFOMvb",
    "outputId": "31e8fba6-478a-45d5-d893-de53354e79d2"
   },
   "outputs": [
    {
     "name": "stdout",
     "output_type": "stream",
     "text": [
      "Enabling notebook extension nglview-js-widgets/extension...\n",
      "Paths used for configuration of notebook: \n",
      "    \t/usr/etc/jupyter/nbconfig/notebook.json\n",
      "Paths used for configuration of notebook: \n",
      "    \t\n",
      "      - Validating: \u001b[32mOK\u001b[0m\n",
      "Paths used for configuration of notebook: \n",
      "    \t/usr/etc/jupyter/nbconfig/notebook.json\n"
     ]
    }
   ],
   "source": [
    "!nglview enable"
   ]
  },
  {
   "cell_type": "code",
   "execution_count": 9,
   "metadata": {
    "colab": {
     "base_uri": "https://localhost:8080/",
     "height": 0
    },
    "id": "RvR9Kn8KN1q8",
    "outputId": "dc7dfd60-b22b-46d3-ac69-804bdd888a3f"
   },
   "outputs": [
    {
     "name": "stdout",
     "output_type": "stream",
     "text": [
      "Collecting git+https://github.com/andrewlferguson/snrv.git\n",
      "  Cloning https://github.com/andrewlferguson/snrv.git to /tmp/pip-req-build-5kuoreb9\n",
      "  Running command git clone --filter=blob:none --quiet https://github.com/andrewlferguson/snrv.git /tmp/pip-req-build-5kuoreb9\n",
      "  Resolved https://github.com/andrewlferguson/snrv.git to commit 63aeebc2f0253bec9f5e0ab03615c107256bf34f\n",
      "  Preparing metadata (setup.py) ... \u001b[?25l\u001b[?25hdone\n",
      "Building wheels for collected packages: snrv\n",
      "  Building wheel for snrv (setup.py) ... \u001b[?25l\u001b[?25hdone\n",
      "  Created wheel for snrv: filename=snrv-0.1.0+52.g63aeebc-py3-none-any.whl size=30278 sha256=783c495dc695ac66886bbfe71cd357738c2b9b44080945d7ffb50511f03da77f\n",
      "  Stored in directory: /tmp/pip-ephem-wheel-cache-bvft170g/wheels/d8/83/c6/26e7926d23676778257c4238a0e7ca498b668f07b425672242\n",
      "Successfully built snrv\n",
      "Installing collected packages: snrv\n",
      "Successfully installed snrv-0.1.0+52.g63aeebc\n"
     ]
    }
   ],
   "source": [
    "%pip install git+https://github.com/andrewlferguson/snrv.git"
   ]
  },
  {
   "cell_type": "code",
   "execution_count": 10,
   "metadata": {
    "colab": {
     "base_uri": "https://localhost:8080/",
     "height": 0
    },
    "id": "77EoLnn6OZNU",
    "outputId": "f683cd66-c7c2-455e-f65a-fb04da3a4923"
   },
   "outputs": [
    {
     "name": "stdout",
     "output_type": "stream",
     "text": [
      "Collecting git+https://github.com/Ferg-Lab/mdn_propagator.git\n",
      "  Cloning https://github.com/Ferg-Lab/mdn_propagator.git to /tmp/pip-req-build-jm9h7_u2\n",
      "  Running command git clone --filter=blob:none --quiet https://github.com/Ferg-Lab/mdn_propagator.git /tmp/pip-req-build-jm9h7_u2\n",
      "  Resolved https://github.com/Ferg-Lab/mdn_propagator.git to commit ad8fd32faf84908b2c4f58bf7e16195a7c4f29e8\n",
      "  Installing build dependencies ... \u001b[?25l\u001b[?25hdone\n",
      "  Getting requirements to build wheel ... \u001b[?25l\u001b[?25hdone\n",
      "  Installing backend dependencies ... \u001b[?25l\u001b[?25hdone\n",
      "  Preparing metadata (pyproject.toml) ... \u001b[?25l\u001b[?25hdone\n",
      "Building wheels for collected packages: mdn_propagator\n",
      "  Building wheel for mdn_propagator (pyproject.toml) ... \u001b[?25l\u001b[?25hdone\n",
      "  Created wheel for mdn_propagator: filename=mdn_propagator-1.0.0+32.gad8fd32-py3-none-any.whl size=15911 sha256=1a9f05c32d3243520a6373a2fd5d9b077eceda6e26e99925c21c1e640a1e7262\n",
      "  Stored in directory: /tmp/pip-ephem-wheel-cache-n7vhvnqz/wheels/bc/a7/ff/4f2aa2dbe5dc942686e82380dbec7ba232e35df5f5213de831\n",
      "Successfully built mdn_propagator\n",
      "Installing collected packages: mdn_propagator\n",
      "Successfully installed mdn_propagator-1.0.0+32.gad8fd32\n"
     ]
    }
   ],
   "source": [
    "%pip install git+https://github.com/Ferg-Lab/mdn_propagator.git"
   ]
  },
  {
   "cell_type": "code",
   "execution_count": 11,
   "metadata": {
    "colab": {
     "base_uri": "https://localhost:8080/",
     "height": 0
    },
    "id": "vv9Wv6xROlzA",
    "outputId": "268ec33b-2225-46ee-e126-576cb8c5f02b"
   },
   "outputs": [
    {
     "name": "stdout",
     "output_type": "stream",
     "text": [
      "Collecting git+https://github.com/Ferg-Lab/molgen.git\n",
      "  Cloning https://github.com/Ferg-Lab/molgen.git to /tmp/pip-req-build-ia6k6i_r\n",
      "  Running command git clone --filter=blob:none --quiet https://github.com/Ferg-Lab/molgen.git /tmp/pip-req-build-ia6k6i_r\n",
      "  Resolved https://github.com/Ferg-Lab/molgen.git to commit 533a1ccbcd5d59d5beea36d26a68ff4e6c28816c\n",
      "  Installing build dependencies ... \u001b[?25l\u001b[?25hdone\n",
      "  Getting requirements to build wheel ... \u001b[?25l\u001b[?25hdone\n",
      "  Installing backend dependencies ... \u001b[?25l\u001b[?25hdone\n",
      "  Preparing metadata (pyproject.toml) ... \u001b[?25l\u001b[?25hdone\n",
      "Building wheels for collected packages: molgen\n",
      "  Building wheel for molgen (pyproject.toml) ... \u001b[?25l\u001b[?25hdone\n",
      "  Created wheel for molgen: filename=molgen-1.0.0+15.g533a1cc-py3-none-any.whl size=20455 sha256=f387b319ded3f25fcc7bb718006ad88280b2d3ddd567f203d9c7a79c42ababbd\n",
      "  Stored in directory: /tmp/pip-ephem-wheel-cache-ty1nv6df/wheels/1e/82/fb/a86e30e540a9156a4dfcf1eb19c92a23f5b728019e949672b1\n",
      "Successfully built molgen\n",
      "Installing collected packages: molgen\n",
      "Successfully installed molgen-1.0.0+15.g533a1cc\n"
     ]
    }
   ],
   "source": [
    "%pip install git+https://github.com/Ferg-Lab/molgen.git"
   ]
  },
  {
   "cell_type": "markdown",
   "metadata": {
    "id": "aqzTNQKwKbrv"
   },
   "source": [
    "## Load the different components from their respective repos (~1 min)"
   ]
  },
  {
   "cell_type": "code",
   "execution_count": 12,
   "metadata": {
    "id": "IK7RzQVjKbrw"
   },
   "outputs": [],
   "source": [
    "from mdn_propagator.propagator import Propagator\n",
    "from molgen.models import DDPM\n",
    "from snrv import Snrv\n",
    "from snrv.utils import set_random_seed"
   ]
  },
  {
   "cell_type": "markdown",
   "metadata": {
    "id": "3gzdHO2EKbrw"
   },
   "source": [
    "### Other dependencies"
   ]
  },
  {
   "cell_type": "code",
   "execution_count": 13,
   "metadata": {
    "colab": {
     "base_uri": "https://localhost:8080/",
     "height": 17,
     "referenced_widgets": [
      "dbefea28e5434ca1858484f3c00a2d97"
     ]
    },
    "id": "8pkkc6wwKbrx",
    "outputId": "624ee5ac-7658-49f7-d030-aed5735d4ac2"
   },
   "outputs": [
    {
     "data": {
      "application/vnd.jupyter.widget-view+json": {
       "model_id": "dbefea28e5434ca1858484f3c00a2d97",
       "version_major": 2,
       "version_minor": 0
      },
      "text/plain": []
     },
     "metadata": {},
     "output_type": "display_data"
    }
   ],
   "source": [
    "import mdtraj as md\n",
    "from pathlib import Path\n",
    "import torch\n",
    "import matplotlib.pyplot as plt\n",
    "import numpy as np\n",
    "import nglview as nv"
   ]
  },
  {
   "cell_type": "code",
   "execution_count": 14,
   "metadata": {
    "id": "E3yUT5TkPMm5"
   },
   "outputs": [],
   "source": [
    "from google.colab import output\n",
    "output.enable_custom_widget_manager()"
   ]
  },
  {
   "cell_type": "markdown",
   "metadata": {
    "id": "q3yZhY85Kbrx"
   },
   "source": [
    "# Load and prep data (~1 min)"
   ]
  },
  {
   "cell_type": "code",
   "execution_count": 15,
   "metadata": {
    "id": "5HeKUyfvKbry"
   },
   "outputs": [],
   "source": [
    "trj_fnames = sorted([str(i) for i in Path('./').glob('alanine-dipeptide-*-250ns-nowater.xtc')])\n",
    "top_fname = 'alanine-dipeptide-nowater.pdb'"
   ]
  },
  {
   "cell_type": "code",
   "execution_count": 16,
   "metadata": {
    "colab": {
     "base_uri": "https://localhost:8080/",
     "height": 0
    },
    "id": "EJSf9zAyKbry",
    "outputId": "f98321ab-7650-441f-f9ba-6849af438a8e"
   },
   "outputs": [
    {
     "data": {
      "text/plain": [
       "[<mdtraj.Trajectory with 250000 frames, 22 atoms, 3 residues, and unitcells at 0x7b329c7677c0>]"
      ]
     },
     "execution_count": 16,
     "metadata": {},
     "output_type": "execute_result"
    }
   ],
   "source": [
    "trjs = [md.load(t, top=top_fname).center_coordinates() for t in trj_fnames]\n",
    "trjs"
   ]
  },
  {
   "cell_type": "code",
   "execution_count": 17,
   "metadata": {
    "colab": {
     "base_uri": "https://localhost:8080/",
     "height": 317,
     "referenced_widgets": [
      "8c3bcad5aa4a406cbc7a6e1702053885",
      "25b7e95abeaf4efcab15db5b11a9609e",
      "262528211cf74ae8a1f9d98f42c53bc5",
      "2d7ac1e1bbb34409bf2ab7ecd8002ddb",
      "cdae90d1405447fba7ab92758b7c587e",
      "a3531be4c5cf4117a1030d4cbc22abf6",
      "5f8fcf183ed548719d6aa8bba10c99ba",
      "9a563d60ec3b477084d6757b81289aa0",
      "6bbaf87e7a3f417e8e7753d15172f988",
      "74b857b18a424649a1ca3119f195e07e",
      "3234aa9f55ca4a3496a560a8d4ac4ea8",
      "8de614e27948429b964f48274ffab662",
      "7eb137763f3144a68f06e818d2efb5bc"
     ]
    },
    "id": "Sw122IIaKbrz",
    "outputId": "5c1db00b-b82a-42ce-d818-d88a40f825ac"
   },
   "outputs": [
    {
     "data": {
      "application/vnd.jupyter.widget-view+json": {
       "model_id": "8c3bcad5aa4a406cbc7a6e1702053885",
       "version_major": 2,
       "version_minor": 0
      },
      "text/plain": [
       "NGLWidget(max_frame=249999)"
      ]
     },
     "metadata": {
      "application/vnd.jupyter.widget-view+json": {
       "colab": {
        "custom_widget_manager": {
         "url": "https://ssl.gstatic.com/colaboratory-static/widgets/colab-cdn-widget-manager/2b70e893a8ba7c0f/manager.min.js"
        }
       }
      }
     },
     "output_type": "display_data"
    }
   ],
   "source": [
    "v = nv.show_mdtraj(trjs[0])\n",
    "v"
   ]
  },
  {
   "cell_type": "code",
   "execution_count": 18,
   "metadata": {
    "colab": {
     "base_uri": "https://localhost:8080/",
     "height": 0
    },
    "id": "BKqmbObsKbr0",
    "outputId": "be6acdf1-ffae-4f6a-db5b-7dca03714e9d"
   },
   "outputs": [
    {
     "data": {
      "text/plain": [
       "(1, torch.Size([250000, 231]))"
      ]
     },
     "execution_count": 18,
     "metadata": {},
     "output_type": "execute_result"
    }
   ],
   "source": [
    "coords_torch = list()\n",
    "for trj in trjs:\n",
    "    #t_backbone = trj.atom_slice(trj.top.select('backbone')).center_coordinates()\n",
    "    #pdists = [torch.pdist(p)[None] for p in torch.tensor(t_backbone.xyz)]\n",
    "    pdists = [torch.pdist(p)[None] for p in torch.tensor(trj.xyz)]\n",
    "    coords_torch.append(torch.cat(pdists))\n",
    "len(coords_torch), coords_torch[0].shape"
   ]
  },
  {
   "cell_type": "markdown",
   "metadata": {
    "id": "0S8Xvz16Kbr1"
   },
   "source": [
    "# SRV fitting (~5 mins)"
   ]
  },
  {
   "cell_type": "code",
   "execution_count": 19,
   "metadata": {
    "colab": {
     "base_uri": "https://localhost:8080/",
     "height": 0
    },
    "id": "JuMNb0WyKbr1",
    "outputId": "9634c082-3bc5-414f-ba69-e6ae5da464ad"
   },
   "outputs": [
    {
     "name": "stdout",
     "output_type": "stream",
     "text": [
      "Setting random seed to 42\n"
     ]
    }
   ],
   "source": [
    "set_random_seed(42)"
   ]
  },
  {
   "cell_type": "code",
   "execution_count": 20,
   "metadata": {
    "id": "rNb19_3gKbr1"
   },
   "outputs": [],
   "source": [
    "input_size = coords_torch[0].size()[1]\n",
    "output_size = 3\n",
    "hidden_depth = 2\n",
    "hidden_size = 100\n",
    "batch_norm = True\n",
    "dropout_rate = 0.0\n",
    "lr = 1E-2\n",
    "weight_decay = 0.0\n",
    "val_frac = 0.05\n",
    "n_epochs = 30\n",
    "batch_size = 25000\n",
    "VAMPdegree = 2\n",
    "is_reversible = True\n",
    "num_workers = 0\n",
    "\n",
    "model_snrv = Snrv(input_size, output_size, hidden_depth=hidden_depth, hidden_size=hidden_size,\n",
    "            batch_norm=batch_norm, dropout_rate=dropout_rate, lr=lr, weight_decay=weight_decay,\n",
    "            val_frac=val_frac, n_epochs=n_epochs, batch_size=batch_size,\n",
    "            VAMPdegree=VAMPdegree,is_reversible=is_reversible, num_workers=num_workers,\n",
    "            activation=torch.nn.GELU(), device=device)\n",
    "model_snrv = model_snrv.to(device)"
   ]
  },
  {
   "cell_type": "code",
   "execution_count": 21,
   "metadata": {
    "id": "SBuCf9YYKbr1"
   },
   "outputs": [],
   "source": [
    "lag_n = 10"
   ]
  },
  {
   "cell_type": "code",
   "execution_count": 22,
   "metadata": {
    "colab": {
     "base_uri": "https://localhost:8080/",
     "height": 0
    },
    "id": "8ysnrQaxKbr1",
    "outputId": "2446bfce-0748-49b5-818a-d97cc3d9a1c4",
    "scrolled": true
   },
   "outputs": [
    {
     "name": "stderr",
     "output_type": "stream",
     "text": [
      "Epoch 0: 100%|██████████| 10/10 [00:05<00:00,  1.98batch/s]\n"
     ]
    },
    {
     "name": "stdout",
     "output_type": "stream",
     "text": [
      "[Epoch 0]\t training loss = -2.017\t validation loss = -2.286\n"
     ]
    },
    {
     "name": "stderr",
     "output_type": "stream",
     "text": [
      "Epoch 1: 100%|██████████| 10/10 [00:04<00:00,  2.50batch/s]\n"
     ]
    },
    {
     "name": "stdout",
     "output_type": "stream",
     "text": [
      "[Epoch 1]\t training loss = -2.415\t validation loss = -2.408\n"
     ]
    },
    {
     "name": "stderr",
     "output_type": "stream",
     "text": [
      "Epoch 2: 100%|██████████| 10/10 [00:04<00:00,  2.49batch/s]\n"
     ]
    },
    {
     "name": "stdout",
     "output_type": "stream",
     "text": [
      "[Epoch 2]\t training loss = -2.438\t validation loss = -2.435\n"
     ]
    },
    {
     "name": "stderr",
     "output_type": "stream",
     "text": [
      "Epoch 3: 100%|██████████| 10/10 [00:03<00:00,  2.52batch/s]\n"
     ]
    },
    {
     "name": "stdout",
     "output_type": "stream",
     "text": [
      "[Epoch 3]\t training loss = -2.450\t validation loss = -2.448\n"
     ]
    },
    {
     "name": "stderr",
     "output_type": "stream",
     "text": [
      "Epoch 4: 100%|██████████| 10/10 [00:03<00:00,  2.52batch/s]\n"
     ]
    },
    {
     "name": "stdout",
     "output_type": "stream",
     "text": [
      "[Epoch 4]\t training loss = -2.459\t validation loss = -2.453\n"
     ]
    },
    {
     "name": "stderr",
     "output_type": "stream",
     "text": [
      "Epoch 5: 100%|██████████| 10/10 [00:03<00:00,  2.52batch/s]\n"
     ]
    },
    {
     "name": "stdout",
     "output_type": "stream",
     "text": [
      "[Epoch 5]\t training loss = -2.472\t validation loss = -2.473\n"
     ]
    },
    {
     "name": "stderr",
     "output_type": "stream",
     "text": [
      "Epoch 6: 100%|██████████| 10/10 [00:03<00:00,  2.52batch/s]\n"
     ]
    },
    {
     "name": "stdout",
     "output_type": "stream",
     "text": [
      "[Epoch 6]\t training loss = -2.526\t validation loss = -2.553\n"
     ]
    },
    {
     "name": "stderr",
     "output_type": "stream",
     "text": [
      "Epoch 7: 100%|██████████| 10/10 [00:04<00:00,  2.49batch/s]\n"
     ]
    },
    {
     "name": "stdout",
     "output_type": "stream",
     "text": [
      "[Epoch 7]\t training loss = -2.632\t validation loss = -2.619\n"
     ]
    },
    {
     "name": "stderr",
     "output_type": "stream",
     "text": [
      "Epoch 8: 100%|██████████| 10/10 [00:03<00:00,  2.51batch/s]\n"
     ]
    },
    {
     "name": "stdout",
     "output_type": "stream",
     "text": [
      "[Epoch 8]\t training loss = -2.670\t validation loss = -2.665\n"
     ]
    },
    {
     "name": "stderr",
     "output_type": "stream",
     "text": [
      "Epoch 9: 100%|██████████| 10/10 [00:03<00:00,  2.50batch/s]\n"
     ]
    },
    {
     "name": "stdout",
     "output_type": "stream",
     "text": [
      "[Epoch 9]\t training loss = -2.694\t validation loss = -2.658\n"
     ]
    },
    {
     "name": "stderr",
     "output_type": "stream",
     "text": [
      "Epoch 10: 100%|██████████| 10/10 [00:04<00:00,  2.49batch/s]\n"
     ]
    },
    {
     "name": "stdout",
     "output_type": "stream",
     "text": [
      "[Epoch 10]\t training loss = -2.709\t validation loss = -2.690\n"
     ]
    },
    {
     "name": "stderr",
     "output_type": "stream",
     "text": [
      "Epoch 11: 100%|██████████| 10/10 [00:04<00:00,  2.49batch/s]\n"
     ]
    },
    {
     "name": "stdout",
     "output_type": "stream",
     "text": [
      "[Epoch 11]\t training loss = -2.716\t validation loss = -2.712\n"
     ]
    },
    {
     "name": "stderr",
     "output_type": "stream",
     "text": [
      "Epoch 12: 100%|██████████| 10/10 [00:04<00:00,  2.49batch/s]\n"
     ]
    },
    {
     "name": "stdout",
     "output_type": "stream",
     "text": [
      "[Epoch 12]\t training loss = -2.720\t validation loss = -2.727\n"
     ]
    },
    {
     "name": "stderr",
     "output_type": "stream",
     "text": [
      "Epoch 13: 100%|██████████| 10/10 [00:04<00:00,  2.47batch/s]\n"
     ]
    },
    {
     "name": "stdout",
     "output_type": "stream",
     "text": [
      "[Epoch 13]\t training loss = -2.723\t validation loss = -2.731\n"
     ]
    },
    {
     "name": "stderr",
     "output_type": "stream",
     "text": [
      "Epoch 14: 100%|██████████| 10/10 [00:04<00:00,  2.48batch/s]\n"
     ]
    },
    {
     "name": "stdout",
     "output_type": "stream",
     "text": [
      "[Epoch 14]\t training loss = -2.724\t validation loss = -2.735\n"
     ]
    },
    {
     "name": "stderr",
     "output_type": "stream",
     "text": [
      "Epoch 15: 100%|██████████| 10/10 [00:04<00:00,  2.48batch/s]\n"
     ]
    },
    {
     "name": "stdout",
     "output_type": "stream",
     "text": [
      "[Epoch 15]\t training loss = -2.726\t validation loss = -2.738\n"
     ]
    },
    {
     "name": "stderr",
     "output_type": "stream",
     "text": [
      "Epoch 16: 100%|██████████| 10/10 [00:04<00:00,  2.49batch/s]\n"
     ]
    },
    {
     "name": "stdout",
     "output_type": "stream",
     "text": [
      "[Epoch 16]\t training loss = -2.727\t validation loss = -2.738\n"
     ]
    },
    {
     "name": "stderr",
     "output_type": "stream",
     "text": [
      "Epoch 17: 100%|██████████| 10/10 [00:04<00:00,  2.48batch/s]\n"
     ]
    },
    {
     "name": "stdout",
     "output_type": "stream",
     "text": [
      "[Epoch 17]\t training loss = -2.727\t validation loss = -2.740\n"
     ]
    },
    {
     "name": "stderr",
     "output_type": "stream",
     "text": [
      "Epoch 18: 100%|██████████| 10/10 [00:04<00:00,  2.47batch/s]\n"
     ]
    },
    {
     "name": "stdout",
     "output_type": "stream",
     "text": [
      "[Epoch 18]\t training loss = -2.728\t validation loss = -2.741\n"
     ]
    },
    {
     "name": "stderr",
     "output_type": "stream",
     "text": [
      "Epoch 19: 100%|██████████| 10/10 [00:04<00:00,  2.46batch/s]\n"
     ]
    },
    {
     "name": "stdout",
     "output_type": "stream",
     "text": [
      "[Epoch 19]\t training loss = -2.728\t validation loss = -2.741\n"
     ]
    },
    {
     "name": "stderr",
     "output_type": "stream",
     "text": [
      "Epoch 20: 100%|██████████| 10/10 [00:04<00:00,  2.48batch/s]\n"
     ]
    },
    {
     "name": "stdout",
     "output_type": "stream",
     "text": [
      "[Epoch 20]\t training loss = -2.729\t validation loss = -2.742\n"
     ]
    },
    {
     "name": "stderr",
     "output_type": "stream",
     "text": [
      "Epoch 21: 100%|██████████| 10/10 [00:04<00:00,  2.46batch/s]\n"
     ]
    },
    {
     "name": "stdout",
     "output_type": "stream",
     "text": [
      "[Epoch 21]\t training loss = -2.730\t validation loss = -2.742\n"
     ]
    },
    {
     "name": "stderr",
     "output_type": "stream",
     "text": [
      "Epoch 22: 100%|██████████| 10/10 [00:04<00:00,  2.45batch/s]\n"
     ]
    },
    {
     "name": "stdout",
     "output_type": "stream",
     "text": [
      "[Epoch 22]\t training loss = -2.730\t validation loss = -2.742\n"
     ]
    },
    {
     "name": "stderr",
     "output_type": "stream",
     "text": [
      "Epoch 23: 100%|██████████| 10/10 [00:04<00:00,  2.44batch/s]\n"
     ]
    },
    {
     "name": "stdout",
     "output_type": "stream",
     "text": [
      "[Epoch 23]\t training loss = -2.730\t validation loss = -2.743\n"
     ]
    },
    {
     "name": "stderr",
     "output_type": "stream",
     "text": [
      "Epoch 24: 100%|██████████| 10/10 [00:04<00:00,  2.47batch/s]\n"
     ]
    },
    {
     "name": "stdout",
     "output_type": "stream",
     "text": [
      "[Epoch 24]\t training loss = -2.730\t validation loss = -2.743\n"
     ]
    },
    {
     "name": "stderr",
     "output_type": "stream",
     "text": [
      "Epoch 25: 100%|██████████| 10/10 [00:04<00:00,  2.46batch/s]\n"
     ]
    },
    {
     "name": "stdout",
     "output_type": "stream",
     "text": [
      "[Epoch 25]\t training loss = -2.731\t validation loss = -2.743\n"
     ]
    },
    {
     "name": "stderr",
     "output_type": "stream",
     "text": [
      "Epoch 26: 100%|██████████| 10/10 [00:04<00:00,  2.47batch/s]\n"
     ]
    },
    {
     "name": "stdout",
     "output_type": "stream",
     "text": [
      "[Epoch 26]\t training loss = -2.730\t validation loss = -2.743\n"
     ]
    },
    {
     "name": "stderr",
     "output_type": "stream",
     "text": [
      "Epoch 27: 100%|██████████| 10/10 [00:04<00:00,  2.46batch/s]\n"
     ]
    },
    {
     "name": "stdout",
     "output_type": "stream",
     "text": [
      "[Epoch 27]\t training loss = -2.731\t validation loss = -2.744\n"
     ]
    },
    {
     "name": "stderr",
     "output_type": "stream",
     "text": [
      "Epoch 28: 100%|██████████| 10/10 [00:04<00:00,  2.45batch/s]\n"
     ]
    },
    {
     "name": "stdout",
     "output_type": "stream",
     "text": [
      "[Epoch 28]\t training loss = -2.730\t validation loss = -2.744\n"
     ]
    },
    {
     "name": "stderr",
     "output_type": "stream",
     "text": [
      "Epoch 29: 100%|██████████| 10/10 [00:04<00:00,  2.44batch/s]\n"
     ]
    },
    {
     "name": "stdout",
     "output_type": "stream",
     "text": [
      "[Epoch 29]\t training loss = -2.730\t validation loss = -2.744\n"
     ]
    }
   ],
   "source": [
    "model_snrv.fit(coords_torch, lag=lag_n, scheduler=0.9)"
   ]
  },
  {
   "cell_type": "code",
   "execution_count": 23,
   "metadata": {
    "colab": {
     "base_uri": "https://localhost:8080/",
     "height": 487
    },
    "id": "kKc-O_EdKbr2",
    "outputId": "c59d821f-9d9a-4daf-88fc-e51bea47872a"
   },
   "outputs": [
    {
     "data": {
      "image/png": "[encoded data removed]",
      "text/plain": [
       "<Figure size 640x480 with 1 Axes>"
      ]
     },
     "metadata": {},
     "output_type": "display_data"
    }
   ],
   "source": [
    "fig, ax = plt.subplots()\n",
    "ax.plot(np.arange(len(model_snrv.training_losses)), model_snrv.training_losses)\n",
    "ax.plot(np.arange(len(model_snrv.validation_losses)), model_snrv.validation_losses)\n",
    "ax.set_xlabel('epoch')\n",
    "ax.set_ylabel('loss')\n",
    "ax.legend(['training','validation'])\n",
    "fig.tight_layout()"
   ]
  },
  {
   "cell_type": "code",
   "execution_count": 24,
   "metadata": {
    "id": "XymScP_NKbr2"
   },
   "outputs": [],
   "source": [
    "save_freq = 1 # ps"
   ]
  },
  {
   "cell_type": "code",
   "execution_count": 25,
   "metadata": {
    "colab": {
     "base_uri": "https://localhost:8080/",
     "height": 467
    },
    "id": "Y4Mo_MmZKbr2",
    "outputId": "45178bc6-0cef-49a0-869a-2225317a73bc"
   },
   "outputs": [
    {
     "data": {
      "text/plain": [
       "<matplotlib.lines.Line2D at 0x7b3245187370>"
      ]
     },
     "execution_count": 25,
     "metadata": {},
     "output_type": "execute_result"
    },
    {
     "data": {
      "image/png": "[encoded data removed]",
      "text/plain": [
       "<Figure size 640x480 with 1 Axes>"
      ]
     },
     "metadata": {},
     "output_type": "display_data"
    }
   ],
   "source": [
    "evals = model_snrv.evals.cpu().detach().numpy()\n",
    "plt.bar(range(1,evals.size), -lag_n*save_freq/np.log(evals[1:]))\n",
    "plt.ylabel('Implied timescale (ps)')\n",
    "plt.xticks(range(1,evals.size))\n",
    "plt.xlabel('Timescale index')\n",
    "plt.axhline(lag_n*save_freq, color='k', linestyle=':')"
   ]
  },
  {
   "cell_type": "code",
   "execution_count": 26,
   "metadata": {
    "colab": {
     "base_uri": "https://localhost:8080/",
     "height": 0
    },
    "id": "B91B7ugOKbr2",
    "outputId": "609dae0b-0fb5-4f64-c2dc-71e3859b4fa6"
   },
   "outputs": [
    {
     "data": {
      "text/plain": [
       "Snrv(\n",
       "  (activation): GELU(approximate='none')\n",
       "  (model): Sequential(\n",
       "    (0): Linear(in_features=231, out_features=100, bias=True)\n",
       "    (1): BatchNorm1d(100, eps=1e-05, momentum=0.1, affine=True, track_running_stats=True)\n",
       "    (2): GELU(approximate='none')\n",
       "    (3): Linear(in_features=100, out_features=100, bias=True)\n",
       "    (4): BatchNorm1d(100, eps=1e-05, momentum=0.1, affine=True, track_running_stats=True)\n",
       "    (5): GELU(approximate='none')\n",
       "    (6): Linear(in_features=100, out_features=3, bias=True)\n",
       "  )\n",
       ")"
      ]
     },
     "execution_count": 26,
     "metadata": {},
     "output_type": "execute_result"
    }
   ],
   "source": [
    "model_snrv.eval()"
   ]
  },
  {
   "cell_type": "code",
   "execution_count": 27,
   "metadata": {
    "id": "j17fcY7EKbr2"
   },
   "outputs": [],
   "source": [
    "evecs = model_snrv.transform(torch.cat(coords_torch)).cpu().detach().numpy()"
   ]
  },
  {
   "cell_type": "code",
   "execution_count": 28,
   "metadata": {
    "id": "QxJ7nfdnKbr2"
   },
   "outputs": [],
   "source": [
    "trj_cat = md.join(trjs)"
   ]
  },
  {
   "cell_type": "code",
   "execution_count": 29,
   "metadata": {
    "id": "NLUKOvbrKbr2"
   },
   "outputs": [],
   "source": [
    "phi = md.compute_phi(trj_cat)[1].flatten()\n",
    "psi = md.compute_psi(trj_cat)[1].flatten()"
   ]
  },
  {
   "cell_type": "code",
   "execution_count": 30,
   "metadata": {
    "colab": {
     "base_uri": "https://localhost:8080/",
     "height": 455
    },
    "id": "3g-BX3PbKbr2",
    "outputId": "0c6f20b0-7e7b-469f-df93-c42e724d4b1d"
   },
   "outputs": [
    {
     "data": {
      "image/png": "[encoded data removed]",
      "text/plain": [
       "<Figure size 1500x700 with 4 Axes>"
      ]
     },
     "metadata": {},
     "output_type": "display_data"
    }
   ],
   "source": [
    "fig, axes = plt.subplots(1, 2, figsize = (15, 7))\n",
    "axes = axes.flatten()\n",
    "\n",
    "for e in range(1, evecs.shape[1]):\n",
    "    evec = evecs[:, e]\n",
    "    ax = axes[e-1]\n",
    "\n",
    "    im = ax.scatter(phi, psi, c=evec, s=10, cmap='coolwarm')\n",
    "    ax.set_xlabel('$\\phi$', fontsize=18)\n",
    "    ax.set_ylabel('$\\psi$', fontsize=18)\n",
    "    ax.set_xlim(-np.pi, np.pi)\n",
    "    ax.set_ylim(-np.pi, np.pi)\n",
    "    cbar = plt.colorbar(im, ax=ax)\n",
    "    cbar.set_label(f'EV$_{e}$', size=18)\n",
    "\n",
    "plt.tight_layout()"
   ]
  },
  {
   "cell_type": "code",
   "execution_count": 31,
   "metadata": {
    "colab": {
     "base_uri": "https://localhost:8080/",
     "height": 0
    },
    "id": "dulko7LMKbr3",
    "outputId": "454dbfe0-5aa4-4d58-c5d7-2941d95f4e20"
   },
   "outputs": [
    {
     "data": {
      "text/plain": [
       "(torch.Size([250000, 2]), 1)"
      ]
     },
     "execution_count": 31,
     "metadata": {},
     "output_type": "execute_result"
    }
   ],
   "source": [
    "CVs = [model_snrv.transform(x).cpu().detach()[:, 1:] for x in coords_torch]\n",
    "CVs[0].shape, len(CVs)"
   ]
  },
  {
   "cell_type": "markdown",
   "metadata": {
    "id": "HpHzz0XyKbr3"
   },
   "source": [
    "# MDN propagator (~3 mins)"
   ]
  },
  {
   "cell_type": "code",
   "execution_count": 32,
   "metadata": {
    "id": "64ivbfWMKbr3"
   },
   "outputs": [],
   "source": [
    "model_mdn = Propagator(dim = CVs[0].size(1))"
   ]
  },
  {
   "cell_type": "code",
   "execution_count": 33,
   "metadata": {
    "colab": {
     "base_uri": "https://localhost:8080/",
     "height": 657,
     "referenced_widgets": [
      "b7d566bd864b4157a8d1f3b1468eb544",
      "1afcc2367b2b4ac7b1b287227142b4f1",
      "985b44c960974da9a14796ebc9a53e93",
      "b51b53a0fdce4e8bb1b5853e926806c3",
      "d7d377c61ed2461ea06d1420f15606e2",
      "1b3e494df9984871b699ad6cffe421af",
      "6eede60f15734b10b0586519c8dba2a2",
      "80627b4b1f2d4ccab1baeaa1ae205604",
      "a325a8ff9e0048ed94d774dc6bf9dd82",
      "7fca9868dde94fd79be245eec8764df9",
      "a88e0c900eb24627b3cf30a3d7f2d825"
     ]
    },
    "id": "IZW6BId2Kbr3",
    "outputId": "293a986f-0a5f-461c-bbe0-6d67ffd345d4"
   },
   "outputs": [
    {
     "name": "stderr",
     "output_type": "stream",
     "text": [
      "INFO:pytorch_lightning.utilities.rank_zero:GPU available: True (cuda), used: True\n",
      "INFO:pytorch_lightning.utilities.rank_zero:TPU available: False, using: 0 TPU cores\n",
      "INFO:pytorch_lightning.utilities.rank_zero:IPU available: False, using: 0 IPUs\n",
      "INFO:pytorch_lightning.utilities.rank_zero:HPU available: False, using: 0 HPUs\n",
      "INFO:pytorch_lightning.utilities.rank_zero:You are using a CUDA device ('NVIDIA L4') that has Tensor Cores. To properly utilize them, you should set `torch.set_float32_matmul_precision('medium' | 'high')` which will trade-off precision for performance. For more details, read https://pytorch.org/docs/stable/generated/torch.set_float32_matmul_precision.html#torch.set_float32_matmul_precision\n",
      "INFO:pytorch_lightning.accelerators.cuda:LOCAL_RANK: 0 - CUDA_VISIBLE_DEVICES: [0]\n",
      "INFO:pytorch_lightning.callbacks.model_summary:\n",
      "  | Name    | Type                  | Params\n",
      "--------------------------------------------------\n",
      "0 | mdn     | MixtureDensityNetwork | 33.0 K\n",
      "1 | _scaler | MinMaxScaler          | 0     \n",
      "--------------------------------------------------\n",
      "33.0 K    Trainable params\n",
      "0         Non-trainable params\n",
      "33.0 K    Total params\n",
      "0.132     Total estimated model params size (MB)\n",
      "/usr/local/lib/python3.10/dist-packages/pytorch_lightning/trainer/connectors/data_connector.py:441: The 'train_dataloader' does not have many workers which may be a bottleneck. Consider increasing the value of the `num_workers` argument` to `num_workers=15` in the `DataLoader` to improve performance.\n"
     ]
    },
    {
     "data": {
      "application/vnd.jupyter.widget-view+json": {
       "model_id": "b7d566bd864b4157a8d1f3b1468eb544",
       "version_major": 2,
       "version_minor": 0
      },
      "text/plain": [
       "Training: |          | 0/? [00:00<?, ?it/s]"
      ]
     },
     "metadata": {
      "application/vnd.jupyter.widget-view+json": {
       "colab": {
        "custom_widget_manager": {
         "url": "https://ssl.gstatic.com/colaboratory-static/widgets/colab-cdn-widget-manager/2b70e893a8ba7c0f/manager.min.js"
        }
       }
      }
     },
     "output_type": "display_data"
    },
    {
     "name": "stderr",
     "output_type": "stream",
     "text": [
      "INFO:pytorch_lightning.utilities.rank_zero:`Trainer.fit` stopped: `max_epochs=10` reached.\n"
     ]
    },
    {
     "data": {
      "text/plain": [
       "Propagator(\n",
       "  (mdn): MixtureDensityNetwork(\n",
       "    (network): MLP(\n",
       "      (mlp): Sequential(\n",
       "        (0): Linear(in_features=2, out_features=128, bias=True)\n",
       "        (1): SiLU()\n",
       "        (2): Linear(in_features=128, out_features=128, bias=True)\n",
       "        (3): SiLU()\n",
       "        (4): Linear(in_features=128, out_features=125, bias=True)\n",
       "      )\n",
       "    )\n",
       "  )\n",
       "  (_scaler): MinMaxScaler()\n",
       ")"
      ]
     },
     "execution_count": 33,
     "metadata": {},
     "output_type": "execute_result"
    }
   ],
   "source": [
    "model_mdn.fit(CVs, lag = 10, max_epochs=10)"
   ]
  },
  {
   "cell_type": "code",
   "execution_count": 34,
   "metadata": {
    "colab": {
     "base_uri": "https://localhost:8080/",
     "height": 49,
     "referenced_widgets": [
      "0930f27b3533465d91ad5552c166f613",
      "5d4f33ef3814441bbf9165d3e60f21ad",
      "0157c68b46cd4ce8b77f5bd67b1851a7",
      "5766119fe08e4a208f7d081a60c64c3b",
      "4f1f47227a684f94bc66d647fce92740",
      "c275d26e78964158a88eec73b7bf3b08",
      "1a56f17f2ade4ebe82339d5d4cff1682",
      "35e5833510ca40c4a5c6d1c758d58de0",
      "3d06172765d54d81b45714e975696f90",
      "f3f43a45d8224c979aed7a2d874aef68",
      "a722f5fc1d2545af9bea963c70e36304"
     ]
    },
    "id": "oxNb9b5FKbr3",
    "outputId": "242dff8a-235f-47cf-9121-f3b6dbf1ec7a"
   },
   "outputs": [
    {
     "data": {
      "application/vnd.jupyter.widget-view+json": {
       "model_id": "0930f27b3533465d91ad5552c166f613",
       "version_major": 2,
       "version_minor": 0
      },
      "text/plain": [
       "  0%|          | 0/100 [00:00<?, ?it/s]"
      ]
     },
     "metadata": {
      "application/vnd.jupyter.widget-view+json": {
       "colab": {
        "custom_widget_manager": {
         "url": "https://ssl.gstatic.com/colaboratory-static/widgets/colab-cdn-widget-manager/2b70e893a8ba7c0f/manager.min.js"
        }
       }
      }
     },
     "output_type": "display_data"
    }
   ],
   "source": [
    "n_steps = int(1E2)\n",
    "x = CVs[0][0][None]\n",
    "synthetic_traj_CVs = model_mdn.gen_synthetic_traj(x, n_steps)"
   ]
  },
  {
   "cell_type": "markdown",
   "metadata": {
    "id": "A9NtuovZKbr4"
   },
   "source": [
    "# DDPM Decoder (~5 mins)"
   ]
  },
  {
   "cell_type": "code",
   "execution_count": 35,
   "metadata": {
    "id": "83wCKw9BKbr4"
   },
   "outputs": [],
   "source": [
    "xyz = list()\n",
    "for trj in trjs:\n",
    "\n",
    "    t_backbone = trj.atom_slice(trj.top.select('backbone')).center_coordinates()\n",
    "\n",
    "    n = trj.xyz.shape[0]\n",
    "\n",
    "    xyz.append(torch.tensor(t_backbone.xyz.reshape(n, -1)).float())"
   ]
  },
  {
   "cell_type": "code",
   "execution_count": 36,
   "metadata": {
    "id": "URPtzLSHKbr4"
   },
   "outputs": [],
   "source": [
    "model_ddpm = DDPM(xyz[0].shape[1], CVs[0].shape[1])"
   ]
  },
  {
   "cell_type": "code",
   "execution_count": 37,
   "metadata": {
    "colab": {
     "base_uri": "https://localhost:8080/",
     "height": 13018,
     "referenced_widgets": [
      "2b3726119c7c4176a2b1e0fd5243956e",
      "cf117bce95ea4c3995b9af9a60555b34",
      "378a07778d02425e920e5fe78e97d1ab",
      "bdd1dfae5ca148fb9599f4389205718d",
      "2171f5e70c8d452190d0cffcde7a79c4",
      "a72070278aef45c8993d59c8aed96ab9",
      "5ff0e84cd84242f0afee68d1bceb6081",
      "772ee5a43de44271b174a596956f900e",
      "d8e1a54ef4cd41b7966c5ca01121fee5",
      "77aeaec0e2d844b7b5f8f16eba6d208d",
      "555dce3ac2894cac85d5c94efd96796d"
     ]
    },
    "id": "MgXSdkMJKbr4",
    "outputId": "2da8f3a9-4654-4df3-8bb3-70e3b19bd9e4"
   },
   "outputs": [
    {
     "name": "stderr",
     "output_type": "stream",
     "text": [
      "INFO:pytorch_lightning.utilities.rank_zero:GPU available: True (cuda), used: True\n",
      "INFO:pytorch_lightning.utilities.rank_zero:TPU available: False, using: 0 TPU cores\n",
      "INFO:pytorch_lightning.utilities.rank_zero:IPU available: False, using: 0 IPUs\n",
      "INFO:pytorch_lightning.utilities.rank_zero:HPU available: False, using: 0 HPUs\n",
      "/usr/local/lib/python3.10/dist-packages/pytorch_lightning/callbacks/model_checkpoint.py:653: Checkpoint directory /content/checkpoints exists and is not empty.\n",
      "INFO:pytorch_lightning.accelerators.cuda:LOCAL_RANK: 0 - CUDA_VISIBLE_DEVICES: [0]\n",
      "INFO:pytorch_lightning.callbacks.model_summary:\n",
      "  | Name              | Type              | Params\n",
      "--------------------------------------------------------\n",
      "0 | model             | GaussianDiffusion | 4.0 M \n",
      "1 | ema_model         | GaussianDiffusion | 4.0 M \n",
      "2 | _feature_scaler   | MinMaxScaler      | 0     \n",
      "3 | _condition_scaler | MinMaxScaler      | 0     \n",
      "--------------------------------------------------------\n",
      "7.9 M     Trainable params\n",
      "0         Non-trainable params\n",
      "7.9 M     Total params\n",
      "31.749    Total estimated model params size (MB)\n"
     ]
    },
    {
     "data": {
      "application/vnd.jupyter.widget-view+json": {
       "model_id": "2b3726119c7c4176a2b1e0fd5243956e",
       "version_major": 2,
       "version_minor": 0
      },
      "text/plain": [
       "Training: |          | 0/? [00:00<?, ?it/s]"
      ]
     },
     "metadata": {
      "application/vnd.jupyter.widget-view+json": {
       "colab": {
        "custom_widget_manager": {
         "url": "https://ssl.gstatic.com/colaboratory-static/widgets/colab-cdn-widget-manager/2b70e893a8ba7c0f/manager.min.js"
        }
       }
      }
     },
     "output_type": "display_data"
    },
    {
     "name": "stderr",
     "output_type": "stream",
     "text": [
      "INFO:pytorch_lightning.utilities.rank_zero:`Trainer.fit` stopped: `max_epochs=3` reached.\n"
     ]
    },
    {
     "data": {
      "text/plain": [
       "DDPM(\n",
       "  (model): GaussianDiffusion(\n",
       "    (denoise_fn): Unet1D(\n",
       "      (init_conv): Conv1d(1, 32, kernel_size=(7,), stride=(1,), padding=(3,))\n",
       "      (time_mlp): Sequential(\n",
       "        (0): SinusoidalPosEmb()\n",
       "        (1): Linear(in_features=32, out_features=128, bias=True)\n",
       "        (2): GELU(approximate='none')\n",
       "        (3): Linear(in_features=128, out_features=128, bias=True)\n",
       "      )\n",
       "      (downs): ModuleList(\n",
       "        (0): ModuleList(\n",
       "          (0-1): 2 x ResnetBlock(\n",
       "            (mlp): Sequential(\n",
       "              (0): SiLU()\n",
       "              (1): Linear(in_features=128, out_features=64, bias=True)\n",
       "            )\n",
       "            (block1): Block(\n",
       "              (proj): WeightStandardizedConv2d(32, 32, kernel_size=(3,), stride=(1,), padding=(1,))\n",
       "              (norm): GroupNorm(8, 32, eps=1e-05, affine=True)\n",
       "              (act): SiLU()\n",
       "            )\n",
       "            (block2): Block(\n",
       "              (proj): WeightStandardizedConv2d(32, 32, kernel_size=(3,), stride=(1,), padding=(1,))\n",
       "              (norm): GroupNorm(8, 32, eps=1e-05, affine=True)\n",
       "              (act): SiLU()\n",
       "            )\n",
       "            (res_conv): Identity()\n",
       "          )\n",
       "          (2): Residual(\n",
       "            (fn): PreNorm(\n",
       "              (fn): LinearAttention(\n",
       "                (to_qkv): Conv1d(32, 384, kernel_size=(1,), stride=(1,), bias=False)\n",
       "                (to_out): Sequential(\n",
       "                  (0): Conv1d(128, 32, kernel_size=(1,), stride=(1,))\n",
       "                  (1): LayerNorm()\n",
       "                )\n",
       "              )\n",
       "              (norm): LayerNorm()\n",
       "            )\n",
       "          )\n",
       "          (3): Conv1d(32, 32, kernel_size=(3,), stride=(2,), padding=(1,))\n",
       "        )\n",
       "        (1): ModuleList(\n",
       "          (0-1): 2 x ResnetBlock(\n",
       "            (mlp): Sequential(\n",
       "              (0): SiLU()\n",
       "              (1): Linear(in_features=128, out_features=64, bias=True)\n",
       "            )\n",
       "            (block1): Block(\n",
       "              (proj): WeightStandardizedConv2d(32, 32, kernel_size=(3,), stride=(1,), padding=(1,))\n",
       "              (norm): GroupNorm(8, 32, eps=1e-05, affine=True)\n",
       "              (act): SiLU()\n",
       "            )\n",
       "            (block2): Block(\n",
       "              (proj): WeightStandardizedConv2d(32, 32, kernel_size=(3,), stride=(1,), padding=(1,))\n",
       "              (norm): GroupNorm(8, 32, eps=1e-05, affine=True)\n",
       "              (act): SiLU()\n",
       "            )\n",
       "            (res_conv): Identity()\n",
       "          )\n",
       "          (2): Residual(\n",
       "            (fn): PreNorm(\n",
       "              (fn): LinearAttention(\n",
       "                (to_qkv): Conv1d(32, 384, kernel_size=(1,), stride=(1,), bias=False)\n",
       "                (to_out): Sequential(\n",
       "                  (0): Conv1d(128, 32, kernel_size=(1,), stride=(1,))\n",
       "                  (1): LayerNorm()\n",
       "                )\n",
       "              )\n",
       "              (norm): LayerNorm()\n",
       "            )\n",
       "          )\n",
       "          (3): Conv1d(32, 64, kernel_size=(3,), stride=(2,), padding=(1,))\n",
       "        )\n",
       "        (2): ModuleList(\n",
       "          (0-1): 2 x ResnetBlock(\n",
       "            (mlp): Sequential(\n",
       "              (0): SiLU()\n",
       "              (1): Linear(in_features=128, out_features=128, bias=True)\n",
       "            )\n",
       "            (block1): Block(\n",
       "              (proj): WeightStandardizedConv2d(64, 64, kernel_size=(3,), stride=(1,), padding=(1,))\n",
       "              (norm): GroupNorm(8, 64, eps=1e-05, affine=True)\n",
       "              (act): SiLU()\n",
       "            )\n",
       "            (block2): Block(\n",
       "              (proj): WeightStandardizedConv2d(64, 64, kernel_size=(3,), stride=(1,), padding=(1,))\n",
       "              (norm): GroupNorm(8, 64, eps=1e-05, affine=True)\n",
       "              (act): SiLU()\n",
       "            )\n",
       "            (res_conv): Identity()\n",
       "          )\n",
       "          (2): Residual(\n",
       "            (fn): PreNorm(\n",
       "              (fn): LinearAttention(\n",
       "                (to_qkv): Conv1d(64, 384, kernel_size=(1,), stride=(1,), bias=False)\n",
       "                (to_out): Sequential(\n",
       "                  (0): Conv1d(128, 64, kernel_size=(1,), stride=(1,))\n",
       "                  (1): LayerNorm()\n",
       "                )\n",
       "              )\n",
       "              (norm): LayerNorm()\n",
       "            )\n",
       "          )\n",
       "          (3): Conv1d(64, 128, kernel_size=(3,), stride=(2,), padding=(1,))\n",
       "        )\n",
       "        (3): ModuleList(\n",
       "          (0-1): 2 x ResnetBlock(\n",
       "            (mlp): Sequential(\n",
       "              (0): SiLU()\n",
       "              (1): Linear(in_features=128, out_features=256, bias=True)\n",
       "            )\n",
       "            (block1): Block(\n",
       "              (proj): WeightStandardizedConv2d(128, 128, kernel_size=(3,), stride=(1,), padding=(1,))\n",
       "              (norm): GroupNorm(8, 128, eps=1e-05, affine=True)\n",
       "              (act): SiLU()\n",
       "            )\n",
       "            (block2): Block(\n",
       "              (proj): WeightStandardizedConv2d(128, 128, kernel_size=(3,), stride=(1,), padding=(1,))\n",
       "              (norm): GroupNorm(8, 128, eps=1e-05, affine=True)\n",
       "              (act): SiLU()\n",
       "            )\n",
       "            (res_conv): Identity()\n",
       "          )\n",
       "          (2): Residual(\n",
       "            (fn): PreNorm(\n",
       "              (fn): LinearAttention(\n",
       "                (to_qkv): Conv1d(128, 384, kernel_size=(1,), stride=(1,), bias=False)\n",
       "                (to_out): Sequential(\n",
       "                  (0): Conv1d(128, 128, kernel_size=(1,), stride=(1,))\n",
       "                  (1): LayerNorm()\n",
       "                )\n",
       "              )\n",
       "              (norm): LayerNorm()\n",
       "            )\n",
       "          )\n",
       "          (3): Conv1d(128, 256, kernel_size=(3,), stride=(1,), padding=(1,))\n",
       "        )\n",
       "      )\n",
       "      (ups): ModuleList(\n",
       "        (0): ModuleList(\n",
       "          (0-1): 2 x ResnetBlock(\n",
       "            (mlp): Sequential(\n",
       "              (0): SiLU()\n",
       "              (1): Linear(in_features=128, out_features=512, bias=True)\n",
       "            )\n",
       "            (block1): Block(\n",
       "              (proj): WeightStandardizedConv2d(384, 256, kernel_size=(3,), stride=(1,), padding=(1,))\n",
       "              (norm): GroupNorm(8, 256, eps=1e-05, affine=True)\n",
       "              (act): SiLU()\n",
       "            )\n",
       "            (block2): Block(\n",
       "              (proj): WeightStandardizedConv2d(256, 256, kernel_size=(3,), stride=(1,), padding=(1,))\n",
       "              (norm): GroupNorm(8, 256, eps=1e-05, affine=True)\n",
       "              (act): SiLU()\n",
       "            )\n",
       "            (res_conv): Conv1d(384, 256, kernel_size=(1,), stride=(1,))\n",
       "          )\n",
       "          (2): Residual(\n",
       "            (fn): PreNorm(\n",
       "              (fn): LinearAttention(\n",
       "                (to_qkv): Conv1d(256, 384, kernel_size=(1,), stride=(1,), bias=False)\n",
       "                (to_out): Sequential(\n",
       "                  (0): Conv1d(128, 256, kernel_size=(1,), stride=(1,))\n",
       "                  (1): LayerNorm()\n",
       "                )\n",
       "              )\n",
       "              (norm): LayerNorm()\n",
       "            )\n",
       "          )\n",
       "          (3): Sequential(\n",
       "            (0): Upsample(scale_factor=2.0, mode='nearest')\n",
       "            (1): Conv1d(256, 128, kernel_size=(3,), stride=(1,), padding=(1,))\n",
       "          )\n",
       "        )\n",
       "        (1): ModuleList(\n",
       "          (0-1): 2 x ResnetBlock(\n",
       "            (mlp): Sequential(\n",
       "              (0): SiLU()\n",
       "              (1): Linear(in_features=128, out_features=256, bias=True)\n",
       "            )\n",
       "            (block1): Block(\n",
       "              (proj): WeightStandardizedConv2d(192, 128, kernel_size=(3,), stride=(1,), padding=(1,))\n",
       "              (norm): GroupNorm(8, 128, eps=1e-05, affine=True)\n",
       "              (act): SiLU()\n",
       "            )\n",
       "            (block2): Block(\n",
       "              (proj): WeightStandardizedConv2d(128, 128, kernel_size=(3,), stride=(1,), padding=(1,))\n",
       "              (norm): GroupNorm(8, 128, eps=1e-05, affine=True)\n",
       "              (act): SiLU()\n",
       "            )\n",
       "            (res_conv): Conv1d(192, 128, kernel_size=(1,), stride=(1,))\n",
       "          )\n",
       "          (2): Residual(\n",
       "            (fn): PreNorm(\n",
       "              (fn): LinearAttention(\n",
       "                (to_qkv): Conv1d(128, 384, kernel_size=(1,), stride=(1,), bias=False)\n",
       "                (to_out): Sequential(\n",
       "                  (0): Conv1d(128, 128, kernel_size=(1,), stride=(1,))\n",
       "                  (1): LayerNorm()\n",
       "                )\n",
       "              )\n",
       "              (norm): LayerNorm()\n",
       "            )\n",
       "          )\n",
       "          (3): Sequential(\n",
       "            (0): Upsample(scale_factor=2.0, mode='nearest')\n",
       "            (1): Conv1d(128, 64, kernel_size=(3,), stride=(1,), padding=(1,))\n",
       "          )\n",
       "        )\n",
       "        (2): ModuleList(\n",
       "          (0-1): 2 x ResnetBlock(\n",
       "            (mlp): Sequential(\n",
       "              (0): SiLU()\n",
       "              (1): Linear(in_features=128, out_features=128, bias=True)\n",
       "            )\n",
       "            (block1): Block(\n",
       "              (proj): WeightStandardizedConv2d(96, 64, kernel_size=(3,), stride=(1,), padding=(1,))\n",
       "              (norm): GroupNorm(8, 64, eps=1e-05, affine=True)\n",
       "              (act): SiLU()\n",
       "            )\n",
       "            (block2): Block(\n",
       "              (proj): WeightStandardizedConv2d(64, 64, kernel_size=(3,), stride=(1,), padding=(1,))\n",
       "              (norm): GroupNorm(8, 64, eps=1e-05, affine=True)\n",
       "              (act): SiLU()\n",
       "            )\n",
       "            (res_conv): Conv1d(96, 64, kernel_size=(1,), stride=(1,))\n",
       "          )\n",
       "          (2): Residual(\n",
       "            (fn): PreNorm(\n",
       "              (fn): LinearAttention(\n",
       "                (to_qkv): Conv1d(64, 384, kernel_size=(1,), stride=(1,), bias=False)\n",
       "                (to_out): Sequential(\n",
       "                  (0): Conv1d(128, 64, kernel_size=(1,), stride=(1,))\n",
       "                  (1): LayerNorm()\n",
       "                )\n",
       "              )\n",
       "              (norm): LayerNorm()\n",
       "            )\n",
       "          )\n",
       "          (3): Sequential(\n",
       "            (0): Upsample(scale_factor=2.0, mode='nearest')\n",
       "            (1): Conv1d(64, 32, kernel_size=(3,), stride=(1,), padding=(1,))\n",
       "          )\n",
       "        )\n",
       "        (3): ModuleList(\n",
       "          (0-1): 2 x ResnetBlock(\n",
       "            (mlp): Sequential(\n",
       "              (0): SiLU()\n",
       "              (1): Linear(in_features=128, out_features=64, bias=True)\n",
       "            )\n",
       "            (block1): Block(\n",
       "              (proj): WeightStandardizedConv2d(64, 32, kernel_size=(3,), stride=(1,), padding=(1,))\n",
       "              (norm): GroupNorm(8, 32, eps=1e-05, affine=True)\n",
       "              (act): SiLU()\n",
       "            )\n",
       "            (block2): Block(\n",
       "              (proj): WeightStandardizedConv2d(32, 32, kernel_size=(3,), stride=(1,), padding=(1,))\n",
       "              (norm): GroupNorm(8, 32, eps=1e-05, affine=True)\n",
       "              (act): SiLU()\n",
       "            )\n",
       "            (res_conv): Conv1d(64, 32, kernel_size=(1,), stride=(1,))\n",
       "          )\n",
       "          (2): Residual(\n",
       "            (fn): PreNorm(\n",
       "              (fn): LinearAttention(\n",
       "                (to_qkv): Conv1d(32, 384, kernel_size=(1,), stride=(1,), bias=False)\n",
       "                (to_out): Sequential(\n",
       "                  (0): Conv1d(128, 32, kernel_size=(1,), stride=(1,))\n",
       "                  (1): LayerNorm()\n",
       "                )\n",
       "              )\n",
       "              (norm): LayerNorm()\n",
       "            )\n",
       "          )\n",
       "          (3): Conv1d(32, 32, kernel_size=(3,), stride=(1,), padding=(1,))\n",
       "        )\n",
       "      )\n",
       "      (mid_block1): ResnetBlock(\n",
       "        (mlp): Sequential(\n",
       "          (0): SiLU()\n",
       "          (1): Linear(in_features=128, out_features=512, bias=True)\n",
       "        )\n",
       "        (block1): Block(\n",
       "          (proj): WeightStandardizedConv2d(256, 256, kernel_size=(3,), stride=(1,), padding=(1,))\n",
       "          (norm): GroupNorm(8, 256, eps=1e-05, affine=True)\n",
       "          (act): SiLU()\n",
       "        )\n",
       "        (block2): Block(\n",
       "          (proj): WeightStandardizedConv2d(256, 256, kernel_size=(3,), stride=(1,), padding=(1,))\n",
       "          (norm): GroupNorm(8, 256, eps=1e-05, affine=True)\n",
       "          (act): SiLU()\n",
       "        )\n",
       "        (res_conv): Identity()\n",
       "      )\n",
       "      (mid_attn): Residual(\n",
       "        (fn): PreNorm(\n",
       "          (fn): Attention(\n",
       "            (to_qkv): Conv1d(256, 384, kernel_size=(1,), stride=(1,), bias=False)\n",
       "            (to_out): Conv1d(128, 256, kernel_size=(1,), stride=(1,))\n",
       "          )\n",
       "          (norm): LayerNorm()\n",
       "        )\n",
       "      )\n",
       "      (mid_block2): ResnetBlock(\n",
       "        (mlp): Sequential(\n",
       "          (0): SiLU()\n",
       "          (1): Linear(in_features=128, out_features=512, bias=True)\n",
       "        )\n",
       "        (block1): Block(\n",
       "          (proj): WeightStandardizedConv2d(256, 256, kernel_size=(3,), stride=(1,), padding=(1,))\n",
       "          (norm): GroupNorm(8, 256, eps=1e-05, affine=True)\n",
       "          (act): SiLU()\n",
       "        )\n",
       "        (block2): Block(\n",
       "          (proj): WeightStandardizedConv2d(256, 256, kernel_size=(3,), stride=(1,), padding=(1,))\n",
       "          (norm): GroupNorm(8, 256, eps=1e-05, affine=True)\n",
       "          (act): SiLU()\n",
       "        )\n",
       "        (res_conv): Identity()\n",
       "      )\n",
       "      (final_res_block): ResnetBlock(\n",
       "        (mlp): Sequential(\n",
       "          (0): SiLU()\n",
       "          (1): Linear(in_features=128, out_features=64, bias=True)\n",
       "        )\n",
       "        (block1): Block(\n",
       "          (proj): WeightStandardizedConv2d(64, 32, kernel_size=(3,), stride=(1,), padding=(1,))\n",
       "          (norm): GroupNorm(8, 32, eps=1e-05, affine=True)\n",
       "          (act): SiLU()\n",
       "        )\n",
       "        (block2): Block(\n",
       "          (proj): WeightStandardizedConv2d(32, 32, kernel_size=(3,), stride=(1,), padding=(1,))\n",
       "          (norm): GroupNorm(8, 32, eps=1e-05, affine=True)\n",
       "          (act): SiLU()\n",
       "        )\n",
       "        (res_conv): Conv1d(64, 32, kernel_size=(1,), stride=(1,))\n",
       "      )\n",
       "      (final_conv): Conv1d(32, 1, kernel_size=(1,), stride=(1,))\n",
       "    )\n",
       "  )\n",
       "  (ema_model): GaussianDiffusion(\n",
       "    (denoise_fn): Unet1D(\n",
       "      (init_conv): Conv1d(1, 32, kernel_size=(7,), stride=(1,), padding=(3,))\n",
       "      (time_mlp): Sequential(\n",
       "        (0): SinusoidalPosEmb()\n",
       "        (1): Linear(in_features=32, out_features=128, bias=True)\n",
       "        (2): GELU(approximate='none')\n",
       "        (3): Linear(in_features=128, out_features=128, bias=True)\n",
       "      )\n",
       "      (downs): ModuleList(\n",
       "        (0): ModuleList(\n",
       "          (0-1): 2 x ResnetBlock(\n",
       "            (mlp): Sequential(\n",
       "              (0): SiLU()\n",
       "              (1): Linear(in_features=128, out_features=64, bias=True)\n",
       "            )\n",
       "            (block1): Block(\n",
       "              (proj): WeightStandardizedConv2d(32, 32, kernel_size=(3,), stride=(1,), padding=(1,))\n",
       "              (norm): GroupNorm(8, 32, eps=1e-05, affine=True)\n",
       "              (act): SiLU()\n",
       "            )\n",
       "            (block2): Block(\n",
       "              (proj): WeightStandardizedConv2d(32, 32, kernel_size=(3,), stride=(1,), padding=(1,))\n",
       "              (norm): GroupNorm(8, 32, eps=1e-05, affine=True)\n",
       "              (act): SiLU()\n",
       "            )\n",
       "            (res_conv): Identity()\n",
       "          )\n",
       "          (2): Residual(\n",
       "            (fn): PreNorm(\n",
       "              (fn): LinearAttention(\n",
       "                (to_qkv): Conv1d(32, 384, kernel_size=(1,), stride=(1,), bias=False)\n",
       "                (to_out): Sequential(\n",
       "                  (0): Conv1d(128, 32, kernel_size=(1,), stride=(1,))\n",
       "                  (1): LayerNorm()\n",
       "                )\n",
       "              )\n",
       "              (norm): LayerNorm()\n",
       "            )\n",
       "          )\n",
       "          (3): Conv1d(32, 32, kernel_size=(3,), stride=(2,), padding=(1,))\n",
       "        )\n",
       "        (1): ModuleList(\n",
       "          (0-1): 2 x ResnetBlock(\n",
       "            (mlp): Sequential(\n",
       "              (0): SiLU()\n",
       "              (1): Linear(in_features=128, out_features=64, bias=True)\n",
       "            )\n",
       "            (block1): Block(\n",
       "              (proj): WeightStandardizedConv2d(32, 32, kernel_size=(3,), stride=(1,), padding=(1,))\n",
       "              (norm): GroupNorm(8, 32, eps=1e-05, affine=True)\n",
       "              (act): SiLU()\n",
       "            )\n",
       "            (block2): Block(\n",
       "              (proj): WeightStandardizedConv2d(32, 32, kernel_size=(3,), stride=(1,), padding=(1,))\n",
       "              (norm): GroupNorm(8, 32, eps=1e-05, affine=True)\n",
       "              (act): SiLU()\n",
       "            )\n",
       "            (res_conv): Identity()\n",
       "          )\n",
       "          (2): Residual(\n",
       "            (fn): PreNorm(\n",
       "              (fn): LinearAttention(\n",
       "                (to_qkv): Conv1d(32, 384, kernel_size=(1,), stride=(1,), bias=False)\n",
       "                (to_out): Sequential(\n",
       "                  (0): Conv1d(128, 32, kernel_size=(1,), stride=(1,))\n",
       "                  (1): LayerNorm()\n",
       "                )\n",
       "              )\n",
       "              (norm): LayerNorm()\n",
       "            )\n",
       "          )\n",
       "          (3): Conv1d(32, 64, kernel_size=(3,), stride=(2,), padding=(1,))\n",
       "        )\n",
       "        (2): ModuleList(\n",
       "          (0-1): 2 x ResnetBlock(\n",
       "            (mlp): Sequential(\n",
       "              (0): SiLU()\n",
       "              (1): Linear(in_features=128, out_features=128, bias=True)\n",
       "            )\n",
       "            (block1): Block(\n",
       "              (proj): WeightStandardizedConv2d(64, 64, kernel_size=(3,), stride=(1,), padding=(1,))\n",
       "              (norm): GroupNorm(8, 64, eps=1e-05, affine=True)\n",
       "              (act): SiLU()\n",
       "            )\n",
       "            (block2): Block(\n",
       "              (proj): WeightStandardizedConv2d(64, 64, kernel_size=(3,), stride=(1,), padding=(1,))\n",
       "              (norm): GroupNorm(8, 64, eps=1e-05, affine=True)\n",
       "              (act): SiLU()\n",
       "            )\n",
       "            (res_conv): Identity()\n",
       "          )\n",
       "          (2): Residual(\n",
       "            (fn): PreNorm(\n",
       "              (fn): LinearAttention(\n",
       "                (to_qkv): Conv1d(64, 384, kernel_size=(1,), stride=(1,), bias=False)\n",
       "                (to_out): Sequential(\n",
       "                  (0): Conv1d(128, 64, kernel_size=(1,), stride=(1,))\n",
       "                  (1): LayerNorm()\n",
       "                )\n",
       "              )\n",
       "              (norm): LayerNorm()\n",
       "            )\n",
       "          )\n",
       "          (3): Conv1d(64, 128, kernel_size=(3,), stride=(2,), padding=(1,))\n",
       "        )\n",
       "        (3): ModuleList(\n",
       "          (0-1): 2 x ResnetBlock(\n",
       "            (mlp): Sequential(\n",
       "              (0): SiLU()\n",
       "              (1): Linear(in_features=128, out_features=256, bias=True)\n",
       "            )\n",
       "            (block1): Block(\n",
       "              (proj): WeightStandardizedConv2d(128, 128, kernel_size=(3,), stride=(1,), padding=(1,))\n",
       "              (norm): GroupNorm(8, 128, eps=1e-05, affine=True)\n",
       "              (act): SiLU()\n",
       "            )\n",
       "            (block2): Block(\n",
       "              (proj): WeightStandardizedConv2d(128, 128, kernel_size=(3,), stride=(1,), padding=(1,))\n",
       "              (norm): GroupNorm(8, 128, eps=1e-05, affine=True)\n",
       "              (act): SiLU()\n",
       "            )\n",
       "            (res_conv): Identity()\n",
       "          )\n",
       "          (2): Residual(\n",
       "            (fn): PreNorm(\n",
       "              (fn): LinearAttention(\n",
       "                (to_qkv): Conv1d(128, 384, kernel_size=(1,), stride=(1,), bias=False)\n",
       "                (to_out): Sequential(\n",
       "                  (0): Conv1d(128, 128, kernel_size=(1,), stride=(1,))\n",
       "                  (1): LayerNorm()\n",
       "                )\n",
       "              )\n",
       "              (norm): LayerNorm()\n",
       "            )\n",
       "          )\n",
       "          (3): Conv1d(128, 256, kernel_size=(3,), stride=(1,), padding=(1,))\n",
       "        )\n",
       "      )\n",
       "      (ups): ModuleList(\n",
       "        (0): ModuleList(\n",
       "          (0-1): 2 x ResnetBlock(\n",
       "            (mlp): Sequential(\n",
       "              (0): SiLU()\n",
       "              (1): Linear(in_features=128, out_features=512, bias=True)\n",
       "            )\n",
       "            (block1): Block(\n",
       "              (proj): WeightStandardizedConv2d(384, 256, kernel_size=(3,), stride=(1,), padding=(1,))\n",
       "              (norm): GroupNorm(8, 256, eps=1e-05, affine=True)\n",
       "              (act): SiLU()\n",
       "            )\n",
       "            (block2): Block(\n",
       "              (proj): WeightStandardizedConv2d(256, 256, kernel_size=(3,), stride=(1,), padding=(1,))\n",
       "              (norm): GroupNorm(8, 256, eps=1e-05, affine=True)\n",
       "              (act): SiLU()\n",
       "            )\n",
       "            (res_conv): Conv1d(384, 256, kernel_size=(1,), stride=(1,))\n",
       "          )\n",
       "          (2): Residual(\n",
       "            (fn): PreNorm(\n",
       "              (fn): LinearAttention(\n",
       "                (to_qkv): Conv1d(256, 384, kernel_size=(1,), stride=(1,), bias=False)\n",
       "                (to_out): Sequential(\n",
       "                  (0): Conv1d(128, 256, kernel_size=(1,), stride=(1,))\n",
       "                  (1): LayerNorm()\n",
       "                )\n",
       "              )\n",
       "              (norm): LayerNorm()\n",
       "            )\n",
       "          )\n",
       "          (3): Sequential(\n",
       "            (0): Upsample(scale_factor=2.0, mode='nearest')\n",
       "            (1): Conv1d(256, 128, kernel_size=(3,), stride=(1,), padding=(1,))\n",
       "          )\n",
       "        )\n",
       "        (1): ModuleList(\n",
       "          (0-1): 2 x ResnetBlock(\n",
       "            (mlp): Sequential(\n",
       "              (0): SiLU()\n",
       "              (1): Linear(in_features=128, out_features=256, bias=True)\n",
       "            )\n",
       "            (block1): Block(\n",
       "              (proj): WeightStandardizedConv2d(192, 128, kernel_size=(3,), stride=(1,), padding=(1,))\n",
       "              (norm): GroupNorm(8, 128, eps=1e-05, affine=True)\n",
       "              (act): SiLU()\n",
       "            )\n",
       "            (block2): Block(\n",
       "              (proj): WeightStandardizedConv2d(128, 128, kernel_size=(3,), stride=(1,), padding=(1,))\n",
       "              (norm): GroupNorm(8, 128, eps=1e-05, affine=True)\n",
       "              (act): SiLU()\n",
       "            )\n",
       "            (res_conv): Conv1d(192, 128, kernel_size=(1,), stride=(1,))\n",
       "          )\n",
       "          (2): Residual(\n",
       "            (fn): PreNorm(\n",
       "              (fn): LinearAttention(\n",
       "                (to_qkv): Conv1d(128, 384, kernel_size=(1,), stride=(1,), bias=False)\n",
       "                (to_out): Sequential(\n",
       "                  (0): Conv1d(128, 128, kernel_size=(1,), stride=(1,))\n",
       "                  (1): LayerNorm()\n",
       "                )\n",
       "              )\n",
       "              (norm): LayerNorm()\n",
       "            )\n",
       "          )\n",
       "          (3): Sequential(\n",
       "            (0): Upsample(scale_factor=2.0, mode='nearest')\n",
       "            (1): Conv1d(128, 64, kernel_size=(3,), stride=(1,), padding=(1,))\n",
       "          )\n",
       "        )\n",
       "        (2): ModuleList(\n",
       "          (0-1): 2 x ResnetBlock(\n",
       "            (mlp): Sequential(\n",
       "              (0): SiLU()\n",
       "              (1): Linear(in_features=128, out_features=128, bias=True)\n",
       "            )\n",
       "            (block1): Block(\n",
       "              (proj): WeightStandardizedConv2d(96, 64, kernel_size=(3,), stride=(1,), padding=(1,))\n",
       "              (norm): GroupNorm(8, 64, eps=1e-05, affine=True)\n",
       "              (act): SiLU()\n",
       "            )\n",
       "            (block2): Block(\n",
       "              (proj): WeightStandardizedConv2d(64, 64, kernel_size=(3,), stride=(1,), padding=(1,))\n",
       "              (norm): GroupNorm(8, 64, eps=1e-05, affine=True)\n",
       "              (act): SiLU()\n",
       "            )\n",
       "            (res_conv): Conv1d(96, 64, kernel_size=(1,), stride=(1,))\n",
       "          )\n",
       "          (2): Residual(\n",
       "            (fn): PreNorm(\n",
       "              (fn): LinearAttention(\n",
       "                (to_qkv): Conv1d(64, 384, kernel_size=(1,), stride=(1,), bias=False)\n",
       "                (to_out): Sequential(\n",
       "                  (0): Conv1d(128, 64, kernel_size=(1,), stride=(1,))\n",
       "                  (1): LayerNorm()\n",
       "                )\n",
       "              )\n",
       "              (norm): LayerNorm()\n",
       "            )\n",
       "          )\n",
       "          (3): Sequential(\n",
       "            (0): Upsample(scale_factor=2.0, mode='nearest')\n",
       "            (1): Conv1d(64, 32, kernel_size=(3,), stride=(1,), padding=(1,))\n",
       "          )\n",
       "        )\n",
       "        (3): ModuleList(\n",
       "          (0-1): 2 x ResnetBlock(\n",
       "            (mlp): Sequential(\n",
       "              (0): SiLU()\n",
       "              (1): Linear(in_features=128, out_features=64, bias=True)\n",
       "            )\n",
       "            (block1): Block(\n",
       "              (proj): WeightStandardizedConv2d(64, 32, kernel_size=(3,), stride=(1,), padding=(1,))\n",
       "              (norm): GroupNorm(8, 32, eps=1e-05, affine=True)\n",
       "              (act): SiLU()\n",
       "            )\n",
       "            (block2): Block(\n",
       "              (proj): WeightStandardizedConv2d(32, 32, kernel_size=(3,), stride=(1,), padding=(1,))\n",
       "              (norm): GroupNorm(8, 32, eps=1e-05, affine=True)\n",
       "              (act): SiLU()\n",
       "            )\n",
       "            (res_conv): Conv1d(64, 32, kernel_size=(1,), stride=(1,))\n",
       "          )\n",
       "          (2): Residual(\n",
       "            (fn): PreNorm(\n",
       "              (fn): LinearAttention(\n",
       "                (to_qkv): Conv1d(32, 384, kernel_size=(1,), stride=(1,), bias=False)\n",
       "                (to_out): Sequential(\n",
       "                  (0): Conv1d(128, 32, kernel_size=(1,), stride=(1,))\n",
       "                  (1): LayerNorm()\n",
       "                )\n",
       "              )\n",
       "              (norm): LayerNorm()\n",
       "            )\n",
       "          )\n",
       "          (3): Conv1d(32, 32, kernel_size=(3,), stride=(1,), padding=(1,))\n",
       "        )\n",
       "      )\n",
       "      (mid_block1): ResnetBlock(\n",
       "        (mlp): Sequential(\n",
       "          (0): SiLU()\n",
       "          (1): Linear(in_features=128, out_features=512, bias=True)\n",
       "        )\n",
       "        (block1): Block(\n",
       "          (proj): WeightStandardizedConv2d(256, 256, kernel_size=(3,), stride=(1,), padding=(1,))\n",
       "          (norm): GroupNorm(8, 256, eps=1e-05, affine=True)\n",
       "          (act): SiLU()\n",
       "        )\n",
       "        (block2): Block(\n",
       "          (proj): WeightStandardizedConv2d(256, 256, kernel_size=(3,), stride=(1,), padding=(1,))\n",
       "          (norm): GroupNorm(8, 256, eps=1e-05, affine=True)\n",
       "          (act): SiLU()\n",
       "        )\n",
       "        (res_conv): Identity()\n",
       "      )\n",
       "      (mid_attn): Residual(\n",
       "        (fn): PreNorm(\n",
       "          (fn): Attention(\n",
       "            (to_qkv): Conv1d(256, 384, kernel_size=(1,), stride=(1,), bias=False)\n",
       "            (to_out): Conv1d(128, 256, kernel_size=(1,), stride=(1,))\n",
       "          )\n",
       "          (norm): LayerNorm()\n",
       "        )\n",
       "      )\n",
       "      (mid_block2): ResnetBlock(\n",
       "        (mlp): Sequential(\n",
       "          (0): SiLU()\n",
       "          (1): Linear(in_features=128, out_features=512, bias=True)\n",
       "        )\n",
       "        (block1): Block(\n",
       "          (proj): WeightStandardizedConv2d(256, 256, kernel_size=(3,), stride=(1,), padding=(1,))\n",
       "          (norm): GroupNorm(8, 256, eps=1e-05, affine=True)\n",
       "          (act): SiLU()\n",
       "        )\n",
       "        (block2): Block(\n",
       "          (proj): WeightStandardizedConv2d(256, 256, kernel_size=(3,), stride=(1,), padding=(1,))\n",
       "          (norm): GroupNorm(8, 256, eps=1e-05, affine=True)\n",
       "          (act): SiLU()\n",
       "        )\n",
       "        (res_conv): Identity()\n",
       "      )\n",
       "      (final_res_block): ResnetBlock(\n",
       "        (mlp): Sequential(\n",
       "          (0): SiLU()\n",
       "          (1): Linear(in_features=128, out_features=64, bias=True)\n",
       "        )\n",
       "        (block1): Block(\n",
       "          (proj): WeightStandardizedConv2d(64, 32, kernel_size=(3,), stride=(1,), padding=(1,))\n",
       "          (norm): GroupNorm(8, 32, eps=1e-05, affine=True)\n",
       "          (act): SiLU()\n",
       "        )\n",
       "        (block2): Block(\n",
       "          (proj): WeightStandardizedConv2d(32, 32, kernel_size=(3,), stride=(1,), padding=(1,))\n",
       "          (norm): GroupNorm(8, 32, eps=1e-05, affine=True)\n",
       "          (act): SiLU()\n",
       "        )\n",
       "        (res_conv): Conv1d(64, 32, kernel_size=(1,), stride=(1,))\n",
       "      )\n",
       "      (final_conv): Conv1d(32, 1, kernel_size=(1,), stride=(1,))\n",
       "    )\n",
       "  )\n",
       "  (_feature_scaler): MinMaxScaler()\n",
       "  (_condition_scaler): MinMaxScaler()\n",
       ")"
      ]
     },
     "execution_count": 37,
     "metadata": {},
     "output_type": "execute_result"
    }
   ],
   "source": [
    "model_ddpm.fit(xyz, CVs, max_epochs=3)"
   ]
  },
  {
   "cell_type": "markdown",
   "metadata": {
    "id": "qovKI7yAKbr4"
   },
   "source": [
    "# Decode synthetic traj (~2 mins)"
   ]
  },
  {
   "cell_type": "code",
   "execution_count": 38,
   "metadata": {
    "colab": {
     "base_uri": "https://localhost:8080/",
     "height": 49,
     "referenced_widgets": [
      "8e5ab8edd5f243b78004e6bfbb5711ca",
      "c508ba4a9c7040579392bd1648400981",
      "9f87100db3194278847058eed707bdd8",
      "2b9fbf19eef34be8a41e86e16738135e",
      "3ad52208a3674fbda480fbe2bc48e37c",
      "8c0f5b6c5f2f429b8e2e4ed0d9c6be8e",
      "6f576eb94cb24c6ab44c241f1d254b45",
      "5996f3297e7b42f79affe84f4c76a26c",
      "ff6e3c1b8adb4a1fb7a09272566631fe",
      "5e6b3d5abef8485c9e8b217074c18fad",
      "7dad505c888c40aca716f31c047499e8"
     ]
    },
    "id": "wE2Mz-7SKbr4",
    "outputId": "63afba3d-0692-4413-a170-e2bdc60bab5b"
   },
   "outputs": [
    {
     "data": {
      "application/vnd.jupyter.widget-view+json": {
       "model_id": "8e5ab8edd5f243b78004e6bfbb5711ca",
       "version_major": 2,
       "version_minor": 0
      },
      "text/plain": [
       "sampling loop time step:   0%|          | 0/1000 [00:00<?, ?it/s]"
      ]
     },
     "metadata": {
      "application/vnd.jupyter.widget-view+json": {
       "colab": {
        "custom_widget_manager": {
         "url": "https://ssl.gstatic.com/colaboratory-static/widgets/colab-cdn-widget-manager/2b70e893a8ba7c0f/manager.min.js"
        }
       }
      }
     },
     "output_type": "display_data"
    }
   ],
   "source": [
    "xyz_gen = model_ddpm.generate(synthetic_traj_CVs)"
   ]
  },
  {
   "cell_type": "code",
   "execution_count": 39,
   "metadata": {
    "colab": {
     "base_uri": "https://localhost:8080/",
     "height": 0
    },
    "id": "m-j3DeQ3Kbr4",
    "outputId": "d2f2ba3e-4b26-4f5c-dc81-42d1effb6bb2"
   },
   "outputs": [
    {
     "data": {
      "text/plain": [
       "<mdtraj.Trajectory with 100 frames, 8 atoms, 3 residues, without unitcells at 0x7b32459e8190>"
      ]
     },
     "execution_count": 39,
     "metadata": {},
     "output_type": "execute_result"
    }
   ],
   "source": [
    "xyz_gen = xyz_gen.reshape(xyz_gen.size(0), -1 , 3).numpy()\n",
    "fake_trj = md.Trajectory(xyz = xyz_gen, topology=t_backbone.top)\n",
    "fake_trj"
   ]
  },
  {
   "cell_type": "markdown",
   "metadata": {
    "id": "iF_yHOYsKbr4"
   },
   "source": [
    "# Visualize results (~1 min)"
   ]
  },
  {
   "cell_type": "code",
   "execution_count": 40,
   "metadata": {
    "colab": {
     "base_uri": "https://localhost:8080/",
     "height": 317,
     "referenced_widgets": [
      "39618d1818064f13b06e399f4600cd96",
      "411b435bc2da490fa9adb98cc350c1ff",
      "7aef031a9bea409892ff58118c5f3072",
      "6d993a5a42ae4b9da0f2485525705206",
      "eadc8aa7e7b54137a06e2b971c8a0eac",
      "b17516fa2c3648818a54b8c6d496d6ba",
      "a24bc394db464d52af34822425808ef6",
      "73ccc889e77c45f5a705e73d32cbea5d",
      "49a2db032f0c4e7b825285778419d59b",
      "8f8bee4a2af24094a57de949590fb1d1",
      "00a6d24badb64f7c80212033f259f82d",
      "9c6809e71e6c421e9ceb359de5682f21",
      "161c6d07f77b43bf9d4bf011828e46c1"
     ]
    },
    "id": "HddeAO7wKbr5",
    "outputId": "2aacd26d-4fa1-49be-e3e0-8239cff271fe"
   },
   "outputs": [
    {
     "data": {
      "application/vnd.jupyter.widget-view+json": {
       "model_id": "39618d1818064f13b06e399f4600cd96",
       "version_major": 2,
       "version_minor": 0
      },
      "text/plain": [
       "NGLWidget(max_frame=99)"
      ]
     },
     "metadata": {
      "application/vnd.jupyter.widget-view+json": {
       "colab": {
        "custom_widget_manager": {
         "url": "https://ssl.gstatic.com/colaboratory-static/widgets/colab-cdn-widget-manager/2b70e893a8ba7c0f/manager.min.js"
        }
       }
      }
     },
     "output_type": "display_data"
    }
   ],
   "source": [
    "v = nv.show_mdtraj(fake_trj)\n",
    "v"
   ]
  },
  {
   "cell_type": "code",
   "execution_count": 41,
   "metadata": {
    "id": "XHQjfJbTKbr5"
   },
   "outputs": [],
   "source": [
    "fake_trj.save_pdb('ADP_backbone_synthetic_traj.pdb')"
   ]
  }
 ],
 "metadata": {
  "accelerator": "GPU",
  "colab": {
   "gpuType": "L4",
   "provenance": []
  },
  "kernelspec": {
   "display_name": "Python 3 (ipykernel)",
   "language": "python",
   "name": "python3"
  },
  "language_info": {
   "codemirror_mode": {
    "name": "ipython",
    "version": 3
   },
   "file_extension": ".py",
   "mimetype": "text/x-python",
   "name": "python",
   "nbconvert_exporter": "python",
   "pygments_lexer": "ipython3",
   "version": "3.9.19"
  },
  "widgets": {
   "application/vnd.jupyter.widget-state+json": {
    "00a6d24badb64f7c80212033f259f82d": {
     "model_module": "@jupyter-widgets/base",
     "model_module_version": "1.2.0",
     "model_name": "LayoutModel",
     "state": {
      "_model_module": "@jupyter-widgets/base",
      "_model_module_version": "1.2.0",
      "_model_name": "LayoutModel",
      "_view_count": null,
      "_view_module": "@jupyter-widgets/base",
      "_view_module_version": "1.2.0",
      "_view_name": "LayoutView",
      "align_content": null,
      "align_items": null,
      "align_self": null,
      "border": null,
      "bottom": null,
      "display": null,
      "flex": null,
      "flex_flow": null,
      "grid_area": null,
      "grid_auto_columns": null,
      "grid_auto_flow": null,
      "grid_auto_rows": null,
      "grid_column": null,
      "grid_gap": null,
      "grid_row": null,
      "grid_template_areas": null,
      "grid_template_columns": null,
      "grid_template_rows": null,
      "height": null,
      "justify_content": null,
      "justify_items": null,
      "left": null,
      "margin": null,
      "max_height": null,
      "max_width": null,
      "min_height": null,
      "min_width": null,
      "object_fit": null,
      "object_position": null,
      "order": null,
      "overflow": null,
      "overflow_x": null,
      "overflow_y": null,
      "padding": null,
      "right": null,
      "top": null,
      "visibility": null,
      "width": "34px"
     }
    },
    "0157c68b46cd4ce8b77f5bd67b1851a7": {
     "model_module": "@jupyter-widgets/controls",
     "model_module_version": "1.5.0",
     "model_name": "FloatProgressModel",
     "state": {
      "_dom_classes": [],
      "_model_module": "@jupyter-widgets/controls",
      "_model_module_version": "1.5.0",
      "_model_name": "FloatProgressModel",
      "_view_count": null,
      "_view_module": "@jupyter-widgets/controls",
      "_view_module_version": "1.5.0",
      "_view_name": "ProgressView",
      "bar_style": "success",
      "description": "",
      "description_tooltip": null,
      "layout": "IPY_MODEL_35e5833510ca40c4a5c6d1c758d58de0",
      "max": 100,
      "min": 0,
      "orientation": "horizontal",
      "style": "IPY_MODEL_3d06172765d54d81b45714e975696f90",
      "value": 100
     }
    },
    "0930f27b3533465d91ad5552c166f613": {
     "model_module": "@jupyter-widgets/controls",
     "model_module_version": "1.5.0",
     "model_name": "HBoxModel",
     "state": {
      "_dom_classes": [],
      "_model_module": "@jupyter-widgets/controls",
      "_model_module_version": "1.5.0",
      "_model_name": "HBoxModel",
      "_view_count": null,
      "_view_module": "@jupyter-widgets/controls",
      "_view_module_version": "1.5.0",
      "_view_name": "HBoxView",
      "box_style": "",
      "children": [
       "IPY_MODEL_5d4f33ef3814441bbf9165d3e60f21ad",
       "IPY_MODEL_0157c68b46cd4ce8b77f5bd67b1851a7",
       "IPY_MODEL_5766119fe08e4a208f7d081a60c64c3b"
      ],
      "layout": "IPY_MODEL_4f1f47227a684f94bc66d647fce92740"
     }
    },
    "161c6d07f77b43bf9d4bf011828e46c1": {
     "model_module": "@jupyter-widgets/base",
     "model_module_version": "1.2.0",
     "model_name": "LayoutModel",
     "state": {
      "_model_module": "@jupyter-widgets/base",
      "_model_module_version": "1.2.0",
      "_model_name": "LayoutModel",
      "_view_count": null,
      "_view_module": "@jupyter-widgets/base",
      "_view_module_version": "1.2.0",
      "_view_name": "LayoutView",
      "align_content": null,
      "align_items": null,
      "align_self": null,
      "border": null,
      "bottom": null,
      "display": null,
      "flex": null,
      "flex_flow": null,
      "grid_area": null,
      "grid_auto_columns": null,
      "grid_auto_flow": null,
      "grid_auto_rows": null,
      "grid_column": null,
      "grid_gap": null,
      "grid_row": null,
      "grid_template_areas": null,
      "grid_template_columns": null,
      "grid_template_rows": null,
      "height": null,
      "justify_content": null,
      "justify_items": null,
      "left": null,
      "margin": null,
      "max_height": null,
      "max_width": null,
      "min_height": null,
      "min_width": null,
      "object_fit": null,
      "object_position": null,
      "order": null,
      "overflow": null,
      "overflow_x": null,
      "overflow_y": null,
      "padding": null,
      "right": null,
      "top": null,
      "visibility": null,
      "width": null
     }
    },
    "1a56f17f2ade4ebe82339d5d4cff1682": {
     "model_module": "@jupyter-widgets/controls",
     "model_module_version": "1.5.0",
     "model_name": "DescriptionStyleModel",
     "state": {
      "_model_module": "@jupyter-widgets/controls",
      "_model_module_version": "1.5.0",
      "_model_name": "DescriptionStyleModel",
      "_view_count": null,
      "_view_module": "@jupyter-widgets/base",
      "_view_module_version": "1.2.0",
      "_view_name": "StyleView",
      "description_width": ""
     }
    },
    "1afcc2367b2b4ac7b1b287227142b4f1": {
     "model_module": "@jupyter-widgets/controls",
     "model_module_version": "1.5.0",
     "model_name": "HTMLModel",
     "state": {
      "_dom_classes": [],
      "_model_module": "@jupyter-widgets/controls",
      "_model_module_version": "1.5.0",
      "_model_name": "HTMLModel",
      "_view_count": null,
      "_view_module": "@jupyter-widgets/controls",
      "_view_module_version": "1.5.0",
      "_view_name": "HTMLView",
      "description": "",
      "description_tooltip": null,
      "layout": "IPY_MODEL_1b3e494df9984871b699ad6cffe421af",
      "placeholder": "​",
      "style": "IPY_MODEL_6eede60f15734b10b0586519c8dba2a2",
      "value": "Epoch 9: 100%"
     }
    },
    "1b3e494df9984871b699ad6cffe421af": {
     "model_module": "@jupyter-widgets/base",
     "model_module_version": "1.2.0",
     "model_name": "LayoutModel",
     "state": {
      "_model_module": "@jupyter-widgets/base",
      "_model_module_version": "1.2.0",
      "_model_name": "LayoutModel",
      "_view_count": null,
      "_view_module": "@jupyter-widgets/base",
      "_view_module_version": "1.2.0",
      "_view_name": "LayoutView",
      "align_content": null,
      "align_items": null,
      "align_self": null,
      "border": null,
      "bottom": null,
      "display": null,
      "flex": null,
      "flex_flow": null,
      "grid_area": null,
      "grid_auto_columns": null,
      "grid_auto_flow": null,
      "grid_auto_rows": null,
      "grid_column": null,
      "grid_gap": null,
      "grid_row": null,
      "grid_template_areas": null,
      "grid_template_columns": null,
      "grid_template_rows": null,
      "height": null,
      "justify_content": null,
      "justify_items": null,
      "left": null,
      "margin": null,
      "max_height": null,
      "max_width": null,
      "min_height": null,
      "min_width": null,
      "object_fit": null,
      "object_position": null,
      "order": null,
      "overflow": null,
      "overflow_x": null,
      "overflow_y": null,
      "padding": null,
      "right": null,
      "top": null,
      "visibility": null,
      "width": null
     }
    },
    "2171f5e70c8d452190d0cffcde7a79c4": {
     "model_module": "@jupyter-widgets/base",
     "model_module_version": "1.2.0",
     "model_name": "LayoutModel",
     "state": {
      "_model_module": "@jupyter-widgets/base",
      "_model_module_version": "1.2.0",
      "_model_name": "LayoutModel",
      "_view_count": null,
      "_view_module": "@jupyter-widgets/base",
      "_view_module_version": "1.2.0",
      "_view_name": "LayoutView",
      "align_content": null,
      "align_items": null,
      "align_self": null,
      "border": null,
      "bottom": null,
      "display": "inline-flex",
      "flex": null,
      "flex_flow": "row wrap",
      "grid_area": null,
      "grid_auto_columns": null,
      "grid_auto_flow": null,
      "grid_auto_rows": null,
      "grid_column": null,
      "grid_gap": null,
      "grid_row": null,
      "grid_template_areas": null,
      "grid_template_columns": null,
      "grid_template_rows": null,
      "height": null,
      "justify_content": null,
      "justify_items": null,
      "left": null,
      "margin": null,
      "max_height": null,
      "max_width": null,
      "min_height": null,
      "min_width": null,
      "object_fit": null,
      "object_position": null,
      "order": null,
      "overflow": null,
      "overflow_x": null,
      "overflow_y": null,
      "padding": null,
      "right": null,
      "top": null,
      "visibility": null,
      "width": "100%"
     }
    },
    "25b7e95abeaf4efcab15db5b11a9609e": {
     "model_module": "@jupyter-widgets/base",
     "model_module_version": "1.2.0",
     "model_name": "LayoutModel",
     "state": {
      "_model_module": "@jupyter-widgets/base",
      "_model_module_version": "1.2.0",
      "_model_name": "LayoutModel",
      "_view_count": null,
      "_view_module": "@jupyter-widgets/base",
      "_view_module_version": "1.2.0",
      "_view_name": "LayoutView",
      "align_content": null,
      "align_items": null,
      "align_self": null,
      "border": null,
      "bottom": null,
      "display": null,
      "flex": null,
      "flex_flow": null,
      "grid_area": null,
      "grid_auto_columns": null,
      "grid_auto_flow": null,
      "grid_auto_rows": null,
      "grid_column": null,
      "grid_gap": null,
      "grid_row": null,
      "grid_template_areas": null,
      "grid_template_columns": null,
      "grid_template_rows": null,
      "height": null,
      "justify_content": null,
      "justify_items": null,
      "left": null,
      "margin": null,
      "max_height": null,
      "max_width": null,
      "min_height": null,
      "min_width": null,
      "object_fit": null,
      "object_position": null,
      "order": null,
      "overflow": null,
      "overflow_x": null,
      "overflow_y": null,
      "padding": null,
      "right": null,
      "top": null,
      "visibility": null,
      "width": null
     }
    },
    "262528211cf74ae8a1f9d98f42c53bc5": {
     "model_module": "@jupyter-widgets/controls",
     "model_module_version": "1.5.0",
     "model_name": "ButtonModel",
     "state": {
      "_dom_classes": [],
      "_model_module": "@jupyter-widgets/controls",
      "_model_module_version": "1.5.0",
      "_model_name": "ButtonModel",
      "_view_count": null,
      "_view_module": "@jupyter-widgets/controls",
      "_view_module_version": "1.5.0",
      "_view_name": "ButtonView",
      "button_style": "",
      "description": "",
      "disabled": false,
      "icon": "compress",
      "layout": "IPY_MODEL_3234aa9f55ca4a3496a560a8d4ac4ea8",
      "style": "IPY_MODEL_8de614e27948429b964f48274ffab662",
      "tooltip": ""
     }
    },
    "2b3726119c7c4176a2b1e0fd5243956e": {
     "model_module": "@jupyter-widgets/controls",
     "model_module_version": "1.5.0",
     "model_name": "HBoxModel",
     "state": {
      "_dom_classes": [],
      "_model_module": "@jupyter-widgets/controls",
      "_model_module_version": "1.5.0",
      "_model_name": "HBoxModel",
      "_view_count": null,
      "_view_module": "@jupyter-widgets/controls",
      "_view_module_version": "1.5.0",
      "_view_name": "HBoxView",
      "box_style": "",
      "children": [
       "IPY_MODEL_cf117bce95ea4c3995b9af9a60555b34",
       "IPY_MODEL_378a07778d02425e920e5fe78e97d1ab",
       "IPY_MODEL_bdd1dfae5ca148fb9599f4389205718d"
      ],
      "layout": "IPY_MODEL_2171f5e70c8d452190d0cffcde7a79c4"
     }
    },
    "2b9fbf19eef34be8a41e86e16738135e": {
     "model_module": "@jupyter-widgets/controls",
     "model_module_version": "1.5.0",
     "model_name": "HTMLModel",
     "state": {
      "_dom_classes": [],
      "_model_module": "@jupyter-widgets/controls",
      "_model_module_version": "1.5.0",
      "_model_name": "HTMLModel",
      "_view_count": null,
      "_view_module": "@jupyter-widgets/controls",
      "_view_module_version": "1.5.0",
      "_view_name": "HTMLView",
      "description": "",
      "description_tooltip": null,
      "layout": "IPY_MODEL_5e6b3d5abef8485c9e8b217074c18fad",
      "placeholder": "​",
      "style": "IPY_MODEL_7dad505c888c40aca716f31c047499e8",
      "value": " 1000/1000 [00:33&lt;00:00, 30.04it/s]"
     }
    },
    "2d7ac1e1bbb34409bf2ab7ecd8002ddb": {
     "model_module": "@jupyter-widgets/controls",
     "model_module_version": "1.5.0",
     "model_name": "HBoxModel",
     "state": {
      "_dom_classes": [],
      "_model_module": "@jupyter-widgets/controls",
      "_model_module_version": "1.5.0",
      "_model_name": "HBoxModel",
      "_view_count": null,
      "_view_module": "@jupyter-widgets/controls",
      "_view_module_version": "1.5.0",
      "_view_name": "HBoxView",
      "box_style": "",
      "children": [
       "IPY_MODEL_6bbaf87e7a3f417e8e7753d15172f988",
       "IPY_MODEL_74b857b18a424649a1ca3119f195e07e"
      ],
      "layout": "IPY_MODEL_7eb137763f3144a68f06e818d2efb5bc"
     }
    },
    "3234aa9f55ca4a3496a560a8d4ac4ea8": {
     "model_module": "@jupyter-widgets/base",
     "model_module_version": "1.2.0",
     "model_name": "LayoutModel",
     "state": {
      "_model_module": "@jupyter-widgets/base",
      "_model_module_version": "1.2.0",
      "_model_name": "LayoutModel",
      "_view_count": null,
      "_view_module": "@jupyter-widgets/base",
      "_view_module_version": "1.2.0",
      "_view_name": "LayoutView",
      "align_content": null,
      "align_items": null,
      "align_self": null,
      "border": null,
      "bottom": null,
      "display": null,
      "flex": null,
      "flex_flow": null,
      "grid_area": null,
      "grid_auto_columns": null,
      "grid_auto_flow": null,
      "grid_auto_rows": null,
      "grid_column": null,
      "grid_gap": null,
      "grid_row": null,
      "grid_template_areas": null,
      "grid_template_columns": null,
      "grid_template_rows": null,
      "height": null,
      "justify_content": null,
      "justify_items": null,
      "left": null,
      "margin": null,
      "max_height": null,
      "max_width": null,
      "min_height": null,
      "min_width": null,
      "object_fit": null,
      "object_position": null,
      "order": null,
      "overflow": null,
      "overflow_x": null,
      "overflow_y": null,
      "padding": null,
      "right": null,
      "top": null,
      "visibility": null,
      "width": "34px"
     }
    },
    "35e5833510ca40c4a5c6d1c758d58de0": {
     "model_module": "@jupyter-widgets/base",
     "model_module_version": "1.2.0",
     "model_name": "LayoutModel",
     "state": {
      "_model_module": "@jupyter-widgets/base",
      "_model_module_version": "1.2.0",
      "_model_name": "LayoutModel",
      "_view_count": null,
      "_view_module": "@jupyter-widgets/base",
      "_view_module_version": "1.2.0",
      "_view_name": "LayoutView",
      "align_content": null,
      "align_items": null,
      "align_self": null,
      "border": null,
      "bottom": null,
      "display": null,
      "flex": null,
      "flex_flow": null,
      "grid_area": null,
      "grid_auto_columns": null,
      "grid_auto_flow": null,
      "grid_auto_rows": null,
      "grid_column": null,
      "grid_gap": null,
      "grid_row": null,
      "grid_template_areas": null,
      "grid_template_columns": null,
      "grid_template_rows": null,
      "height": null,
      "justify_content": null,
      "justify_items": null,
      "left": null,
      "margin": null,
      "max_height": null,
      "max_width": null,
      "min_height": null,
      "min_width": null,
      "object_fit": null,
      "object_position": null,
      "order": null,
      "overflow": null,
      "overflow_x": null,
      "overflow_y": null,
      "padding": null,
      "right": null,
      "top": null,
      "visibility": null,
      "width": null
     }
    },
    "378a07778d02425e920e5fe78e97d1ab": {
     "model_module": "@jupyter-widgets/controls",
     "model_module_version": "1.5.0",
     "model_name": "FloatProgressModel",
     "state": {
      "_dom_classes": [],
      "_model_module": "@jupyter-widgets/controls",
      "_model_module_version": "1.5.0",
      "_model_name": "FloatProgressModel",
      "_view_count": null,
      "_view_module": "@jupyter-widgets/controls",
      "_view_module_version": "1.5.0",
      "_view_name": "ProgressView",
      "bar_style": "success",
      "description": "",
      "description_tooltip": null,
      "layout": "IPY_MODEL_772ee5a43de44271b174a596956f900e",
      "max": 250,
      "min": 0,
      "orientation": "horizontal",
      "style": "IPY_MODEL_d8e1a54ef4cd41b7966c5ca01121fee5",
      "value": 250
     }
    },
    "39618d1818064f13b06e399f4600cd96": {
     "model_module": "nglview-js-widgets",
     "model_module_version": "3.0.8",
     "model_name": "NGLModel",
     "state": {
      "_camera_orientation": [
       18.08491767350781,
       0,
       0,
       0,
       0,
       18.08491767350781,
       0,
       0,
       0,
       0,
       18.08491767350781,
       0,
       0.24950003623962402,
       -0.18049997091293335,
       0.012500017881393433,
       1
      ],
      "_camera_str": "orthographic",
      "_dom_classes": [],
      "_gui_theme": null,
      "_ibtn_fullscreen": "IPY_MODEL_7aef031a9bea409892ff58118c5f3072",
      "_igui": null,
      "_iplayer": "IPY_MODEL_6d993a5a42ae4b9da0f2485525705206",
      "_model_module": "nglview-js-widgets",
      "_model_module_version": "3.0.8",
      "_model_name": "NGLModel",
      "_ngl_color_dict": {},
      "_ngl_coordinate_resource": {},
      "_ngl_full_stage_parameters": {
       "ambientColor": 14540253,
       "ambientIntensity": 0.2,
       "backgroundColor": "white",
       "cameraEyeSep": 0.3,
       "cameraFov": 40,
       "cameraType": "perspective",
       "clipDist": 10,
       "clipFar": 100,
       "clipMode": "scene",
       "clipNear": 0,
       "clipScale": "relative",
       "fogFar": 100,
       "fogNear": 50,
       "hoverTimeout": 0,
       "impostor": true,
       "lightColor": 14540253,
       "lightIntensity": 1,
       "mousePreset": "default",
       "panSpeed": 1,
       "quality": "medium",
       "rotateSpeed": 2,
       "sampleLevel": 0,
       "tooltip": true,
       "workerDefault": true,
       "zoomSpeed": 1.2
      },
      "_ngl_msg_archive": [
       {
        "args": [
         {
          "binary": false,
          "data": "MODEL        0\nATOM      5  C   ACE A   1       0.495   2.039   0.199  1.00  0.00           C  \nATOM      6  O   ACE A   1      -0.231   2.258  -0.548  1.00  0.00           O  \nATOM      7  N   ALA A   2       1.236   1.155   0.270  1.00  0.00           N  \nATOM      9  CA  ALA A   2       1.430  -0.108  -0.453  1.00  0.00           C  \nATOM     15  C   ALA A   2      -0.055  -1.042  -0.367  1.00  0.00           C  \nATOM     16  O   ALA A   2      -0.148  -1.897  -0.957  1.00  0.00           O  \nATOM     17  N   NME A   3      -0.977  -0.829   0.766  1.00  0.00           N  \nATOM     19  C   NME A   3      -1.929  -1.688   0.932  1.00  0.00           C  \nTER      20      NME A   3\nENDMDL\nCONECT    1    2    3\nCONECT    2    1\nCONECT    3    1\nCONECT    5    7\nCONECT    7    5    8\nCONECT    8    7\nEND\n",
          "type": "blob"
         }
        ],
        "kwargs": {
         "defaultRepresentation": true,
         "ext": "pdb",
         "name": "nglview.adaptor.MDTrajTrajectory"
        },
        "methodName": "loadFile",
        "reconstruc_color_scheme": false,
        "target": "Stage",
        "type": "call_method"
       }
      ],
      "_ngl_original_stage_parameters": {
       "ambientColor": 14540253,
       "ambientIntensity": 0.2,
       "backgroundColor": "white",
       "cameraEyeSep": 0.3,
       "cameraFov": 40,
       "cameraType": "perspective",
       "clipDist": 10,
       "clipFar": 100,
       "clipMode": "scene",
       "clipNear": 0,
       "clipScale": "relative",
       "fogFar": 100,
       "fogNear": 50,
       "hoverTimeout": 0,
       "impostor": true,
       "lightColor": 14540253,
       "lightIntensity": 1,
       "mousePreset": "default",
       "panSpeed": 1,
       "quality": "medium",
       "rotateSpeed": 2,
       "sampleLevel": 0,
       "tooltip": true,
       "workerDefault": true,
       "zoomSpeed": 1.2
      },
      "_ngl_repr_dict": {
       "0": {
        "0": {
         "params": {
          "aspectRatio": 1.5,
          "assembly": "default",
          "bondScale": 0.3,
          "bondSpacing": 0.75,
          "clipCenter": {
           "x": 0,
           "y": 0,
           "z": 0
          },
          "clipNear": 0,
          "clipRadius": 0,
          "colorMode": "hcl",
          "colorReverse": false,
          "colorScale": "",
          "colorScheme": "element",
          "colorValue": 9474192,
          "cylinderOnly": false,
          "defaultAssembly": "",
          "depthWrite": true,
          "diffuse": 16777215,
          "diffuseInterior": false,
          "disableImpostor": false,
          "disablePicking": false,
          "flatShaded": false,
          "interiorColor": 2236962,
          "interiorDarkening": 0,
          "lazy": false,
          "lineOnly": false,
          "linewidth": 2,
          "matrix": {
           "elements": [
            1,
            0,
            0,
            0,
            0,
            1,
            0,
            0,
            0,
            0,
            1,
            0,
            0,
            0,
            0,
            1
           ]
          },
          "metalness": 0,
          "multipleBond": "off",
          "opacity": 1,
          "openEnded": true,
          "quality": "high",
          "radialSegments": 20,
          "radiusData": {},
          "radiusScale": 2,
          "radiusSize": 0.15,
          "radiusType": "size",
          "roughness": 0.4,
          "sele": "",
          "side": "double",
          "sphereDetail": 2,
          "useInteriorColor": true,
          "visible": true,
          "wireframe": false
         },
         "type": "ball+stick"
        }
       },
       "1": {
        "0": {
         "params": {
          "aspectRatio": 1.5,
          "assembly": "default",
          "bondScale": 0.3,
          "bondSpacing": 0.75,
          "clipCenter": {
           "x": 0,
           "y": 0,
           "z": 0
          },
          "clipNear": 0,
          "clipRadius": 0,
          "colorMode": "hcl",
          "colorReverse": false,
          "colorScale": "",
          "colorScheme": "element",
          "colorValue": 9474192,
          "cylinderOnly": false,
          "defaultAssembly": "",
          "depthWrite": true,
          "diffuse": 16777215,
          "diffuseInterior": false,
          "disableImpostor": false,
          "disablePicking": false,
          "flatShaded": false,
          "interiorColor": 2236962,
          "interiorDarkening": 0,
          "lazy": false,
          "lineOnly": false,
          "linewidth": 2,
          "matrix": {
           "elements": [
            1,
            0,
            0,
            0,
            0,
            1,
            0,
            0,
            0,
            0,
            1,
            0,
            0,
            0,
            0,
            1
           ]
          },
          "metalness": 0,
          "multipleBond": "off",
          "opacity": 1,
          "openEnded": true,
          "quality": "high",
          "radialSegments": 20,
          "radiusData": {},
          "radiusScale": 2,
          "radiusSize": 0.15,
          "radiusType": "size",
          "roughness": 0.4,
          "sele": "",
          "side": "double",
          "sphereDetail": 2,
          "useInteriorColor": true,
          "visible": true,
          "wireframe": false
         },
         "type": "ball+stick"
        }
       }
      },
      "_ngl_serialize": false,
      "_ngl_version": "2.0.0-dev.39",
      "_ngl_view_id": [
       "31ED3376-F871-49F0-8479-DA4AA4EEA625"
      ],
      "_player_dict": {},
      "_scene_position": {},
      "_scene_rotation": {},
      "_synced_model_ids": [],
      "_synced_repr_model_ids": [],
      "_view_count": null,
      "_view_height": "",
      "_view_module": "nglview-js-widgets",
      "_view_module_version": "3.0.8",
      "_view_name": "NGLView",
      "_view_width": "",
      "background": "white",
      "frame": 0,
      "gui_style": null,
      "layout": "IPY_MODEL_411b435bc2da490fa9adb98cc350c1ff",
      "max_frame": 99,
      "n_components": 2,
      "picked": {}
     }
    },
    "3ad52208a3674fbda480fbe2bc48e37c": {
     "model_module": "@jupyter-widgets/base",
     "model_module_version": "1.2.0",
     "model_name": "LayoutModel",
     "state": {
      "_model_module": "@jupyter-widgets/base",
      "_model_module_version": "1.2.0",
      "_model_name": "LayoutModel",
      "_view_count": null,
      "_view_module": "@jupyter-widgets/base",
      "_view_module_version": "1.2.0",
      "_view_name": "LayoutView",
      "align_content": null,
      "align_items": null,
      "align_self": null,
      "border": null,
      "bottom": null,
      "display": null,
      "flex": null,
      "flex_flow": null,
      "grid_area": null,
      "grid_auto_columns": null,
      "grid_auto_flow": null,
      "grid_auto_rows": null,
      "grid_column": null,
      "grid_gap": null,
      "grid_row": null,
      "grid_template_areas": null,
      "grid_template_columns": null,
      "grid_template_rows": null,
      "height": null,
      "justify_content": null,
      "justify_items": null,
      "left": null,
      "margin": null,
      "max_height": null,
      "max_width": null,
      "min_height": null,
      "min_width": null,
      "object_fit": null,
      "object_position": null,
      "order": null,
      "overflow": null,
      "overflow_x": null,
      "overflow_y": null,
      "padding": null,
      "right": null,
      "top": null,
      "visibility": null,
      "width": null
     }
    },
    "3d06172765d54d81b45714e975696f90": {
     "model_module": "@jupyter-widgets/controls",
     "model_module_version": "1.5.0",
     "model_name": "ProgressStyleModel",
     "state": {
      "_model_module": "@jupyter-widgets/controls",
      "_model_module_version": "1.5.0",
      "_model_name": "ProgressStyleModel",
      "_view_count": null,
      "_view_module": "@jupyter-widgets/base",
      "_view_module_version": "1.2.0",
      "_view_name": "StyleView",
      "bar_color": null,
      "description_width": ""
     }
    },
    "411b435bc2da490fa9adb98cc350c1ff": {
     "model_module": "@jupyter-widgets/base",
     "model_module_version": "1.2.0",
     "model_name": "LayoutModel",
     "state": {
      "_model_module": "@jupyter-widgets/base",
      "_model_module_version": "1.2.0",
      "_model_name": "LayoutModel",
      "_view_count": null,
      "_view_module": "@jupyter-widgets/base",
      "_view_module_version": "1.2.0",
      "_view_name": "LayoutView",
      "align_content": null,
      "align_items": null,
      "align_self": null,
      "border": null,
      "bottom": null,
      "display": null,
      "flex": null,
      "flex_flow": null,
      "grid_area": null,
      "grid_auto_columns": null,
      "grid_auto_flow": null,
      "grid_auto_rows": null,
      "grid_column": null,
      "grid_gap": null,
      "grid_row": null,
      "grid_template_areas": null,
      "grid_template_columns": null,
      "grid_template_rows": null,
      "height": null,
      "justify_content": null,
      "justify_items": null,
      "left": null,
      "margin": null,
      "max_height": null,
      "max_width": null,
      "min_height": null,
      "min_width": null,
      "object_fit": null,
      "object_position": null,
      "order": null,
      "overflow": null,
      "overflow_x": null,
      "overflow_y": null,
      "padding": null,
      "right": null,
      "top": null,
      "visibility": null,
      "width": null
     }
    },
    "49a2db032f0c4e7b825285778419d59b": {
     "model_module": "@jupyter-widgets/controls",
     "model_module_version": "1.5.0",
     "model_name": "PlayModel",
     "state": {
      "_dom_classes": [],
      "_model_module": "@jupyter-widgets/controls",
      "_model_module_version": "1.5.0",
      "_model_name": "PlayModel",
      "_playing": false,
      "_repeat": false,
      "_view_count": null,
      "_view_module": "@jupyter-widgets/controls",
      "_view_module_version": "1.5.0",
      "_view_name": "PlayView",
      "description": "",
      "description_tooltip": null,
      "disabled": false,
      "interval": 100,
      "layout": "IPY_MODEL_eadc8aa7e7b54137a06e2b971c8a0eac",
      "max": 99,
      "min": 0,
      "playing": false,
      "show_repeat": true,
      "step": 1,
      "style": "IPY_MODEL_b17516fa2c3648818a54b8c6d496d6ba",
      "value": 0
     }
    },
    "4f1f47227a684f94bc66d647fce92740": {
     "model_module": "@jupyter-widgets/base",
     "model_module_version": "1.2.0",
     "model_name": "LayoutModel",
     "state": {
      "_model_module": "@jupyter-widgets/base",
      "_model_module_version": "1.2.0",
      "_model_name": "LayoutModel",
      "_view_count": null,
      "_view_module": "@jupyter-widgets/base",
      "_view_module_version": "1.2.0",
      "_view_name": "LayoutView",
      "align_content": null,
      "align_items": null,
      "align_self": null,
      "border": null,
      "bottom": null,
      "display": null,
      "flex": null,
      "flex_flow": null,
      "grid_area": null,
      "grid_auto_columns": null,
      "grid_auto_flow": null,
      "grid_auto_rows": null,
      "grid_column": null,
      "grid_gap": null,
      "grid_row": null,
      "grid_template_areas": null,
      "grid_template_columns": null,
      "grid_template_rows": null,
      "height": null,
      "justify_content": null,
      "justify_items": null,
      "left": null,
      "margin": null,
      "max_height": null,
      "max_width": null,
      "min_height": null,
      "min_width": null,
      "object_fit": null,
      "object_position": null,
      "order": null,
      "overflow": null,
      "overflow_x": null,
      "overflow_y": null,
      "padding": null,
      "right": null,
      "top": null,
      "visibility": null,
      "width": null
     }
    },
    "555dce3ac2894cac85d5c94efd96796d": {
     "model_module": "@jupyter-widgets/controls",
     "model_module_version": "1.5.0",
     "model_name": "DescriptionStyleModel",
     "state": {
      "_model_module": "@jupyter-widgets/controls",
      "_model_module_version": "1.5.0",
      "_model_name": "DescriptionStyleModel",
      "_view_count": null,
      "_view_module": "@jupyter-widgets/base",
      "_view_module_version": "1.2.0",
      "_view_name": "StyleView",
      "description_width": ""
     }
    },
    "5766119fe08e4a208f7d081a60c64c3b": {
     "model_module": "@jupyter-widgets/controls",
     "model_module_version": "1.5.0",
     "model_name": "HTMLModel",
     "state": {
      "_dom_classes": [],
      "_model_module": "@jupyter-widgets/controls",
      "_model_module_version": "1.5.0",
      "_model_name": "HTMLModel",
      "_view_count": null,
      "_view_module": "@jupyter-widgets/controls",
      "_view_module_version": "1.5.0",
      "_view_name": "HTMLView",
      "description": "",
      "description_tooltip": null,
      "layout": "IPY_MODEL_f3f43a45d8224c979aed7a2d874aef68",
      "placeholder": "​",
      "style": "IPY_MODEL_a722f5fc1d2545af9bea963c70e36304",
      "value": " 100/100 [00:00&lt;00:00, 249.07it/s]"
     }
    },
    "5996f3297e7b42f79affe84f4c76a26c": {
     "model_module": "@jupyter-widgets/base",
     "model_module_version": "1.2.0",
     "model_name": "LayoutModel",
     "state": {
      "_model_module": "@jupyter-widgets/base",
      "_model_module_version": "1.2.0",
      "_model_name": "LayoutModel",
      "_view_count": null,
      "_view_module": "@jupyter-widgets/base",
      "_view_module_version": "1.2.0",
      "_view_name": "LayoutView",
      "align_content": null,
      "align_items": null,
      "align_self": null,
      "border": null,
      "bottom": null,
      "display": null,
      "flex": null,
      "flex_flow": null,
      "grid_area": null,
      "grid_auto_columns": null,
      "grid_auto_flow": null,
      "grid_auto_rows": null,
      "grid_column": null,
      "grid_gap": null,
      "grid_row": null,
      "grid_template_areas": null,
      "grid_template_columns": null,
      "grid_template_rows": null,
      "height": null,
      "justify_content": null,
      "justify_items": null,
      "left": null,
      "margin": null,
      "max_height": null,
      "max_width": null,
      "min_height": null,
      "min_width": null,
      "object_fit": null,
      "object_position": null,
      "order": null,
      "overflow": null,
      "overflow_x": null,
      "overflow_y": null,
      "padding": null,
      "right": null,
      "top": null,
      "visibility": null,
      "width": null
     }
    },
    "5d4f33ef3814441bbf9165d3e60f21ad": {
     "model_module": "@jupyter-widgets/controls",
     "model_module_version": "1.5.0",
     "model_name": "HTMLModel",
     "state": {
      "_dom_classes": [],
      "_model_module": "@jupyter-widgets/controls",
      "_model_module_version": "1.5.0",
      "_model_name": "HTMLModel",
      "_view_count": null,
      "_view_module": "@jupyter-widgets/controls",
      "_view_module_version": "1.5.0",
      "_view_name": "HTMLView",
      "description": "",
      "description_tooltip": null,
      "layout": "IPY_MODEL_c275d26e78964158a88eec73b7bf3b08",
      "placeholder": "​",
      "style": "IPY_MODEL_1a56f17f2ade4ebe82339d5d4cff1682",
      "value": "100%"
     }
    },
    "5e6b3d5abef8485c9e8b217074c18fad": {
     "model_module": "@jupyter-widgets/base",
     "model_module_version": "1.2.0",
     "model_name": "LayoutModel",
     "state": {
      "_model_module": "@jupyter-widgets/base",
      "_model_module_version": "1.2.0",
      "_model_name": "LayoutModel",
      "_view_count": null,
      "_view_module": "@jupyter-widgets/base",
      "_view_module_version": "1.2.0",
      "_view_name": "LayoutView",
      "align_content": null,
      "align_items": null,
      "align_self": null,
      "border": null,
      "bottom": null,
      "display": null,
      "flex": null,
      "flex_flow": null,
      "grid_area": null,
      "grid_auto_columns": null,
      "grid_auto_flow": null,
      "grid_auto_rows": null,
      "grid_column": null,
      "grid_gap": null,
      "grid_row": null,
      "grid_template_areas": null,
      "grid_template_columns": null,
      "grid_template_rows": null,
      "height": null,
      "justify_content": null,
      "justify_items": null,
      "left": null,
      "margin": null,
      "max_height": null,
      "max_width": null,
      "min_height": null,
      "min_width": null,
      "object_fit": null,
      "object_position": null,
      "order": null,
      "overflow": null,
      "overflow_x": null,
      "overflow_y": null,
      "padding": null,
      "right": null,
      "top": null,
      "visibility": null,
      "width": null
     }
    },
    "5f8fcf183ed548719d6aa8bba10c99ba": {
     "model_module": "@jupyter-widgets/base",
     "model_module_version": "1.2.0",
     "model_name": "LayoutModel",
     "state": {
      "_model_module": "@jupyter-widgets/base",
      "_model_module_version": "1.2.0",
      "_model_name": "LayoutModel",
      "_view_count": null,
      "_view_module": "@jupyter-widgets/base",
      "_view_module_version": "1.2.0",
      "_view_name": "LayoutView",
      "align_content": null,
      "align_items": null,
      "align_self": null,
      "border": null,
      "bottom": null,
      "display": null,
      "flex": null,
      "flex_flow": null,
      "grid_area": null,
      "grid_auto_columns": null,
      "grid_auto_flow": null,
      "grid_auto_rows": null,
      "grid_column": null,
      "grid_gap": null,
      "grid_row": null,
      "grid_template_areas": null,
      "grid_template_columns": null,
      "grid_template_rows": null,
      "height": null,
      "justify_content": null,
      "justify_items": null,
      "left": null,
      "margin": null,
      "max_height": null,
      "max_width": null,
      "min_height": null,
      "min_width": null,
      "object_fit": null,
      "object_position": null,
      "order": null,
      "overflow": null,
      "overflow_x": null,
      "overflow_y": null,
      "padding": null,
      "right": null,
      "top": null,
      "visibility": null,
      "width": null
     }
    },
    "5ff0e84cd84242f0afee68d1bceb6081": {
     "model_module": "@jupyter-widgets/controls",
     "model_module_version": "1.5.0",
     "model_name": "DescriptionStyleModel",
     "state": {
      "_model_module": "@jupyter-widgets/controls",
      "_model_module_version": "1.5.0",
      "_model_name": "DescriptionStyleModel",
      "_view_count": null,
      "_view_module": "@jupyter-widgets/base",
      "_view_module_version": "1.2.0",
      "_view_name": "StyleView",
      "description_width": ""
     }
    },
    "6bbaf87e7a3f417e8e7753d15172f988": {
     "model_module": "@jupyter-widgets/controls",
     "model_module_version": "1.5.0",
     "model_name": "PlayModel",
     "state": {
      "_dom_classes": [],
      "_model_module": "@jupyter-widgets/controls",
      "_model_module_version": "1.5.0",
      "_model_name": "PlayModel",
      "_playing": false,
      "_repeat": false,
      "_view_count": null,
      "_view_module": "@jupyter-widgets/controls",
      "_view_module_version": "1.5.0",
      "_view_name": "PlayView",
      "description": "",
      "description_tooltip": null,
      "disabled": false,
      "interval": 100,
      "layout": "IPY_MODEL_cdae90d1405447fba7ab92758b7c587e",
      "max": 249999,
      "min": 0,
      "playing": false,
      "show_repeat": true,
      "step": 1,
      "style": "IPY_MODEL_a3531be4c5cf4117a1030d4cbc22abf6",
      "value": 0
     }
    },
    "6d993a5a42ae4b9da0f2485525705206": {
     "model_module": "@jupyter-widgets/controls",
     "model_module_version": "1.5.0",
     "model_name": "HBoxModel",
     "state": {
      "_dom_classes": [],
      "_model_module": "@jupyter-widgets/controls",
      "_model_module_version": "1.5.0",
      "_model_name": "HBoxModel",
      "_view_count": null,
      "_view_module": "@jupyter-widgets/controls",
      "_view_module_version": "1.5.0",
      "_view_name": "HBoxView",
      "box_style": "",
      "children": [
       "IPY_MODEL_49a2db032f0c4e7b825285778419d59b",
       "IPY_MODEL_8f8bee4a2af24094a57de949590fb1d1"
      ],
      "layout": "IPY_MODEL_161c6d07f77b43bf9d4bf011828e46c1"
     }
    },
    "6eede60f15734b10b0586519c8dba2a2": {
     "model_module": "@jupyter-widgets/controls",
     "model_module_version": "1.5.0",
     "model_name": "DescriptionStyleModel",
     "state": {
      "_model_module": "@jupyter-widgets/controls",
      "_model_module_version": "1.5.0",
      "_model_name": "DescriptionStyleModel",
      "_view_count": null,
      "_view_module": "@jupyter-widgets/base",
      "_view_module_version": "1.2.0",
      "_view_name": "StyleView",
      "description_width": ""
     }
    },
    "6f576eb94cb24c6ab44c241f1d254b45": {
     "model_module": "@jupyter-widgets/controls",
     "model_module_version": "1.5.0",
     "model_name": "DescriptionStyleModel",
     "state": {
      "_model_module": "@jupyter-widgets/controls",
      "_model_module_version": "1.5.0",
      "_model_name": "DescriptionStyleModel",
      "_view_count": null,
      "_view_module": "@jupyter-widgets/base",
      "_view_module_version": "1.2.0",
      "_view_name": "StyleView",
      "description_width": ""
     }
    },
    "73ccc889e77c45f5a705e73d32cbea5d": {
     "model_module": "@jupyter-widgets/controls",
     "model_module_version": "1.5.0",
     "model_name": "SliderStyleModel",
     "state": {
      "_model_module": "@jupyter-widgets/controls",
      "_model_module_version": "1.5.0",
      "_model_name": "SliderStyleModel",
      "_view_count": null,
      "_view_module": "@jupyter-widgets/base",
      "_view_module_version": "1.2.0",
      "_view_name": "StyleView",
      "description_width": "",
      "handle_color": null
     }
    },
    "74b857b18a424649a1ca3119f195e07e": {
     "model_module": "@jupyter-widgets/controls",
     "model_module_version": "1.5.0",
     "model_name": "IntSliderModel",
     "state": {
      "_dom_classes": [],
      "_model_module": "@jupyter-widgets/controls",
      "_model_module_version": "1.5.0",
      "_model_name": "IntSliderModel",
      "_view_count": null,
      "_view_module": "@jupyter-widgets/controls",
      "_view_module_version": "1.5.0",
      "_view_name": "IntSliderView",
      "continuous_update": true,
      "description": "",
      "description_tooltip": null,
      "disabled": false,
      "layout": "IPY_MODEL_5f8fcf183ed548719d6aa8bba10c99ba",
      "max": 249999,
      "min": 0,
      "orientation": "horizontal",
      "readout": true,
      "readout_format": "d",
      "step": 1,
      "style": "IPY_MODEL_9a563d60ec3b477084d6757b81289aa0",
      "value": 0
     }
    },
    "772ee5a43de44271b174a596956f900e": {
     "model_module": "@jupyter-widgets/base",
     "model_module_version": "1.2.0",
     "model_name": "LayoutModel",
     "state": {
      "_model_module": "@jupyter-widgets/base",
      "_model_module_version": "1.2.0",
      "_model_name": "LayoutModel",
      "_view_count": null,
      "_view_module": "@jupyter-widgets/base",
      "_view_module_version": "1.2.0",
      "_view_name": "LayoutView",
      "align_content": null,
      "align_items": null,
      "align_self": null,
      "border": null,
      "bottom": null,
      "display": null,
      "flex": "2",
      "flex_flow": null,
      "grid_area": null,
      "grid_auto_columns": null,
      "grid_auto_flow": null,
      "grid_auto_rows": null,
      "grid_column": null,
      "grid_gap": null,
      "grid_row": null,
      "grid_template_areas": null,
      "grid_template_columns": null,
      "grid_template_rows": null,
      "height": null,
      "justify_content": null,
      "justify_items": null,
      "left": null,
      "margin": null,
      "max_height": null,
      "max_width": null,
      "min_height": null,
      "min_width": null,
      "object_fit": null,
      "object_position": null,
      "order": null,
      "overflow": null,
      "overflow_x": null,
      "overflow_y": null,
      "padding": null,
      "right": null,
      "top": null,
      "visibility": null,
      "width": null
     }
    },
    "77aeaec0e2d844b7b5f8f16eba6d208d": {
     "model_module": "@jupyter-widgets/base",
     "model_module_version": "1.2.0",
     "model_name": "LayoutModel",
     "state": {
      "_model_module": "@jupyter-widgets/base",
      "_model_module_version": "1.2.0",
      "_model_name": "LayoutModel",
      "_view_count": null,
      "_view_module": "@jupyter-widgets/base",
      "_view_module_version": "1.2.0",
      "_view_name": "LayoutView",
      "align_content": null,
      "align_items": null,
      "align_self": null,
      "border": null,
      "bottom": null,
      "display": null,
      "flex": null,
      "flex_flow": null,
      "grid_area": null,
      "grid_auto_columns": null,
      "grid_auto_flow": null,
      "grid_auto_rows": null,
      "grid_column": null,
      "grid_gap": null,
      "grid_row": null,
      "grid_template_areas": null,
      "grid_template_columns": null,
      "grid_template_rows": null,
      "height": null,
      "justify_content": null,
      "justify_items": null,
      "left": null,
      "margin": null,
      "max_height": null,
      "max_width": null,
      "min_height": null,
      "min_width": null,
      "object_fit": null,
      "object_position": null,
      "order": null,
      "overflow": null,
      "overflow_x": null,
      "overflow_y": null,
      "padding": null,
      "right": null,
      "top": null,
      "visibility": null,
      "width": null
     }
    },
    "7aef031a9bea409892ff58118c5f3072": {
     "model_module": "@jupyter-widgets/controls",
     "model_module_version": "1.5.0",
     "model_name": "ButtonModel",
     "state": {
      "_dom_classes": [],
      "_model_module": "@jupyter-widgets/controls",
      "_model_module_version": "1.5.0",
      "_model_name": "ButtonModel",
      "_view_count": null,
      "_view_module": "@jupyter-widgets/controls",
      "_view_module_version": "1.5.0",
      "_view_name": "ButtonView",
      "button_style": "",
      "description": "",
      "disabled": false,
      "icon": "compress",
      "layout": "IPY_MODEL_00a6d24badb64f7c80212033f259f82d",
      "style": "IPY_MODEL_9c6809e71e6c421e9ceb359de5682f21",
      "tooltip": ""
     }
    },
    "7dad505c888c40aca716f31c047499e8": {
     "model_module": "@jupyter-widgets/controls",
     "model_module_version": "1.5.0",
     "model_name": "DescriptionStyleModel",
     "state": {
      "_model_module": "@jupyter-widgets/controls",
      "_model_module_version": "1.5.0",
      "_model_name": "DescriptionStyleModel",
      "_view_count": null,
      "_view_module": "@jupyter-widgets/base",
      "_view_module_version": "1.2.0",
      "_view_name": "StyleView",
      "description_width": ""
     }
    },
    "7eb137763f3144a68f06e818d2efb5bc": {
     "model_module": "@jupyter-widgets/base",
     "model_module_version": "1.2.0",
     "model_name": "LayoutModel",
     "state": {
      "_model_module": "@jupyter-widgets/base",
      "_model_module_version": "1.2.0",
      "_model_name": "LayoutModel",
      "_view_count": null,
      "_view_module": "@jupyter-widgets/base",
      "_view_module_version": "1.2.0",
      "_view_name": "LayoutView",
      "align_content": null,
      "align_items": null,
      "align_self": null,
      "border": null,
      "bottom": null,
      "display": null,
      "flex": null,
      "flex_flow": null,
      "grid_area": null,
      "grid_auto_columns": null,
      "grid_auto_flow": null,
      "grid_auto_rows": null,
      "grid_column": null,
      "grid_gap": null,
      "grid_row": null,
      "grid_template_areas": null,
      "grid_template_columns": null,
      "grid_template_rows": null,
      "height": null,
      "justify_content": null,
      "justify_items": null,
      "left": null,
      "margin": null,
      "max_height": null,
      "max_width": null,
      "min_height": null,
      "min_width": null,
      "object_fit": null,
      "object_position": null,
      "order": null,
      "overflow": null,
      "overflow_x": null,
      "overflow_y": null,
      "padding": null,
      "right": null,
      "top": null,
      "visibility": null,
      "width": null
     }
    },
    "7fca9868dde94fd79be245eec8764df9": {
     "model_module": "@jupyter-widgets/base",
     "model_module_version": "1.2.0",
     "model_name": "LayoutModel",
     "state": {
      "_model_module": "@jupyter-widgets/base",
      "_model_module_version": "1.2.0",
      "_model_name": "LayoutModel",
      "_view_count": null,
      "_view_module": "@jupyter-widgets/base",
      "_view_module_version": "1.2.0",
      "_view_name": "LayoutView",
      "align_content": null,
      "align_items": null,
      "align_self": null,
      "border": null,
      "bottom": null,
      "display": null,
      "flex": null,
      "flex_flow": null,
      "grid_area": null,
      "grid_auto_columns": null,
      "grid_auto_flow": null,
      "grid_auto_rows": null,
      "grid_column": null,
      "grid_gap": null,
      "grid_row": null,
      "grid_template_areas": null,
      "grid_template_columns": null,
      "grid_template_rows": null,
      "height": null,
      "justify_content": null,
      "justify_items": null,
      "left": null,
      "margin": null,
      "max_height": null,
      "max_width": null,
      "min_height": null,
      "min_width": null,
      "object_fit": null,
      "object_position": null,
      "order": null,
      "overflow": null,
      "overflow_x": null,
      "overflow_y": null,
      "padding": null,
      "right": null,
      "top": null,
      "visibility": null,
      "width": null
     }
    },
    "80627b4b1f2d4ccab1baeaa1ae205604": {
     "model_module": "@jupyter-widgets/base",
     "model_module_version": "1.2.0",
     "model_name": "LayoutModel",
     "state": {
      "_model_module": "@jupyter-widgets/base",
      "_model_module_version": "1.2.0",
      "_model_name": "LayoutModel",
      "_view_count": null,
      "_view_module": "@jupyter-widgets/base",
      "_view_module_version": "1.2.0",
      "_view_name": "LayoutView",
      "align_content": null,
      "align_items": null,
      "align_self": null,
      "border": null,
      "bottom": null,
      "display": null,
      "flex": "2",
      "flex_flow": null,
      "grid_area": null,
      "grid_auto_columns": null,
      "grid_auto_flow": null,
      "grid_auto_rows": null,
      "grid_column": null,
      "grid_gap": null,
      "grid_row": null,
      "grid_template_areas": null,
      "grid_template_columns": null,
      "grid_template_rows": null,
      "height": null,
      "justify_content": null,
      "justify_items": null,
      "left": null,
      "margin": null,
      "max_height": null,
      "max_width": null,
      "min_height": null,
      "min_width": null,
      "object_fit": null,
      "object_position": null,
      "order": null,
      "overflow": null,
      "overflow_x": null,
      "overflow_y": null,
      "padding": null,
      "right": null,
      "top": null,
      "visibility": null,
      "width": null
     }
    },
    "8c0f5b6c5f2f429b8e2e4ed0d9c6be8e": {
     "model_module": "@jupyter-widgets/base",
     "model_module_version": "1.2.0",
     "model_name": "LayoutModel",
     "state": {
      "_model_module": "@jupyter-widgets/base",
      "_model_module_version": "1.2.0",
      "_model_name": "LayoutModel",
      "_view_count": null,
      "_view_module": "@jupyter-widgets/base",
      "_view_module_version": "1.2.0",
      "_view_name": "LayoutView",
      "align_content": null,
      "align_items": null,
      "align_self": null,
      "border": null,
      "bottom": null,
      "display": null,
      "flex": null,
      "flex_flow": null,
      "grid_area": null,
      "grid_auto_columns": null,
      "grid_auto_flow": null,
      "grid_auto_rows": null,
      "grid_column": null,
      "grid_gap": null,
      "grid_row": null,
      "grid_template_areas": null,
      "grid_template_columns": null,
      "grid_template_rows": null,
      "height": null,
      "justify_content": null,
      "justify_items": null,
      "left": null,
      "margin": null,
      "max_height": null,
      "max_width": null,
      "min_height": null,
      "min_width": null,
      "object_fit": null,
      "object_position": null,
      "order": null,
      "overflow": null,
      "overflow_x": null,
      "overflow_y": null,
      "padding": null,
      "right": null,
      "top": null,
      "visibility": null,
      "width": null
     }
    },
    "8c3bcad5aa4a406cbc7a6e1702053885": {
     "model_module": "nglview-js-widgets",
     "model_module_version": "3.0.8",
     "model_name": "NGLModel",
     "state": {
      "_camera_orientation": [
       23.05337292629506,
       0,
       0,
       0,
       0,
       23.05337292629506,
       0,
       0,
       0,
       0,
       23.05337292629506,
       0,
       0.054000020027160645,
       -0.1690000295639038,
       -0.050000011920928955,
       1
      ],
      "_camera_str": "orthographic",
      "_dom_classes": [],
      "_gui_theme": null,
      "_ibtn_fullscreen": "IPY_MODEL_262528211cf74ae8a1f9d98f42c53bc5",
      "_igui": null,
      "_iplayer": "IPY_MODEL_2d7ac1e1bbb34409bf2ab7ecd8002ddb",
      "_model_module": "nglview-js-widgets",
      "_model_module_version": "3.0.8",
      "_model_name": "NGLModel",
      "_ngl_color_dict": {},
      "_ngl_coordinate_resource": {},
      "_ngl_full_stage_parameters": {
       "ambientColor": 14540253,
       "ambientIntensity": 0.2,
       "backgroundColor": "white",
       "cameraEyeSep": 0.3,
       "cameraFov": 40,
       "cameraType": "perspective",
       "clipDist": 10,
       "clipFar": 100,
       "clipMode": "scene",
       "clipNear": 0,
       "clipScale": "relative",
       "fogFar": 100,
       "fogNear": 50,
       "hoverTimeout": 0,
       "impostor": true,
       "lightColor": 14540253,
       "lightIntensity": 1,
       "mousePreset": "default",
       "panSpeed": 1,
       "quality": "medium",
       "rotateSpeed": 2,
       "sampleLevel": 0,
       "tooltip": true,
       "workerDefault": true,
       "zoomSpeed": 1.2
      },
      "_ngl_msg_archive": [
       {
        "args": [
         {
          "binary": false,
          "data": "REMARK   1 CREATED WITH MDTraj 1.9.9, 2024-04-29\nCRYST1   27.222   27.222   27.222  90.00  90.00  90.00 P 1           1 \nMODEL        0\nATOM      1  H1  ACE A   1       0.336   3.704   1.385  1.00  0.00           H  \nATOM      2  CH3 ACE A   1      -0.404   2.994   0.995  1.00  0.00           C  \nATOM      3  H2  ACE A   1      -1.234   3.584   0.585  1.00  0.00           H  \nATOM      4  H3  ACE A   1      -0.904   2.434   1.775  1.00  0.00           H  \nATOM      5  C   ACE A   1       0.236   2.084  -0.025  1.00  0.00           C  \nATOM      6  O   ACE A   1       0.716   2.654  -0.985  1.00  0.00           O  \nATOM      7  N   ALA A   2       0.316   0.774   0.265  1.00  0.00           N  \nATOM      8  H   ALA A   2       0.116   0.424   1.195  1.00  0.00           H  \nATOM      9  CA  ALA A   2       0.866  -0.186  -0.685  1.00  0.00           C  \nATOM     10  HA  ALA A   2       0.816   0.284  -1.675  1.00  0.00           H  \nATOM     11  CB  ALA A   2       2.396  -0.456  -0.325  1.00  0.00           C  \nATOM     12  HB1 ALA A   2       2.976   0.444  -0.145  1.00  0.00           H  \nATOM     13  HB2 ALA A   2       2.536  -0.956   0.645  1.00  0.00           H  \nATOM     14  HB3 ALA A   2       2.926  -1.036  -1.075  1.00  0.00           H  \nATOM     15  C   ALA A   2      -0.034  -1.436  -0.745  1.00  0.00           C  \nATOM     16  O   ALA A   2       0.286  -2.426  -1.445  1.00  0.00           O  \nATOM     17  N   NME A   3      -1.204  -1.486  -0.005  1.00  0.00           N  \nATOM     18  H   NME A   3      -1.264  -0.746   0.675  1.00  0.00           H  \nATOM     19  C   NME A   3      -2.134  -2.486  -0.065  1.00  0.00           C  \nATOM     20  H1  NME A   3      -2.354  -2.786  -1.085  1.00  0.00           H  \nATOM     21  H2  NME A   3      -1.904  -3.366   0.545  1.00  0.00           H  \nATOM     22  H3  NME A   3      -3.084  -2.016   0.195  1.00  0.00           H  \nTER      23      NME A   3\nENDMDL\nCONECT    1    2\nCONECT    2    5    1    3    4\nCONECT    3    2\nCONECT    4    2\nCONECT    5    2    6    7\nCONECT    6    5\nCONECT    7    5\nCONECT   15   17\nCONECT   17   15   19   18\nCONECT   18   17\nCONECT   19   20   21   22   17\nCONECT   20   19\nCONECT   21   19\nCONECT   22   19\nEND\n",
          "type": "blob"
         }
        ],
        "kwargs": {
         "defaultRepresentation": true,
         "ext": "pdb",
         "name": "nglview.adaptor.MDTrajTrajectory"
        },
        "methodName": "loadFile",
        "reconstruc_color_scheme": false,
        "target": "Stage",
        "type": "call_method"
       }
      ],
      "_ngl_original_stage_parameters": {
       "ambientColor": 14540253,
       "ambientIntensity": 0.2,
       "backgroundColor": "white",
       "cameraEyeSep": 0.3,
       "cameraFov": 40,
       "cameraType": "perspective",
       "clipDist": 10,
       "clipFar": 100,
       "clipMode": "scene",
       "clipNear": 0,
       "clipScale": "relative",
       "fogFar": 100,
       "fogNear": 50,
       "hoverTimeout": 0,
       "impostor": true,
       "lightColor": 14540253,
       "lightIntensity": 1,
       "mousePreset": "default",
       "panSpeed": 1,
       "quality": "medium",
       "rotateSpeed": 2,
       "sampleLevel": 0,
       "tooltip": true,
       "workerDefault": true,
       "zoomSpeed": 1.2
      },
      "_ngl_repr_dict": {
       "0": {
        "0": {
         "params": {
          "aspectRatio": 1.5,
          "assembly": "default",
          "bondScale": 0.3,
          "bondSpacing": 0.75,
          "clipCenter": {
           "x": 0,
           "y": 0,
           "z": 0
          },
          "clipNear": 0,
          "clipRadius": 0,
          "colorMode": "hcl",
          "colorReverse": false,
          "colorScale": "",
          "colorScheme": "element",
          "colorValue": 9474192,
          "cylinderOnly": false,
          "defaultAssembly": "",
          "depthWrite": true,
          "diffuse": 16777215,
          "diffuseInterior": false,
          "disableImpostor": false,
          "disablePicking": false,
          "flatShaded": false,
          "interiorColor": 2236962,
          "interiorDarkening": 0,
          "lazy": false,
          "lineOnly": false,
          "linewidth": 2,
          "matrix": {
           "elements": [
            1,
            0,
            0,
            0,
            0,
            1,
            0,
            0,
            0,
            0,
            1,
            0,
            0,
            0,
            0,
            1
           ]
          },
          "metalness": 0,
          "multipleBond": "off",
          "opacity": 1,
          "openEnded": true,
          "quality": "high",
          "radialSegments": 20,
          "radiusData": {},
          "radiusScale": 2,
          "radiusSize": 0.15,
          "radiusType": "size",
          "roughness": 0.4,
          "sele": "",
          "side": "double",
          "sphereDetail": 2,
          "useInteriorColor": true,
          "visible": true,
          "wireframe": false
         },
         "type": "ball+stick"
        }
       },
       "1": {
        "0": {
         "params": {
          "aspectRatio": 1.5,
          "assembly": "default",
          "bondScale": 0.3,
          "bondSpacing": 0.75,
          "clipCenter": {
           "x": 0,
           "y": 0,
           "z": 0
          },
          "clipNear": 0,
          "clipRadius": 0,
          "colorMode": "hcl",
          "colorReverse": false,
          "colorScale": "",
          "colorScheme": "element",
          "colorValue": 9474192,
          "cylinderOnly": false,
          "defaultAssembly": "",
          "depthWrite": true,
          "diffuse": 16777215,
          "diffuseInterior": false,
          "disableImpostor": false,
          "disablePicking": false,
          "flatShaded": false,
          "interiorColor": 2236962,
          "interiorDarkening": 0,
          "lazy": false,
          "lineOnly": false,
          "linewidth": 2,
          "matrix": {
           "elements": [
            1,
            0,
            0,
            0,
            0,
            1,
            0,
            0,
            0,
            0,
            1,
            0,
            0,
            0,
            0,
            1
           ]
          },
          "metalness": 0,
          "multipleBond": "off",
          "opacity": 1,
          "openEnded": true,
          "quality": "high",
          "radialSegments": 20,
          "radiusData": {},
          "radiusScale": 2,
          "radiusSize": 0.15,
          "radiusType": "size",
          "roughness": 0.4,
          "sele": "",
          "side": "double",
          "sphereDetail": 2,
          "useInteriorColor": true,
          "visible": true,
          "wireframe": false
         },
         "type": "ball+stick"
        }
       }
      },
      "_ngl_serialize": false,
      "_ngl_version": "2.0.0-dev.39",
      "_ngl_view_id": [
       "0F286DBC-7DB1-4949-BA47-2A5573BBDB40"
      ],
      "_player_dict": {},
      "_scene_position": {},
      "_scene_rotation": {},
      "_synced_model_ids": [],
      "_synced_repr_model_ids": [],
      "_view_count": null,
      "_view_height": "",
      "_view_module": "nglview-js-widgets",
      "_view_module_version": "3.0.8",
      "_view_name": "NGLView",
      "_view_width": "",
      "background": "white",
      "frame": 0,
      "gui_style": null,
      "layout": "IPY_MODEL_25b7e95abeaf4efcab15db5b11a9609e",
      "max_frame": 249999,
      "n_components": 2,
      "picked": {}
     }
    },
    "8de614e27948429b964f48274ffab662": {
     "model_module": "@jupyter-widgets/controls",
     "model_module_version": "1.5.0",
     "model_name": "ButtonStyleModel",
     "state": {
      "_model_module": "@jupyter-widgets/controls",
      "_model_module_version": "1.5.0",
      "_model_name": "ButtonStyleModel",
      "_view_count": null,
      "_view_module": "@jupyter-widgets/base",
      "_view_module_version": "1.2.0",
      "_view_name": "StyleView",
      "button_color": null,
      "font_weight": ""
     }
    },
    "8e5ab8edd5f243b78004e6bfbb5711ca": {
     "model_module": "@jupyter-widgets/controls",
     "model_module_version": "1.5.0",
     "model_name": "HBoxModel",
     "state": {
      "_dom_classes": [],
      "_model_module": "@jupyter-widgets/controls",
      "_model_module_version": "1.5.0",
      "_model_name": "HBoxModel",
      "_view_count": null,
      "_view_module": "@jupyter-widgets/controls",
      "_view_module_version": "1.5.0",
      "_view_name": "HBoxView",
      "box_style": "",
      "children": [
       "IPY_MODEL_c508ba4a9c7040579392bd1648400981",
       "IPY_MODEL_9f87100db3194278847058eed707bdd8",
       "IPY_MODEL_2b9fbf19eef34be8a41e86e16738135e"
      ],
      "layout": "IPY_MODEL_3ad52208a3674fbda480fbe2bc48e37c"
     }
    },
    "8f8bee4a2af24094a57de949590fb1d1": {
     "model_module": "@jupyter-widgets/controls",
     "model_module_version": "1.5.0",
     "model_name": "IntSliderModel",
     "state": {
      "_dom_classes": [],
      "_model_module": "@jupyter-widgets/controls",
      "_model_module_version": "1.5.0",
      "_model_name": "IntSliderModel",
      "_view_count": null,
      "_view_module": "@jupyter-widgets/controls",
      "_view_module_version": "1.5.0",
      "_view_name": "IntSliderView",
      "continuous_update": true,
      "description": "",
      "description_tooltip": null,
      "disabled": false,
      "layout": "IPY_MODEL_a24bc394db464d52af34822425808ef6",
      "max": 99,
      "min": 0,
      "orientation": "horizontal",
      "readout": true,
      "readout_format": "d",
      "step": 1,
      "style": "IPY_MODEL_73ccc889e77c45f5a705e73d32cbea5d",
      "value": 0
     }
    },
    "985b44c960974da9a14796ebc9a53e93": {
     "model_module": "@jupyter-widgets/controls",
     "model_module_version": "1.5.0",
     "model_name": "FloatProgressModel",
     "state": {
      "_dom_classes": [],
      "_model_module": "@jupyter-widgets/controls",
      "_model_module_version": "1.5.0",
      "_model_name": "FloatProgressModel",
      "_view_count": null,
      "_view_module": "@jupyter-widgets/controls",
      "_view_module_version": "1.5.0",
      "_view_name": "ProgressView",
      "bar_style": "success",
      "description": "",
      "description_tooltip": null,
      "layout": "IPY_MODEL_80627b4b1f2d4ccab1baeaa1ae205604",
      "max": 250,
      "min": 0,
      "orientation": "horizontal",
      "style": "IPY_MODEL_a325a8ff9e0048ed94d774dc6bf9dd82",
      "value": 250
     }
    },
    "9a563d60ec3b477084d6757b81289aa0": {
     "model_module": "@jupyter-widgets/controls",
     "model_module_version": "1.5.0",
     "model_name": "SliderStyleModel",
     "state": {
      "_model_module": "@jupyter-widgets/controls",
      "_model_module_version": "1.5.0",
      "_model_name": "SliderStyleModel",
      "_view_count": null,
      "_view_module": "@jupyter-widgets/base",
      "_view_module_version": "1.2.0",
      "_view_name": "StyleView",
      "description_width": "",
      "handle_color": null
     }
    },
    "9c6809e71e6c421e9ceb359de5682f21": {
     "model_module": "@jupyter-widgets/controls",
     "model_module_version": "1.5.0",
     "model_name": "ButtonStyleModel",
     "state": {
      "_model_module": "@jupyter-widgets/controls",
      "_model_module_version": "1.5.0",
      "_model_name": "ButtonStyleModel",
      "_view_count": null,
      "_view_module": "@jupyter-widgets/base",
      "_view_module_version": "1.2.0",
      "_view_name": "StyleView",
      "button_color": null,
      "font_weight": ""
     }
    },
    "9f87100db3194278847058eed707bdd8": {
     "model_module": "@jupyter-widgets/controls",
     "model_module_version": "1.5.0",
     "model_name": "FloatProgressModel",
     "state": {
      "_dom_classes": [],
      "_model_module": "@jupyter-widgets/controls",
      "_model_module_version": "1.5.0",
      "_model_name": "FloatProgressModel",
      "_view_count": null,
      "_view_module": "@jupyter-widgets/controls",
      "_view_module_version": "1.5.0",
      "_view_name": "ProgressView",
      "bar_style": "success",
      "description": "",
      "description_tooltip": null,
      "layout": "IPY_MODEL_5996f3297e7b42f79affe84f4c76a26c",
      "max": 1000,
      "min": 0,
      "orientation": "horizontal",
      "style": "IPY_MODEL_ff6e3c1b8adb4a1fb7a09272566631fe",
      "value": 1000
     }
    },
    "a24bc394db464d52af34822425808ef6": {
     "model_module": "@jupyter-widgets/base",
     "model_module_version": "1.2.0",
     "model_name": "LayoutModel",
     "state": {
      "_model_module": "@jupyter-widgets/base",
      "_model_module_version": "1.2.0",
      "_model_name": "LayoutModel",
      "_view_count": null,
      "_view_module": "@jupyter-widgets/base",
      "_view_module_version": "1.2.0",
      "_view_name": "LayoutView",
      "align_content": null,
      "align_items": null,
      "align_self": null,
      "border": null,
      "bottom": null,
      "display": null,
      "flex": null,
      "flex_flow": null,
      "grid_area": null,
      "grid_auto_columns": null,
      "grid_auto_flow": null,
      "grid_auto_rows": null,
      "grid_column": null,
      "grid_gap": null,
      "grid_row": null,
      "grid_template_areas": null,
      "grid_template_columns": null,
      "grid_template_rows": null,
      "height": null,
      "justify_content": null,
      "justify_items": null,
      "left": null,
      "margin": null,
      "max_height": null,
      "max_width": null,
      "min_height": null,
      "min_width": null,
      "object_fit": null,
      "object_position": null,
      "order": null,
      "overflow": null,
      "overflow_x": null,
      "overflow_y": null,
      "padding": null,
      "right": null,
      "top": null,
      "visibility": null,
      "width": null
     }
    },
    "a325a8ff9e0048ed94d774dc6bf9dd82": {
     "model_module": "@jupyter-widgets/controls",
     "model_module_version": "1.5.0",
     "model_name": "ProgressStyleModel",
     "state": {
      "_model_module": "@jupyter-widgets/controls",
      "_model_module_version": "1.5.0",
      "_model_name": "ProgressStyleModel",
      "_view_count": null,
      "_view_module": "@jupyter-widgets/base",
      "_view_module_version": "1.2.0",
      "_view_name": "StyleView",
      "bar_color": null,
      "description_width": ""
     }
    },
    "a3531be4c5cf4117a1030d4cbc22abf6": {
     "model_module": "@jupyter-widgets/controls",
     "model_module_version": "1.5.0",
     "model_name": "DescriptionStyleModel",
     "state": {
      "_model_module": "@jupyter-widgets/controls",
      "_model_module_version": "1.5.0",
      "_model_name": "DescriptionStyleModel",
      "_view_count": null,
      "_view_module": "@jupyter-widgets/base",
      "_view_module_version": "1.2.0",
      "_view_name": "StyleView",
      "description_width": ""
     }
    },
    "a72070278aef45c8993d59c8aed96ab9": {
     "model_module": "@jupyter-widgets/base",
     "model_module_version": "1.2.0",
     "model_name": "LayoutModel",
     "state": {
      "_model_module": "@jupyter-widgets/base",
      "_model_module_version": "1.2.0",
      "_model_name": "LayoutModel",
      "_view_count": null,
      "_view_module": "@jupyter-widgets/base",
      "_view_module_version": "1.2.0",
      "_view_name": "LayoutView",
      "align_content": null,
      "align_items": null,
      "align_self": null,
      "border": null,
      "bottom": null,
      "display": null,
      "flex": null,
      "flex_flow": null,
      "grid_area": null,
      "grid_auto_columns": null,
      "grid_auto_flow": null,
      "grid_auto_rows": null,
      "grid_column": null,
      "grid_gap": null,
      "grid_row": null,
      "grid_template_areas": null,
      "grid_template_columns": null,
      "grid_template_rows": null,
      "height": null,
      "justify_content": null,
      "justify_items": null,
      "left": null,
      "margin": null,
      "max_height": null,
      "max_width": null,
      "min_height": null,
      "min_width": null,
      "object_fit": null,
      "object_position": null,
      "order": null,
      "overflow": null,
      "overflow_x": null,
      "overflow_y": null,
      "padding": null,
      "right": null,
      "top": null,
      "visibility": null,
      "width": null
     }
    },
    "a722f5fc1d2545af9bea963c70e36304": {
     "model_module": "@jupyter-widgets/controls",
     "model_module_version": "1.5.0",
     "model_name": "DescriptionStyleModel",
     "state": {
      "_model_module": "@jupyter-widgets/controls",
      "_model_module_version": "1.5.0",
      "_model_name": "DescriptionStyleModel",
      "_view_count": null,
      "_view_module": "@jupyter-widgets/base",
      "_view_module_version": "1.2.0",
      "_view_name": "StyleView",
      "description_width": ""
     }
    },
    "a88e0c900eb24627b3cf30a3d7f2d825": {
     "model_module": "@jupyter-widgets/controls",
     "model_module_version": "1.5.0",
     "model_name": "DescriptionStyleModel",
     "state": {
      "_model_module": "@jupyter-widgets/controls",
      "_model_module_version": "1.5.0",
      "_model_name": "DescriptionStyleModel",
      "_view_count": null,
      "_view_module": "@jupyter-widgets/base",
      "_view_module_version": "1.2.0",
      "_view_name": "StyleView",
      "description_width": ""
     }
    },
    "b17516fa2c3648818a54b8c6d496d6ba": {
     "model_module": "@jupyter-widgets/controls",
     "model_module_version": "1.5.0",
     "model_name": "DescriptionStyleModel",
     "state": {
      "_model_module": "@jupyter-widgets/controls",
      "_model_module_version": "1.5.0",
      "_model_name": "DescriptionStyleModel",
      "_view_count": null,
      "_view_module": "@jupyter-widgets/base",
      "_view_module_version": "1.2.0",
      "_view_name": "StyleView",
      "description_width": ""
     }
    },
    "b51b53a0fdce4e8bb1b5853e926806c3": {
     "model_module": "@jupyter-widgets/controls",
     "model_module_version": "1.5.0",
     "model_name": "HTMLModel",
     "state": {
      "_dom_classes": [],
      "_model_module": "@jupyter-widgets/controls",
      "_model_module_version": "1.5.0",
      "_model_name": "HTMLModel",
      "_view_count": null,
      "_view_module": "@jupyter-widgets/controls",
      "_view_module_version": "1.5.0",
      "_view_name": "HTMLView",
      "description": "",
      "description_tooltip": null,
      "layout": "IPY_MODEL_7fca9868dde94fd79be245eec8764df9",
      "placeholder": "​",
      "style": "IPY_MODEL_a88e0c900eb24627b3cf30a3d7f2d825",
      "value": " 250/250 [00:04&lt;00:00, 54.76it/s]"
     }
    },
    "b7d566bd864b4157a8d1f3b1468eb544": {
     "model_module": "@jupyter-widgets/controls",
     "model_module_version": "1.5.0",
     "model_name": "HBoxModel",
     "state": {
      "_dom_classes": [],
      "_model_module": "@jupyter-widgets/controls",
      "_model_module_version": "1.5.0",
      "_model_name": "HBoxModel",
      "_view_count": null,
      "_view_module": "@jupyter-widgets/controls",
      "_view_module_version": "1.5.0",
      "_view_name": "HBoxView",
      "box_style": "",
      "children": [
       "IPY_MODEL_1afcc2367b2b4ac7b1b287227142b4f1",
       "IPY_MODEL_985b44c960974da9a14796ebc9a53e93",
       "IPY_MODEL_b51b53a0fdce4e8bb1b5853e926806c3"
      ],
      "layout": "IPY_MODEL_d7d377c61ed2461ea06d1420f15606e2"
     }
    },
    "bdd1dfae5ca148fb9599f4389205718d": {
     "model_module": "@jupyter-widgets/controls",
     "model_module_version": "1.5.0",
     "model_name": "HTMLModel",
     "state": {
      "_dom_classes": [],
      "_model_module": "@jupyter-widgets/controls",
      "_model_module_version": "1.5.0",
      "_model_name": "HTMLModel",
      "_view_count": null,
      "_view_module": "@jupyter-widgets/controls",
      "_view_module_version": "1.5.0",
      "_view_name": "HTMLView",
      "description": "",
      "description_tooltip": null,
      "layout": "IPY_MODEL_77aeaec0e2d844b7b5f8f16eba6d208d",
      "placeholder": "​",
      "style": "IPY_MODEL_555dce3ac2894cac85d5c94efd96796d",
      "value": " 250/250 [00:24&lt;00:00, 10.04it/s]"
     }
    },
    "c275d26e78964158a88eec73b7bf3b08": {
     "model_module": "@jupyter-widgets/base",
     "model_module_version": "1.2.0",
     "model_name": "LayoutModel",
     "state": {
      "_model_module": "@jupyter-widgets/base",
      "_model_module_version": "1.2.0",
      "_model_name": "LayoutModel",
      "_view_count": null,
      "_view_module": "@jupyter-widgets/base",
      "_view_module_version": "1.2.0",
      "_view_name": "LayoutView",
      "align_content": null,
      "align_items": null,
      "align_self": null,
      "border": null,
      "bottom": null,
      "display": null,
      "flex": null,
      "flex_flow": null,
      "grid_area": null,
      "grid_auto_columns": null,
      "grid_auto_flow": null,
      "grid_auto_rows": null,
      "grid_column": null,
      "grid_gap": null,
      "grid_row": null,
      "grid_template_areas": null,
      "grid_template_columns": null,
      "grid_template_rows": null,
      "height": null,
      "justify_content": null,
      "justify_items": null,
      "left": null,
      "margin": null,
      "max_height": null,
      "max_width": null,
      "min_height": null,
      "min_width": null,
      "object_fit": null,
      "object_position": null,
      "order": null,
      "overflow": null,
      "overflow_x": null,
      "overflow_y": null,
      "padding": null,
      "right": null,
      "top": null,
      "visibility": null,
      "width": null
     }
    },
    "c508ba4a9c7040579392bd1648400981": {
     "model_module": "@jupyter-widgets/controls",
     "model_module_version": "1.5.0",
     "model_name": "HTMLModel",
     "state": {
      "_dom_classes": [],
      "_model_module": "@jupyter-widgets/controls",
      "_model_module_version": "1.5.0",
      "_model_name": "HTMLModel",
      "_view_count": null,
      "_view_module": "@jupyter-widgets/controls",
      "_view_module_version": "1.5.0",
      "_view_name": "HTMLView",
      "description": "",
      "description_tooltip": null,
      "layout": "IPY_MODEL_8c0f5b6c5f2f429b8e2e4ed0d9c6be8e",
      "placeholder": "​",
      "style": "IPY_MODEL_6f576eb94cb24c6ab44c241f1d254b45",
      "value": "sampling loop time step: 100%"
     }
    },
    "cdae90d1405447fba7ab92758b7c587e": {
     "model_module": "@jupyter-widgets/base",
     "model_module_version": "1.2.0",
     "model_name": "LayoutModel",
     "state": {
      "_model_module": "@jupyter-widgets/base",
      "_model_module_version": "1.2.0",
      "_model_name": "LayoutModel",
      "_view_count": null,
      "_view_module": "@jupyter-widgets/base",
      "_view_module_version": "1.2.0",
      "_view_name": "LayoutView",
      "align_content": null,
      "align_items": null,
      "align_self": null,
      "border": null,
      "bottom": null,
      "display": null,
      "flex": null,
      "flex_flow": null,
      "grid_area": null,
      "grid_auto_columns": null,
      "grid_auto_flow": null,
      "grid_auto_rows": null,
      "grid_column": null,
      "grid_gap": null,
      "grid_row": null,
      "grid_template_areas": null,
      "grid_template_columns": null,
      "grid_template_rows": null,
      "height": null,
      "justify_content": null,
      "justify_items": null,
      "left": null,
      "margin": null,
      "max_height": null,
      "max_width": null,
      "min_height": null,
      "min_width": null,
      "object_fit": null,
      "object_position": null,
      "order": null,
      "overflow": null,
      "overflow_x": null,
      "overflow_y": null,
      "padding": null,
      "right": null,
      "top": null,
      "visibility": null,
      "width": null
     }
    },
    "cf117bce95ea4c3995b9af9a60555b34": {
     "model_module": "@jupyter-widgets/controls",
     "model_module_version": "1.5.0",
     "model_name": "HTMLModel",
     "state": {
      "_dom_classes": [],
      "_model_module": "@jupyter-widgets/controls",
      "_model_module_version": "1.5.0",
      "_model_name": "HTMLModel",
      "_view_count": null,
      "_view_module": "@jupyter-widgets/controls",
      "_view_module_version": "1.5.0",
      "_view_name": "HTMLView",
      "description": "",
      "description_tooltip": null,
      "layout": "IPY_MODEL_a72070278aef45c8993d59c8aed96ab9",
      "placeholder": "​",
      "style": "IPY_MODEL_5ff0e84cd84242f0afee68d1bceb6081",
      "value": "Epoch 2: 100%"
     }
    },
    "d7d377c61ed2461ea06d1420f15606e2": {
     "model_module": "@jupyter-widgets/base",
     "model_module_version": "1.2.0",
     "model_name": "LayoutModel",
     "state": {
      "_model_module": "@jupyter-widgets/base",
      "_model_module_version": "1.2.0",
      "_model_name": "LayoutModel",
      "_view_count": null,
      "_view_module": "@jupyter-widgets/base",
      "_view_module_version": "1.2.0",
      "_view_name": "LayoutView",
      "align_content": null,
      "align_items": null,
      "align_self": null,
      "border": null,
      "bottom": null,
      "display": "inline-flex",
      "flex": null,
      "flex_flow": "row wrap",
      "grid_area": null,
      "grid_auto_columns": null,
      "grid_auto_flow": null,
      "grid_auto_rows": null,
      "grid_column": null,
      "grid_gap": null,
      "grid_row": null,
      "grid_template_areas": null,
      "grid_template_columns": null,
      "grid_template_rows": null,
      "height": null,
      "justify_content": null,
      "justify_items": null,
      "left": null,
      "margin": null,
      "max_height": null,
      "max_width": null,
      "min_height": null,
      "min_width": null,
      "object_fit": null,
      "object_position": null,
      "order": null,
      "overflow": null,
      "overflow_x": null,
      "overflow_y": null,
      "padding": null,
      "right": null,
      "top": null,
      "visibility": null,
      "width": "100%"
     }
    },
    "d8e1a54ef4cd41b7966c5ca01121fee5": {
     "model_module": "@jupyter-widgets/controls",
     "model_module_version": "1.5.0",
     "model_name": "ProgressStyleModel",
     "state": {
      "_model_module": "@jupyter-widgets/controls",
      "_model_module_version": "1.5.0",
      "_model_name": "ProgressStyleModel",
      "_view_count": null,
      "_view_module": "@jupyter-widgets/base",
      "_view_module_version": "1.2.0",
      "_view_name": "StyleView",
      "bar_color": null,
      "description_width": ""
     }
    },
    "dbefea28e5434ca1858484f3c00a2d97": {
     "model_module": "nglview-js-widgets",
     "model_module_version": "3.0.8",
     "model_name": "ColormakerRegistryModel",
     "state": {
      "_dom_classes": [],
      "_model_module": "nglview-js-widgets",
      "_model_module_version": "3.0.8",
      "_model_name": "ColormakerRegistryModel",
      "_msg_ar": [],
      "_msg_q": [],
      "_ready": false,
      "_view_count": null,
      "_view_module": "nglview-js-widgets",
      "_view_module_version": "3.0.8",
      "_view_name": "ColormakerRegistryView",
      "layout": "IPY_MODEL_3b8a0804e653406ab1d4b9e4e30c1f2b"
     }
    },
    "eadc8aa7e7b54137a06e2b971c8a0eac": {
     "model_module": "@jupyter-widgets/base",
     "model_module_version": "1.2.0",
     "model_name": "LayoutModel",
     "state": {
      "_model_module": "@jupyter-widgets/base",
      "_model_module_version": "1.2.0",
      "_model_name": "LayoutModel",
      "_view_count": null,
      "_view_module": "@jupyter-widgets/base",
      "_view_module_version": "1.2.0",
      "_view_name": "LayoutView",
      "align_content": null,
      "align_items": null,
      "align_self": null,
      "border": null,
      "bottom": null,
      "display": null,
      "flex": null,
      "flex_flow": null,
      "grid_area": null,
      "grid_auto_columns": null,
      "grid_auto_flow": null,
      "grid_auto_rows": null,
      "grid_column": null,
      "grid_gap": null,
      "grid_row": null,
      "grid_template_areas": null,
      "grid_template_columns": null,
      "grid_template_rows": null,
      "height": null,
      "justify_content": null,
      "justify_items": null,
      "left": null,
      "margin": null,
      "max_height": null,
      "max_width": null,
      "min_height": null,
      "min_width": null,
      "object_fit": null,
      "object_position": null,
      "order": null,
      "overflow": null,
      "overflow_x": null,
      "overflow_y": null,
      "padding": null,
      "right": null,
      "top": null,
      "visibility": null,
      "width": null
     }
    },
    "f3f43a45d8224c979aed7a2d874aef68": {
     "model_module": "@jupyter-widgets/base",
     "model_module_version": "1.2.0",
     "model_name": "LayoutModel",
     "state": {
      "_model_module": "@jupyter-widgets/base",
      "_model_module_version": "1.2.0",
      "_model_name": "LayoutModel",
      "_view_count": null,
      "_view_module": "@jupyter-widgets/base",
      "_view_module_version": "1.2.0",
      "_view_name": "LayoutView",
      "align_content": null,
      "align_items": null,
      "align_self": null,
      "border": null,
      "bottom": null,
      "display": null,
      "flex": null,
      "flex_flow": null,
      "grid_area": null,
      "grid_auto_columns": null,
      "grid_auto_flow": null,
      "grid_auto_rows": null,
      "grid_column": null,
      "grid_gap": null,
      "grid_row": null,
      "grid_template_areas": null,
      "grid_template_columns": null,
      "grid_template_rows": null,
      "height": null,
      "justify_content": null,
      "justify_items": null,
      "left": null,
      "margin": null,
      "max_height": null,
      "max_width": null,
      "min_height": null,
      "min_width": null,
      "object_fit": null,
      "object_position": null,
      "order": null,
      "overflow": null,
      "overflow_x": null,
      "overflow_y": null,
      "padding": null,
      "right": null,
      "top": null,
      "visibility": null,
      "width": null
     }
    },
    "ff6e3c1b8adb4a1fb7a09272566631fe": {
     "model_module": "@jupyter-widgets/controls",
     "model_module_version": "1.5.0",
     "model_name": "ProgressStyleModel",
     "state": {
      "_model_module": "@jupyter-widgets/controls",
      "_model_module_version": "1.5.0",
      "_model_name": "ProgressStyleModel",
      "_view_count": null,
      "_view_module": "@jupyter-widgets/base",
      "_view_module_version": "1.2.0",
      "_view_name": "StyleView",
      "bar_color": null,
      "description_width": ""
     }
    }
   }
  }
 },
 "nbformat": 4,
 "nbformat_minor": 4
}
